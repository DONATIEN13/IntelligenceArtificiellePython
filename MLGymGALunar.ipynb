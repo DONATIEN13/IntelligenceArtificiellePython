{
  "nbformat": 4,
  "nbformat_minor": 0,
  "metadata": {
    "kernelspec": {
      "display_name": "Python 3",
      "language": "python",
      "name": "python3"
    },
    "language_info": {
      "codemirror_mode": {
        "name": "ipython",
        "version": 3
      },
      "file_extension": ".py",
      "mimetype": "text/x-python",
      "name": "python",
      "nbconvert_exporter": "python",
      "pygments_lexer": "ipython3",
      "version": "3.8.2"
    },
    "colab": {
      "name": "MLGymGALunar.ipynb",
      "provenance": []
    }
  },
  "cells": [
    {
      "cell_type": "markdown",
      "metadata": {
        "id": "2U1cvSyEc8QL"
      },
      "source": [
        "<a href=\"https://colab.research.google.com/github/EmmanuelADAM/IntelligenceArtificiellePython/blob/master/TPMLGymGA.ipynb\" target=\"_parent\"><img src=\"https://colab.research.google.com/assets/colab-badge.svg\" alt=\"Open In Colab\"/></a>"
      ]
    },
    {
      "cell_type": "markdown",
      "metadata": {
        "id": "R1JGLAgwc8QT"
      },
      "source": [
        "# Machine Learning\n",
        "## Appliqué à [Gym.OpenAI]((https://gym.openai.com)"
      ]
    },
    {
      "cell_type": "markdown",
      "metadata": {
        "id": "jAxBcni7c8QU"
      },
      "source": [
        "Voir la page d'[introduction à Gym](https://github.com/EmmanuelADAM/IntelligenceArtificiellePython/blob/master/TPMLIntroGym.ipynb)."
      ]
    },
    {
      "cell_type": "markdown",
      "metadata": {
        "id": "OkeRn1dSc8QV"
      },
      "source": [
        "### Installation de gym"
      ]
    },
    {
      "cell_type": "markdown",
      "metadata": {
        "id": "x7FmTurCc8QV"
      },
      "source": [
        "#### Outil AUTRE QUE COLAB (pyzo, jupyter lab, .....)"
      ]
    },
    {
      "cell_type": "code",
      "metadata": {
        "colab": {
          "base_uri": "https://localhost:8080/"
        },
        "id": "t3tktHV8c8QV",
        "outputId": "e0ec7614-5e5d-4842-e7d0-a2619333db79"
      },
      "source": [
        "!pip install gym\n",
        "!pip install Box2D\n"
      ],
      "execution_count": 1,
      "outputs": [
        {
          "output_type": "stream",
          "text": [
            "Requirement already satisfied: gym in /usr/local/lib/python3.7/dist-packages (0.17.3)\n",
            "Requirement already satisfied: pyglet<=1.5.0,>=1.4.0 in /usr/local/lib/python3.7/dist-packages (from gym) (1.5.0)\n",
            "Requirement already satisfied: scipy in /usr/local/lib/python3.7/dist-packages (from gym) (1.4.1)\n",
            "Requirement already satisfied: cloudpickle<1.7.0,>=1.2.0 in /usr/local/lib/python3.7/dist-packages (from gym) (1.3.0)\n",
            "Requirement already satisfied: numpy>=1.10.4 in /usr/local/lib/python3.7/dist-packages (from gym) (1.19.5)\n",
            "Requirement already satisfied: future in /usr/local/lib/python3.7/dist-packages (from pyglet<=1.5.0,>=1.4.0->gym) (0.16.0)\n",
            "Requirement already satisfied: Box2D in /usr/local/lib/python3.7/dist-packages (2.3.10)\n"
          ],
          "name": "stdout"
        }
      ]
    },
    {
      "cell_type": "code",
      "metadata": {
        "id": "Fh6bGseSc8QW"
      },
      "source": [
        "#GYM\n",
        "import gym\n",
        "import Box2D as b2\n",
        "\n",
        "#Random\n",
        "from random import  randint\n",
        "#\n",
        "from math import exp\n",
        "#for sorting\n",
        "import functools\n",
        "#array\n",
        "import numpy as np\n",
        "\n",
        "#for charts\n",
        "import matplotlib.pyplot as plt\n",
        "#On MAc : \n",
        "#import matplotlib\n",
        "#matplotlib.use(\"MacOSX\")"
      ],
      "execution_count": null,
      "outputs": []
    },
    {
      "cell_type": "markdown",
      "metadata": {
        "id": "XmkvWHemc8QW"
      },
      "source": [
        "#### <font color=red>Sous colab</font>\n",
        "*Sous colab, l'affichage ne sera pas dynamique.. Il faudra passer soit par un rendu sous forme de plot (matplotlib), soit passer par une vidéo à enregistrer...*\n",
        "\n",
        "***Solution pour affichage statique***<br>\n",
        "*Il vous faut importer, seulement si vous utilisez colab, les packages suivants :*"
      ]
    },
    {
      "cell_type": "code",
      "metadata": {
        "colab": {
          "base_uri": "https://localhost:8080/"
        },
        "id": "F9fLsDsQc8QX",
        "outputId": "2ffa58ee-b724-4807-bbe9-6116d2313293"
      },
      "source": [
        "!sudo apt-get update\n",
        "!pip install gym pyvirtualdisplay > /dev/null 2>&1\n",
        "!apt-get install -y xvfb python-opengl ffmpeg > /dev/null 2>&1"
      ],
      "execution_count": 2,
      "outputs": [
        {
          "output_type": "stream",
          "text": [
            "\r0% [Working]\r            \rHit:1 http://security.ubuntu.com/ubuntu bionic-security InRelease\n",
            "\r0% [Connecting to archive.ubuntu.com (91.189.88.142)] [Connected to cloud.r-pro\r0% [1 InRelease gpgv 88.7 kB] [Connecting to archive.ubuntu.com (91.189.88.142)\r                                                                               \rIgn:2 https://developer.download.nvidia.com/compute/cuda/repos/ubuntu1804/x86_64  InRelease\n",
            "\r0% [1 InRelease gpgv 88.7 kB] [Waiting for headers] [Waiting for headers] [Wait\r                                                                               \rHit:3 https://cloud.r-project.org/bin/linux/ubuntu bionic-cran40/ InRelease\n",
            "\r0% [1 InRelease gpgv 88.7 kB] [Waiting for headers] [Waiting for headers] [Wait\r                                                                               \rHit:4 http://ppa.launchpad.net/c2d4u.team/c2d4u4.0+/ubuntu bionic InRelease\n",
            "Hit:5 http://archive.ubuntu.com/ubuntu bionic InRelease\n",
            "Ign:6 https://developer.download.nvidia.com/compute/machine-learning/repos/ubuntu1804/x86_64  InRelease\n",
            "Hit:7 https://developer.download.nvidia.com/compute/cuda/repos/ubuntu1804/x86_64  Release\n",
            "Hit:8 https://developer.download.nvidia.com/compute/machine-learning/repos/ubuntu1804/x86_64  Release\n",
            "Get:9 http://archive.ubuntu.com/ubuntu bionic-updates InRelease [88.7 kB]\n",
            "Hit:10 http://ppa.launchpad.net/cran/libgit2/ubuntu bionic InRelease\n",
            "Hit:11 http://ppa.launchpad.net/deadsnakes/ppa/ubuntu bionic InRelease\n",
            "Get:12 http://archive.ubuntu.com/ubuntu bionic-backports InRelease [74.6 kB]\n",
            "Hit:15 http://ppa.launchpad.net/graphics-drivers/ppa/ubuntu bionic InRelease\n",
            "Fetched 163 kB in 1s (139 kB/s)\n",
            "Reading package lists... Done\n"
          ],
          "name": "stdout"
        }
      ]
    },
    {
      "cell_type": "code",
      "metadata": {
        "colab": {
          "base_uri": "https://localhost:8080/"
        },
        "id": "KPaC4E6coJBd",
        "outputId": "22318698-0cab-4867-b6a5-18fda5b38f47"
      },
      "source": [
        "!apt-get update > /dev/null 2>&1\n",
        "!apt-get install cmake > /dev/null 2>&1\n",
        "!pip install --upgrade setuptools 2>&1\n",
        "!pip install ez_setup > /dev/null 2>&1"
      ],
      "execution_count": 3,
      "outputs": [
        {
          "output_type": "stream",
          "text": [
            "Requirement already up-to-date: setuptools in /usr/local/lib/python3.7/dist-packages (56.0.0)\n"
          ],
          "name": "stdout"
        }
      ]
    },
    {
      "cell_type": "code",
      "metadata": {
        "id": "Z2gvn7eFrVAr"
      },
      "source": [
        "#GYM\n",
        "import gym\n",
        "from gym.wrappers import Monitor\n",
        "import glob\n",
        "import io\n",
        "import base64\n",
        "from IPython.display import HTML\n",
        "from pyvirtualdisplay import Display\n",
        "from IPython import display as ipythondisplay\n",
        "\n",
        "display = Display(visible=0, size=(1400, 900))\n",
        "display.start()\n",
        "\n",
        "\"\"\"\n",
        "Utility functions to enable video recording of gym environment \n",
        "and displaying it.\n",
        "To enable video, just do \"env = wrap_env(env)\"\"\n",
        "\"\"\"\n",
        "\n",
        "def show_video():\n",
        "  mp4list = glob.glob('video/*.mp4')\n",
        "  if len(mp4list) > 0:\n",
        "    mp4 = mp4list[0]\n",
        "    video = io.open(mp4, 'r+b').read()\n",
        "    encoded = base64.b64encode(video)\n",
        "    ipythondisplay.display(HTML(data='''<video alt=\"test\" autoplay \n",
        "                loop controls style=\"height: 400px;\">\n",
        "                <source src=\"data:video/mp4;base64,{0}\" type=\"video/mp4\" />\n",
        "             </video>'''.format(encoded.decode('ascii'))))\n",
        "  else: \n",
        "    print(\"Could not find video\")\n",
        "    \n",
        "\n",
        "def wrap_env(env):\n",
        "  env = Monitor(env, './video', force=True)\n",
        "  return env"
      ],
      "execution_count": 1,
      "outputs": []
    },
    {
      "cell_type": "code",
      "metadata": {
        "id": "RdRAbqsLc8QX"
      },
      "source": [
        "#GYM\n",
        "import gym\n",
        "import Box2D as b2\n",
        "\n",
        "#Random\n",
        "from random import  randint\n",
        "#\n",
        "from math import exp\n",
        "#for sorting\n",
        "import functools\n",
        "#array\n",
        "import numpy as np\n",
        "\n",
        "#for charts\n",
        "import matplotlib.pyplot as plt\n"
      ],
      "execution_count": 2,
      "outputs": []
    },
    {
      "cell_type": "markdown",
      "metadata": {
        "id": "M0CKlm8yc8QX"
      },
      "source": [
        "---\n",
        "## Charger l' environnement\n",
        "On utilise ici l'environnement `LunarLander-v2`.\n"
      ]
    },
    {
      "cell_type": "code",
      "metadata": {
        "id": "vslFd4bsc8QY"
      },
      "source": [
        "env = gym.make('LunarLander-v2') "
      ],
      "execution_count": 7,
      "outputs": []
    },
    {
      "cell_type": "markdown",
      "metadata": {
        "id": "Fq51caAquYXx"
      },
      "source": [
        "#### <font color=red><b>Sous colab</b></font>"
      ]
    },
    {
      "cell_type": "code",
      "metadata": {
        "id": "SMluStWEudGS"
      },
      "source": [
        "env = wrap_env(gym.make(\"LunarLander-v2\"))"
      ],
      "execution_count": 3,
      "outputs": []
    },
    {
      "cell_type": "markdown",
      "metadata": {
        "id": "f6uBQVeSc8QY"
      },
      "source": [
        "---\n",
        "### Les valeurs des caractéristiques\n",
        "Pour `LunarLander-v2`, vous trouverez l'explication des valeurs [ici](https://gym.openai.com/envs/LunarLander-v2/).\n",
        "\n",
        "Il s'agit de faire atterrir une sonde sur une planète.\n",
        "\n",
        "L'espace des actions est une valeur discrète dans l'intervalle [0,3] : \n",
        "  - 0 : Ne rien faire\n",
        "  - 1 : allumage du moteur gauche\n",
        "  - 2 : allumage du moteur central\n",
        "  - 3 : allumage du moteur droit\n",
        "\n",
        "Les observations sont au nombre de 8 : \n",
        "  - obs[0] : coordonnée horizontale\n",
        "  - obs[1] : coordonnée verticale\n",
        "  - obs[2] : vitesse horizontale\n",
        "  - obs[3] : vitesse verticale\n",
        "  - obs[4] : angle de la sonde\n",
        "  - obs[5] : vitesse angulaire (de rotation)\n",
        "  - obs[6] : 1 si le pied gauche de la sonde est au contact du sol, 0 sinon\n",
        "  - obs[7] : 1 si le pied droit de la sonde est au contact du sol, 0 sinon\n",
        "\n",
        "Le but est donc de faire atterrir la sonde dans une position donnée (0,0) avec une vitesse suffisamment faible pour éviter le crash.\n"
      ]
    },
    {
      "cell_type": "code",
      "metadata": {
        "colab": {
          "base_uri": "https://localhost:8080/"
        },
        "id": "09ECNjqVc8QY",
        "outputId": "5056721b-7f8e-4cdb-dd3b-2bed2a6e0783"
      },
      "source": [
        "print(env.spec)\n",
        "print(\"nombre et type d'actions = \", env.action_space) \n",
        "print(\"nombre et type d'observations = \", env.observation_space) \n",
        "print(\"valeurs de  observations les plus basses = \", env.observation_space.low) \n",
        "print(\"valeurs de observations les plus elevées = \", env.observation_space.high) "
      ],
      "execution_count": 4,
      "outputs": [
        {
          "output_type": "stream",
          "text": [
            "EnvSpec(LunarLander-v2)\n",
            "nombre et type d'actions =  Discrete(4)\n",
            "nombre et type d'observations =  Box(-inf, inf, (8,), float32)\n",
            "valeurs de  observations les plus basses =  [-inf -inf -inf -inf -inf -inf -inf -inf]\n",
            "valeurs de observations les plus elevées =  [inf inf inf inf inf inf inf inf]\n"
          ],
          "name": "stdout"
        }
      ]
    },
    {
      "cell_type": "markdown",
      "metadata": {
        "id": "4H9Oy9y0c8QZ"
      },
      "source": [
        "### (Re)Initialiser l'environnement\n",
        "`env.reset()` initialise les variables d'environnement. L'exécution est obligatoire après avoir chargé l'environnement. Ici ce sont les coordonnées, l'angle et les vitesses.\n",
        "\n",
        "C'est un environnement non déterministe par défaut, `env.reset()` retourne des valeurs légèrement différentes à chaque exécution : "
      ]
    },
    {
      "cell_type": "code",
      "metadata": {
        "colab": {
          "base_uri": "https://localhost:8080/"
        },
        "id": "OeQdQyPVc8Qa",
        "outputId": "90f3ab5b-7b4f-4973-988c-053a0c23b331"
      },
      "source": [
        "env.reset()"
      ],
      "execution_count": 29,
      "outputs": [
        {
          "output_type": "execute_result",
          "data": {
            "text/plain": [
              "array([-0.00364351,  1.4210072 , -0.36906666,  0.4482938 ,  0.00422874,\n",
              "        0.08359913,  0.        ,  0.        ], dtype=float32)"
            ]
          },
          "metadata": {
            "tags": []
          },
          "execution_count": 29
        }
      ]
    },
    {
      "cell_type": "markdown",
      "metadata": {
        "id": "ORi7Ad0Gc8Qa"
      },
      "source": [
        "L'algorithme génétique se prète mal aux environnement non stables; aussi nous utiliserons la fonction suivante pour fixer les vitesses et angles initiaux : "
      ]
    },
    {
      "cell_type": "code",
      "metadata": {
        "id": "bj1H4n1qc8Qa"
      },
      "source": [
        "def reset():\n",
        "    env.reset();\n",
        "    env.lander.angle=0\n",
        "    env.lander.angularVelocity = 0\n",
        "    env.lander.ApplyForceToCenter( (0,0,), False)\n",
        "    env.lander.linearVelocity = b2.b2Vec2()"
      ],
      "execution_count": 5,
      "outputs": []
    },
    {
      "cell_type": "markdown",
      "metadata": {
        "id": "9h3mgRypc8Qb"
      },
      "source": [
        "---\n",
        "### Les actions\n",
        "- Dans `LunarLander-v2` : [-1.0] fait reculer le véhicule d'une force 1, [0] le met au point mort, [1.0] le fait avancer d'une force 1\n",
        "\n",
        "- ***Exécuter une action :***\n",
        "  - *exécution* : `observation, reward,done,info = env.step(action)`\n",
        "    - `observation`: ici les 8 éléments d'observation\n",
        "    - `reward`: utilité de l'état (récompense 100 si bien posé, -100 si crash)\n",
        "    - `done` : booléen (True si but (position) atteinte)\n",
        "    - `info` : éventuelle information retournée par l'outil"
      ]
    },
    {
      "cell_type": "markdown",
      "metadata": {
        "id": "px6f9SKSc8Qb"
      },
      "source": [
        "**Exemples d'actions**"
      ]
    },
    {
      "cell_type": "code",
      "metadata": {
        "id": "DfPNsQDBc8Qb"
      },
      "source": [
        "def test_action(no: int, nb: int = 1):\n",
        "    \"\"\"effectue nb fois l'action no dans l'environnement chargé\"\"\"\n",
        "    done:bool = False\n",
        "    i:int = 0\n",
        "    while i<nb and not done:\n",
        "        i += 1\n",
        "        env.render()\n",
        "        obs, reward, done, _ = env.step(no)\n",
        "        print(reward, done)\n",
        "    return done\n",
        "\n",
        "def test():\n",
        "  done = test_action(2, 40)\n",
        "  if (not done): done = test_action(0, 40)\n",
        "  if (not done): done = test_action(1, 40)\n",
        "  if (not done): done = test_action(3, 40)"
      ],
      "execution_count": 15,
      "outputs": []
    },
    {
      "cell_type": "code",
      "metadata": {
        "colab": {
          "base_uri": "https://localhost:8080/"
        },
        "id": "BUwg5Vf_c8Qb",
        "outputId": "87245a75-a118-43f6-efa9-f7a1697d2edc"
      },
      "source": [
        "env = wrap_env(gym.make(\"LunarLander-v2\"))\n",
        "reset()\n",
        "test()"
      ],
      "execution_count": 16,
      "outputs": [
        {
          "output_type": "stream",
          "text": [
            "36.53142998979878 False\n",
            "-4.539322218051967 False\n",
            "-1.492186184289426 False\n",
            "-4.713936032741077 False\n",
            "-4.023913745318214 False\n",
            "-4.031389537123277 False\n",
            "-4.036947491524518 False\n",
            "-2.747512772697621 False\n",
            "-1.9133675593171688 False\n",
            "-3.6197930762454176 False\n",
            "-3.5973139500932403 False\n",
            "-4.080878650723281 False\n",
            "-4.655643326636226 False\n",
            "-4.747916535490492 False\n",
            "-1.4227444263750215 False\n",
            "-4.82456359436249 False\n",
            "-5.126926710872897 False\n",
            "-4.2788684933130865 False\n",
            "-5.905320216879875 False\n",
            "-2.2648723431561733 False\n",
            "-4.340973023891979 False\n",
            "-4.798524406387815 False\n",
            "-4.470228855443298 False\n",
            "-4.6784003631662925 False\n",
            "-3.0925631047869215 False\n",
            "-2.0811297808597713 False\n",
            "-5.719191398295908 False\n",
            "-5.629898969376273 False\n",
            "-2.547599267370674 False\n",
            "-3.8650637440781734 False\n",
            "-6.119310982893967 False\n",
            "-5.666954891177499 False\n",
            "-6.803080889349633 False\n",
            "-2.3956051882509426 False\n",
            "-5.004953156176373 False\n",
            "-2.6366108418667293 False\n",
            "-3.2053035651652406 False\n",
            "-6.795889766821278 False\n",
            "-6.040486767473214 False\n",
            "-3.7094074689463126 False\n",
            "0.09756216874853862 False\n",
            "0.1571775576444452 False\n",
            "0.21677950092544052 False\n",
            "0.27638947975020756 False\n",
            "0.335932083107366 False\n",
            "0.39540827808360746 False\n",
            "0.4548558191267489 False\n",
            "0.5142877704644206 False\n",
            "0.573610182734285 False\n",
            "0.632904735847319 False\n",
            "0.6920618300811157 False\n",
            "0.7511755577754684 False\n",
            "0.8101207423862888 False\n",
            "0.8689650066430659 False\n",
            "0.9276387359624891 False\n",
            "0.9861251325863805 False\n",
            "1.0444008847645705 False\n",
            "1.1023247229505841 False\n",
            "1.1599417772455922 False\n",
            "1.2170526768712762 False\n",
            "1.2736398318546094 False\n",
            "1.329430052330622 False\n",
            "1.3842906655526122 False\n",
            "1.4377997904751965 False\n",
            "1.4895676684926684 False\n",
            "1.538790444440906 False\n",
            "1.584350526762023 False\n",
            "1.624506532962414 False\n",
            "1.6560780239867086 False\n",
            "1.6736966785820186 False\n",
            "1.6667884781481348 False\n",
            "1.6141289645683514 False\n",
            "1.4694515895469067 False\n",
            "1.132275187265975 False\n",
            "0.43613031943340275 False\n",
            "-0.6322239158426441 False\n",
            "-1.6234240274249032 False\n",
            "-2.2030263349080315 False\n",
            "-2.471721693700829 False\n",
            "-2.583673313479551 False\n",
            "-3.5026013146994317 False\n",
            "-3.4615364191213005 False\n",
            "-3.544820483201845 False\n",
            "-3.918587159361691 False\n",
            "-3.9704863203503735 False\n",
            "-4.293583459527468 False\n",
            "-4.176812837744904 False\n",
            "-4.468259426393586 False\n",
            "-4.6158148949126305 False\n",
            "-4.699357584638533 False\n",
            "-5.0965538525611285 False\n",
            "-5.1622265128183065 False\n",
            "-5.244999951693358 False\n",
            "-5.315079016592647 False\n",
            "-5.335172702526818 False\n",
            "-5.449127687265757 False\n",
            "-5.698651928718646 False\n",
            "-6.027642083079029 False\n",
            "-6.006718971837613 False\n",
            "-6.13254227018595 False\n",
            "-6.390524782343305 False\n",
            "-6.644010335053706 False\n",
            "-6.977163420483605 False\n",
            "-6.766349937304283 False\n",
            "-7.195919816679321 False\n",
            "-7.398380672932801 False\n",
            "-7.549531254704475 False\n",
            "-7.776853552199127 False\n",
            "-7.672377929226825 False\n",
            "-8.094801561489616 False\n",
            "-8.156803322751811 False\n",
            "-8.567147582780732 False\n",
            "-8.633526760784802 False\n",
            "-8.77084604272025 False\n",
            "-8.837896596599675 False\n",
            "-8.997619646559114 False\n",
            "-9.14569012119952 False\n",
            "-9.194495480147422 False\n",
            "-9.391113237227527 False\n",
            "-9.422655129298645 False\n",
            "-8.493397352304696 False\n",
            "-8.226222002978515 False\n",
            "-8.020563201729855 False\n",
            "-7.7297441662164195 False\n",
            "-7.593136187960368 False\n",
            "-7.414795885834365 False\n",
            "-7.227278361837903 False\n",
            "-6.994439372874722 False\n",
            "-6.764962766857962 False\n",
            "-6.5189845719184225 False\n",
            "-6.290584057804863 False\n",
            "-6.198487205790257 False\n",
            "-5.963186362758306 False\n",
            "-5.741034905619727 False\n",
            "-5.51582670652786 False\n",
            "-5.225751720392309 False\n",
            "-4.930643615684544 False\n",
            "-4.877605328626969 False\n",
            "-4.546078594126839 False\n",
            "-4.456379025891947 False\n",
            "-3.9855307775324307 False\n",
            "-3.8618544704459326 False\n",
            "-3.6051346327951976 False\n",
            "-3.5444387434734197 False\n",
            "-3.116224448943767 False\n",
            "-2.909667570322226 False\n",
            "-2.856182460966265 False\n",
            "-2.568532107960691 False\n",
            "-2.320573242944674 False\n",
            "-2.2053440155400765 False\n",
            "-2.1258745642235497 False\n",
            "-2.1099129292496444 False\n",
            "-2.361117845334461 False\n",
            "-2.3493609877628203 False\n",
            "-2.865228302435098 False\n",
            "6.501241427704572 False\n",
            "72.153323352368 False\n",
            "-100 True\n"
          ],
          "name": "stdout"
        }
      ]
    },
    {
      "cell_type": "markdown",
      "metadata": {
        "id": "D-SnpGn6vNtE"
      },
      "source": [
        "\n",
        "\n",
        "**Sous Colab**\n"
      ]
    },
    {
      "cell_type": "code",
      "metadata": {
        "colab": {
          "base_uri": "https://localhost:8080/",
          "height": 421
        },
        "id": "DGcpVWwhvM_h",
        "outputId": "e1d4f1a0-67da-4ea4-ad4c-13123c009ca7"
      },
      "source": [
        "env.close()\n",
        "show_video()"
      ],
      "execution_count": 17,
      "outputs": [
        {
          "output_type": "display_data",
          "data": {
            "text/html": [
              "<video alt=\"test\" autoplay \n",
              "                loop controls style=\"height: 400px;\">\n",
              "                <source src=\"data:video/mp4;base64,AAAAIGZ0eXBpc29tAAACAGlzb21pc28yYXZjMW1wNDEAAAAIZnJlZQAAQQBtZGF0AAACrgYF//+q3EXpvebZSLeWLNgg2SPu73gyNjQgLSBjb3JlIDE1MiByMjg1NCBlOWE1OTAzIC0gSC4yNjQvTVBFRy00IEFWQyBjb2RlYyAtIENvcHlsZWZ0IDIwMDMtMjAxNyAtIGh0dHA6Ly93d3cudmlkZW9sYW4ub3JnL3gyNjQuaHRtbCAtIG9wdGlvbnM6IGNhYmFjPTEgcmVmPTMgZGVibG9jaz0xOjA6MCBhbmFseXNlPTB4MzoweDExMyBtZT1oZXggc3VibWU9NyBwc3k9MSBwc3lfcmQ9MS4wMDowLjAwIG1peGVkX3JlZj0xIG1lX3JhbmdlPTE2IGNocm9tYV9tZT0xIHRyZWxsaXM9MSA4eDhkY3Q9MSBjcW09MCBkZWFkem9uZT0yMSwxMSBmYXN0X3Bza2lwPTEgY2hyb21hX3FwX29mZnNldD0tMiB0aHJlYWRzPTMgbG9va2FoZWFkX3RocmVhZHM9MSBzbGljZWRfdGhyZWFkcz0wIG5yPTAgZGVjaW1hdGU9MSBpbnRlcmxhY2VkPTAgYmx1cmF5X2NvbXBhdD0wIGNvbnN0cmFpbmVkX2ludHJhPTAgYmZyYW1lcz0zIGJfcHlyYW1pZD0yIGJfYWRhcHQ9MSBiX2JpYXM9MCBkaXJlY3Q9MSB3ZWlnaHRiPTEgb3Blbl9nb3A9MCB3ZWlnaHRwPTIga2V5aW50PTI1MCBrZXlpbnRfbWluPTI1IHNjZW5lY3V0PTQwIGludHJhX3JlZnJlc2g9MCByY19sb29rYWhlYWQ9NDAgcmM9Y3JmIG1idHJlZT0xIGNyZj0yMy4wIHFjb21wPTAuNjAgcXBtaW49MCBxcG1heD02OSBxcHN0ZXA9NCBpcF9yYXRpbz0xLjQwIGFxPTE6MS4wMACAAAAF42WIhAAv//72rvzLK3R+lS4dWXuzUfLoSXL9iDB9lNeIGKl4Aj8POomTrXa/oE8B7NJCS/FKlpqiH4TIHONvcpBvFxYSvWW0/+qX4qmvtVJeul84XjHWf5QSCwgLN3G4DtSjLayJIHKdtGemFZq7VZlylO6DPZzLCZKFlsf5T/Mw0F7uTcl6ennNrlT5aCLx+/y+EEH6PN3EVT3v6mKxMODM1oOWz5+LDHNC6izg9F1JbFZfbNtb5SWwsTEdmByMJ1YqvZt1D/H+0frii8D+A1MhYyiYa+gI1+b5b8cAAAMAAAMB1laxRb+KCxt7p/xUq4LnkgAAS0H1bemFUEYEkF+HqNEWIxBajdLsJoFI0tq0/wCOZGzlHAJn+TmrPJeNrqlCJIElH3FltQxF0bIcHO6jWpJttMyRFv9yKi4uierGc6HacUTXTfmWbIBhdPUpI2yN/HB1EMimfsX9AQrCaG1hTca05e+ba6kCWoRDt7oVm9eyxyS+OiqMFXA1FYELRqwLHTrm34vm1Yb4leblfrEkHXdg3nTG4QuyY+sv1Di2PJv1aoRXpkpXvTxCsUUQjZhuf/CkYwzWeIdV53YB9VKn25R2I+SIYKhuTY/Ju9zocuTkFAFCePp0u1hpEoBWqvEPmAqlulR5RN8lDUsTenoqIUxRiK6j/u+Oxp8U/Wumg04HzrdREEJfulsKSV/bNqShrqay+50Ki9mcSIfipjG53ObhYVtaGtgrLLDqa5QjavTw9GtwyP31lfsliZwrFnaU2ddebizSwVVGpCApwk3E1bnUvO1jOhfvpT310F6aPrhyWUc0YDh99ynymYxnMe7r2T/R43Iq959j2L633i+MGrc/6/zAe5a2ydj6jTIa/RKFLpimz3XVpia740z3XoFb+EyxQx44PsuU1gyFZXQcVGNnA/V6AY2kRyx0IKGWH95fDL8021w5UQ7xHBqFzX0rG9BRsa8K3uGeT9QJ/o9/Fxn9g4fHRAkQFvjDlNgfuAhgEBvt9DT7kajj1Hp7HRGvsPPoWTiANsJnNADb8mAgnWnSDOCUCkArWFl92u+HlfVsb7dP5z/uG1TJ/X3YEzqBG7Q+1YZxhnsYwLBHIrVqm9jDdI8W6sIUalZu2tJA37K2gPa/pI0kYuSgSeEHwTZwuvfBSCf/8qYLfZE4sgscd4HA+1XDU6vz6zUYC9hmulwutoAfpFqPfcxdW54o68wCPHRSFZa4NWq2HXt1YDMcIPH2ASVPKIABwuWxOICHGdjaLwYoOguoT/760FNWUXC785m1FQT0kRjyH47CHcDGNP/+Bo+ZddydasXcvK64Qz8rADDBcRo2UC14n1FpnWQs+IvCt9pql4jtrtbL/sZacWo5xmHMGVk56AFC/PtuaPtNzXXLBpKO1uNDw42yB09DXGgJHbOobxYXEWIBVwhNV7oALLELlvKAPN0UzS/u0hwHneAPQCytQ1gyQKMpkyAjr/fnCWGt0FhopB36LFJXvRCO32qjog3mGF18TY89kbffZur6sUGhSTIi8fExKiM+Y5voC5E+wep9sTQbMmdxAT7aH5INSrlpq+BJhZxcmbRYJrNC2bKd07yI2RaKUZQPeMx+80lz//o7E/UpXWDQZCh+zujwaLvLUgs9D//2DyFIgtSu/aVGwtLdj7CLhaHAj2zrbOlWGiEPwfR5i9c36GcyK8gkf7u7ZGHTg70nMpr7Yi6qOe+Xzz5eNx8eBXrb6DtUr7b3/erGeuGDeOG/VAMUWah0H1D1a9wvmv3/m8/LaT/icr9sPDMw/PLozxOZD3CB1VHZ31T7BFmGcCAAH01wDERw3Tshj/uExgnNKPmaVZAASiS1hyqBq7bCLYIthGrm4cHdmc/NpEx9Jv//qkO1jN3rh0ZzIcocVETtuUXAL11goJed0MItGQt1OwEM2fHvm7h589Ek608un+2u3MRqAytVz7Ax6HKs3sx+8vxSNCy5Lu5WBXg6eiP8dhRjAAADAAAPvAAFBAAAAwAAFLEAAAEnQZokbEL//ozPFF96AIfDRYGB1OGIre6xx6sMCU4WL48qK6fWtkfnc+Dunu69eE29I3vv/Qi0g3m7Yfv5iqwiYcHMJUXZLKXENAAAAwDe+uol6lVhu+3hCns/WOspYEaW2D3u2qZbmlkuOR8894QyKdcEQnbHWIdVdDd7kMvoiBche8XcY6B+7u0nl+J1ZFtm203wlSSlf16RK44LypBMpaVnpzKk87Wrx7li3dLTLzq/gMFwpKtcZvXKVwZ42daLYQHtkiaZq86tVkGvv7u7qVpdt11iQHZ7u8cxq1+MX49ND3NG7ST9qoq0wsJvPUzWUy6tS2P8f3UXAYa/GwJn/DwSB3ZVxqqt8wzrQ5LNqlgv3MzFf9e88/Ie2msAc5Rt9pFrHPC7gAAAAHNBnkJ4hH8PM+lY5AFSScArslwL/Rp/OIAjzZiwipLSeNDtXtYv2MROt+lKwWjTb0UBGGhpGzMp7RwoPB3arAlkFR8RifKbIjgNe0lCaQgcAO2Gr6qPc4dMHUONMi6MVfQMkxHzWZ4Jbwdu+C7FIrlNWGPBAAAARQGeYXRH/xF9a9qRskKkod9vARfFpgAuff2vPhOUi4Z+jWe8yf+wXbOuAXwBBlb55ibae6eCdXEEpkY32ES9czjeHVRFwAAAAJYBnmNqR/8RiVOgAna2Pc9qMSRWygqpIo/9R4TacvDoxVXpA2v61JPnVR8d8oLbLQBFbzIIvcK0DlCe50QsC1sBJhRLksj9KLXX7ANzG6Wv/7ETjKVxRF6AY9PAPvViQ5URqCQsAQdjh6SdkWZzeHeyKhMLhb3iAAeGQooXEpIwvJt37F2hNLUL3EmCTzCDfL2Q6nHUWUEAAADZQZpmSahBaJlMFPC//ozSop+ec3c2EBRXoAJ0rSXvDpa72dI2ngyJuQNa8Zq+9BVWv9TA+adz0yAAAAsfXJoiRHdCUHWXLPVgjeeOBNPR/PK+nKIbca5R77Ymw2a5X/b7tqmYelfBP3YPX5oEht1JfUIeAEx6b1bX79DVJev1+vGF4CPjsEJ3hYfTxMyMMeObsKAeDdxVIv7EqiG0X++46g/gnxL1ibFMTk/JophK6+C96de7cy3a7oFdMemROEsx1QfYgU93aClK44oCQ+n5jXDtmMpL+4IDlwAAAIYBnoVqR/8VA53apfQWX+M+BEnazXkrj/MidACWiEvm1BUAtPh314EAGouKZqlsAQgcCu6tqOokRD8LfZaLsimRb/O45h7tEyPgP8/oecmb+9fVPZ4jAYyF4andVMjL4kecoEfwoZxoAjqyIr/Gw/YxoIHCnHiMILNEOtptT89ETcz8eFAtoQAAAKtBmodJ4QpSZTAhn/6eLTxQV8azcteixd0T0kEAqjrwAAADAA8z4cC3lW+xk5zCPJnJQnH1E4gAAAMAHf2RVbJHa6Oi+ITmgcVerwdtmYg0k+33a1KrDFE5vYBKR3EBNPqxcbbqE+fdoBQYniTwSDvPccz2UR1N8cM9VsHAzsc8l57EYEIFmukFVC2JawShdGBfIEpWYngtOMTsVgDtGKZHUH3uOE6snKXgwQ8AAAC8QZqrSeEOiZTAhf/+jNCaQQ+kRwA2TXTRNhDzjaCPsIyfe/jYE5H434vA5QtRM7jvTVjy+ejVspnahoAABHz0u5pMvF+IDLPMAQ0nqxpe7apl3lHIOmIsOYB4KnylLsGGohnvqhzEP1/TNxzordVLSaraHX5lG6GgJiVc9meZHz9koLlCZ8VzQNWl+ha7VNyTyGK50ZGbeffotrRHXheMVCiMCyqQSKAoqscD0cOydPZSF91x5nNqHS6Aj4AAAACnQZ7JRRE8I/8PfSsqYIAC6k87AJRW7XTzJoRmv5FcSZazz2liiP3Pmi1V2xlMbilZpPuNAgDollZENqNtcXFJ/d6WaZpJB3PmlVWCEPxfjX2NUGcMV//p3cia87OwUaPp0l0K5VvEKI9lFPVnLYfpGKqS3y8Nq6mYWXG9e6OQtyIm25h2ZzCR9w5SE6T4mQcPoQE/KqlzkLmICHUq7KNx3IPvRKzYGPAAAABhAZ7odEf/FPAkhnpi7a4B3XhTv93DSFrhOAAZGxgBeSvVMxifAdUlRDAxdT4M9ThQHow/jDir85TGyN84mtqxD8GX1ULEnb+Q9uHV0znClIeabqT0EMKBEA5Yzs0YjzUZ8QAAAIkBnupqR/8VJufeXkLI8BmUEsf0ABa5gQQGss+MbteN2Ksw9+PkfErUbpfn+pCzlfhm1eyLKIT2lyxPTMumVbyB39pMgU2Is1wUAL9EWHkMNhsWxs90MGBYkm5joJ749RREl9xQPr7AM7Zbyvxbwyd3Xu1E5qJ/Qs6x0AywDrN4awwaUgbGsQxD0gAAAM9Bmu5JqEFomUwIZ//+ni3Y4nAf86voAEGJLSR5Y/+Bq+3ZvsG0eeHY+m6I2TWM6gnHAAADAATBSsuqQ3xAW2UdfBLnCyii7hMuO6BxmikJJ69a7rUqpvMnFNgYpKEcMPT7jrfKjxTWnU4E1VG6gil9ziNFcErh0H28RyyNuUx5VM61Q5qYkt7hFDUaxnC1+bFCQ71ahcej+0WYQUjNT+04wTWXGhCC1DOAzLB17z/NOGNn4zLgbhyDT/gyj0We6CwLA/0WzdCoecqjmsSFh+QAAACZQZ8MRREsI/8PXXKp+zTdi4AIPRoyQmwYYI3zbEOfzbMn8+NptuQoglIqOAZtd0jsvEBdjPvO8PMPACqfxhx458psUz83WWMfM0mD/PA0dCbI1xTOKNvNLyIYQfYmj8LmkAkXqsV/GdTJq49nFP3WafpYBZ+HVMHXgIj6i3TG4YICrgBIVCsuQs4shhHKaMpLSLXauB+uwD/BAAAAVwGfLWpH/xUa6kdbBEP5z7NFIgC2JzVIQcQALZzsNvfVq7nIJJTPXP9z80vZ9Vpt8isIYpY0UbUzj/OGgmE/PKyC/eXoFHM0eEn2r77q4VUtaO2GopVFJQAAAIhBmzJJqEFsmUwIZ//+niNcc6E8OHSSADtYcmq6GMlzh4uwbzK3aLZvuRiXCNAG61zv59QyiUcgc1bWpLyxFc76UellWwKtfddKzsp/Hek1bFM3eLooYlsAEHyuumhB1AYG5F1+86sk298oVm9UoHHmuhkhgBBFxyWODSNvi5YCOABX56Waif01AAAAaEGfUEUVLCP/DfCel+UPBvVXVACR82j+b12HDMt9STpASsZy4iuZVJhCL4+D2TBaQcsCGQgiH0/G/b+zH6tSKuqur1DC0YziCGdDYwtpc68szPb5VGQAibCKGgCe7AggAuexjcsJlB4wAAAAUwGfb3RH/xMCOMgGSH74qpHiPJB/COylTa6Y8xSZg1hMP/MLajdwbbtiW2oNtE5lrnLPWFIxM0xdsKfRJFpVlUuQ6LZGdj9YyhcAG0DpfvV9jbHAAAAAUQGfcWpH/xFUYxh6z4AN028mkbDTQnDVMICtHbr1eL8eF/duuejsGfCb7ctSqvV5fTGh0Bqyef+h/UW5iCIe5Vxg0ou10N+IbEwASYonF7PXBQAAAH1Bm3ZJqEFsmUwIZ//+nhwwBFk5Heu6ACldNEeSlrX3buqIu3C56oQAAAMACBPHqdpDej0JP90Gcb/hJrZdquoMfZhed5IXKfLHz0nVykwCjeALjp77talZWCJXTtHDQwQgSOLZeonQAhhACLmWJ3wd1bTd02nKKi7b3UBAwAAAAEtBn5RFFSwj/wysOsh1HKvk2xNh1yqD6ABcXSRMAz0R7EwCn+U842V0KwP5NdMYF5GF59TuXlJ0tmtWHcDwAirVOzTVAnGei6zoSsAAAACAAZ+zdEf/EN0/z/gAro77ilVWj5N3JCdK9XLfujb3soxh8sI0lrH8k1n6IAHH9vqXISO3WJQZdOW6vB1ne6FrxN9C3FcCQjD/+HIFulcCqT55OKpcScmgwIsaAlIHi+sdz+AuoLnKtwhoo5lPrTIQIwA9FR2GgCO1PRWIEdjgbMEAAABaAZ+1akf/EN0jqxoARm8bVo8FOkDCmYxzSEGCPgC+rFJQKFdCSI9Y4nD7pGJAJVtBJqjcYpW+rofCAxru28odiVg2QlDP5a3PJlwkgAyPoL2Eicoy+x+KW0qoAAAAOkGbukmoQWyZTAhf//6Mubc36E8WKrUX/9kwX+gBUi8kTYmM4Db2yaywSgQ/j8mcAAfpyiuN9ovEEtkAAABGQZ/YRRUsI/8Mzo5AHMNIPx52tavEA1wcM+JxIRKnFCfPkzhEoQ+QkKQEyNN4CqgS8uHknc6Mg1/m8ACvDfprrMub0ZbY4QAAAEoBn/d0R/8Ro/iFVC42hA+B9EMALZ2Kk6mjiNr44ah52mMFD8cIGJ9b8ZgOZM6bl/aIM30bAG/50QUieeBQq5kUlsMABWFnXCXSLAAAAEoBn/lqR/8RiMT7PAHKFJQznTd8MqomjBqqLBWPyskIkeP+IpHuuZVDvH2rsGQGFUGg+kZRgK4ICqL2QUJF3/P/OqCycQAHuHgcsQAAAFxBm/1JqEFsmUwIZ//+nhk2n/c0ABkSqtZbXwB7fa/frNwxNdLOGexprloEywHne/yqCSklwIB4kFuzXgZVBs9qemqPizHT5ErRHXNW7L9FEoUcH7BYlaH5SIIyBgAAADdBnhtFFSwj/wwA/hTwfKABGAyUPdfh2u1nKVziQgJl/qBC1oeIf1W6WCPkKAuIANNpbI4f7C7hAAAAMwGePGpH/xGIxPs8AcoUlDOdN3wysWEU7G0MILb+cETo7UV4Q9+LhcHhM4ABGk56pFdK7wAAAEhBmiFJqEFsmUwIZ//+nhwaCwAFwv960tbvg2BEjLgbSG9UbgrAFTNKtnDcmjReRLwVdEDujZlvQ/VT4J5dNTd5/zbu9gAAB/gAAAAdQZ5fRRUsI/8L+IxkG7bL5cMmAEYAEs8dxCGsNXcAAAAiAZ5+dEf/EX1aryE8e1ATsWcfAzsiXNLsymyAB2Ka7YBowQAAAFEBnmBqR/8RtSwAcdulcKdnaCAoTdsmeRFOc6oNXIfKm2J7HjYUxdEh6azyz3J+Uz+E48LboigfgRGfjKwj09nupM9IEwqzQWfuAAfPJA5wDxgAAAAxQZplSahBbJlMCGf//p4cMASH17ABqqeYnaoX9/jONXI/VOTSioK3Ce6rot+AAACggQAAABxBnoNFFSwj/wyVSWTe++cqFl9gCABOc4niYy7gAAAASwGeonRH/xF9U4uAALQ7EEutPxZ4WzMKpxIZMO+QMVulXL5VAS4LSYb809uz/D+ejU9PHbJuz7gcDfaRtAS9FNNErZQAFqFbG2dJwQAAABUBnqRqR/8QG2WVbGU0EACc1mvLgP8AAAAZQZqpSahBbJlMCGf//p4Ya42gMsAAAAMCFwAAABVBnsdFFSwj/wt3FNgAAUgTxonUPg0AAAATAZ7mdEf/D/1aGwABEELUOyFggAAAADEBnuhqR/8RzuFIAm1xPblcMXhByRz/pxCuVgDkJG0DBCyQ6I0NS5QzQAAyNBCihM8GAAAAF0Ga7UmoQWyZTAhn//6eEAAAAwAAAwM/AAAAFEGfC0UVLCP/AAADAAPjuPjwk7Q8AAAAEgGfKnRH/wAAAwAGRwpNO36HgAAAABIBnyxqR/8AAAMABkpPT7w178EAAAAXQZsxSahBbJlMCGf//p4QAAADAAADAz8AAAAUQZ9PRRUsI/8AAAMAA+O4+PCTtD0AAAASAZ9udEf/AAADAAZHCk07foeAAAAAEgGfcGpH/wAAAwAGSk9PvDXvwAAAABdBm3VJqEFsmUwIZ//+nhAAAAMAAAMDPwAAABRBn5NFFSwj/wAAAwAD47j48JO0PAAAABIBn7J0R/8AAAMABkcKTTt+h4AAAAASAZ+0akf/AAADAAZKT0+8Ne/BAAAAF0GbuUmoQWyZTAhn//6eEAAAAwAAAwM+AAAAFEGf10UVLCP/AAADAAPjuPjwk7Q9AAAAEgGf9nRH/wAAAwAGRwpNO36HgQAAABIBn/hqR/8AAAMABkpPT7w178AAAAAXQZv9SahBbJlMCGf//p4QAAADAAADAz8AAAAUQZ4bRRUsI/8AAAMAA+O4+PCTtDwAAAASAZ46dEf/AAADAAZHCk07foeBAAAAEgGePGpH/wAAAwAGSk9PvDXvwQAAABdBmiFJqEFsmUwIZ//+nhAAAAMAAAMDPgAAABRBnl9FFSwj/wAAAwAD47j48JO0PAAAABIBnn50R/8AAAMABkcKTTt+h4EAAAASAZ5gakf/AAADAAZKT0+8Ne/AAAAAF0GaZUmoQWyZTAhn//6eEAAAAwAAAwM/AAAAFEGeg0UVLCP/AAADAAPjuPjwk7Q8AAAAEgGeonRH/wAAAwAGRwpNO36HgQAAABIBnqRqR/8AAAMABkpPT7w178EAAAAXQZqpSahBbJlMCGf//p4QAAADAAADAz8AAAAUQZ7HRRUsI/8AAAMAA+O4+PCTtD0AAAASAZ7mdEf/AAADAAZHCk07foeAAAAAEgGe6GpH/wAAAwAGSk9PvDXvwAAAABdBmu1JqEFsmUwIZ//+nhAAAAMAAAMDPwAAABRBnwtFFSwj/wAAAwAD47j48JO0PAAAABIBnyp0R/8AAAMABkcKTTt+h4AAAAASAZ8sakf/AAADAAZKT0+8Ne/BAAAAF0GbMUmoQWyZTAhn//6eEAAAAwAAAwM/AAAAFEGfT0UVLCP/AAADAAPjuPjwk7Q9AAAAEgGfbnRH/wAAAwAGRwpNO36HgAAAABIBn3BqR/8AAAMABkpPT7w178AAAAAXQZt1SahBbJlMCGf//p4QAAADAAADAz8AAAAUQZ+TRRUsI/8AAAMAA+O4+PCTtDwAAAASAZ+ydEf/AAADAAZHCk07foeAAAAAEgGftGpH/wAAAwAGSk9PvDXvwQAAABdBm7lJqEFsmUwIZ//+nhAAAAMAAAMDPgAAABRBn9dFFSwj/wAAAwAD47j48JO0PQAAABIBn/Z0R/8AAAMABkcKTTt+h4EAAAASAZ/4akf/AAADAAZKT0+8Ne/AAAAAF0Gb/UmoQWyZTAhn//6eEAAAAwAAAwM/AAAAFEGeG0UVLCP/AAADAAPjuPjwk7Q8AAAAEgGeOnRH/wAAAwAGRwpNO36HgQAAABIBnjxqR/8AAAMABkpPT7w178EAAAAXQZohSahBbJlMCGf//p4QAAADAAADAz4AAAAUQZ5fRRUsI/8AAAMAA+O4+PCTtDwAAAASAZ5+dEf/AAADAAZHCk07foeBAAAAEgGeYGpH/wAAAwAGSk9PvDXvwAAAABdBmmVJqEFsmUwIZ//+nhAAAAMAAAMDPwAAABRBnoNFFSwj/wAAAwAD47j48JO0PAAAABIBnqJ0R/8AAAMABkcKTTt+h4EAAAASAZ6kakf/AAADAAZKT0+8Ne/BAAAAF0GaqUmoQWyZTAhn//6eEAAAAwAAAwM/AAAAFEGex0UVLCP/AAADAAPjuPjwk7Q9AAAAEgGe5nRH/wAAAwAGRwpNO36HgAAAABIBnuhqR/8AAAMABkpPT7w178AAAAAXQZrtSahBbJlMCGf//p4QAAADAAADAz8AAAAUQZ8LRRUsI/8AAAMAA+O4+PCTtDwAAAASAZ8qdEf/AAADAAZHCk07foeAAAAAEgGfLGpH/wAAAwAGSk9PvDXvwQAAABdBmzFJqEFsmUwIX//+jLAAAAMAAAMDQwAAABRBn09FFSwj/wAAAwAD47j48JO0PQAAABIBn250R/8AAAMABkcKTTt+h4AAAAASAZ9wakf/AAADAAZKT0+8Ne/AAAAAF0GbdUmoQWyZTAhf//6MsAAAAwAAAwNDAAAAFEGfk0UVLCP/AAADAAPjuPjwk7Q8AAAAEgGfsnRH/wAAAwAGRwpNO36HgAAAABIBn7RqR/8AAAMABkpPT7w178EAAAAXQZu5SahBbJlMCF///oywAAADAAADA0IAAAAUQZ/XRRUsI/8AAAMAA+O4+PCTtD0AAAASAZ/2dEf/AAADAAZHCk07foeBAAAAEgGf+GpH/wAAAwAGSk9PvDXvwAAAALlBm/1JqEFsmUwIV//+OLbg5rZAAgAzWDArRduopt/324J2e3z9C/Vp6jxcqqqAdfVUqtmcIqmfQKvMoNZ7GV9Ce6SaSXSbVwtVCwvvNmAfa2aPZYpyQ578qb8Vorj8hJC7XhplWgBht3RCeUnPZ63LwJstrkzwy9hwCIo6NGfrqgKbvamHTTfKHGWyWFgD686r/XMwoLu/EB70YK4Am2x8GMySv+aD6ySMAbt4jyL57BXWfXjwAAAFxQAAAGhBnhtFFSwj/xFEPMlkAsAHA5KZNPxp5EfM3h8IKrd0/+tROhmKWWdu1RNPQZr+9qwZxrQGVbFrIMjfkkFUvgr6iTn2PNExE2Fi2U2ZUnMA6ATOswGcDgF6Ca168xUwalAAM3nQd1ULuAAAABEBnjp0R/8XMzOAAAGua2whQQAAAGIBnjxqR/8XOX6gLii8VgAmaPzN2ru7N+bW1m79JyS/gqmQbBKqml3GNa4X5L5oG2676AKPF+HmGMKcnOE4RC/CcHFTEqYz8hYD392ZjEwMWuYQNFa8egRi4xIvqwACC6knJwAAALZBmj5JqEFsmUwIV//+OKYPn7proq1ABKwbDR3x91NrivF9AGT8+3PpfD9v4fHh0T/JrJcPh1GLyaJo5PDjQK0/rc+w1dT8LBAhGF2yGqTbvCrecfqj85JOrvqOSvOvgI9eUu1d4dR+BbpUCJSVyb+qp3kaaK7uMceQSLrpvuDH7WpC4vRYENKkK4yrP32TXiXIDV9nyC4SlfeHNW/Xw2pDXzdvfnIFv5YOjpfEBDB4IPDeF8D0gAAAAO9Bml9J4QpSZTAhX/44phsO71kn7IAiJZ1sKUvRuS9wo2KfebnA69wK/34t3KoA2Y2bmcKzN5jZiIJI2y/gkDE/C35Ct9QkvRBwlXlmO6Qb2Kz2q6Fyj+Ipcj992ll8oNeWCwc+vhkfMbSPAAADAAHzn3t8SUQ0PM4BvZDPtmxf9vwyBUpbqCPt7SQ76d3tpJ08/UJEP1OWkJKT16Y3yrX85bHcliOXKyS8fu8VEgmT1dvdh9wbPNhpnpD/e+7WpVOk95fOClvGVF0oVqD5S1X1Q7nbLyXWSH3E7nS6AnZZC64BzFD9ouDJt4vKx4tXUgAAAURBmmBJ4Q6JlMCFf/44sW9EHrrzoAPL8BbgcG7JFv4VJS+1AXKlFL9GWfYqTvhivHUeCad5vanjHvWRjHCU69pvFom/lGxfmGkw4CsikSxbMyJFbCUYFUQ6paE7VBP5Kd2twcX4W+WY0tUq8j19okAiUU1RoEzjmuzTHbLgWS8qnW0nJda3IWgrlyIvaX4y/LKtXLaNTO9Mal1jUKdweyMvQSMAAAMAANOfHTO2zVNrRyWJt7hmK4mMzSG0gw9RpbuMV6zoX6Hq5XfqlN78T4aZkheLDXbjgPauRAvL81DsSE5FXy4s9w4Ins1BeOykSrpVd87jhQpyD8Ya+yzc/nvu2qZgOXSmgKZFkjEiAlX/a7Dbh4iT6SkBzvhQBhsADCzmlXEyLJzqejhDt28E/EWH1Iwv19Syx2AG1wG43PYvwLuMGhEAAAGUQZqCSeEPJlMFETwr//449qrg6Oft+ABtvdma5bik+uEJmgo9oq+nQAslg6oQXUY7qPH6HeGaoNjCWraeNAIEEL8SJdfRhXOaO9MfIo4AnZ9IfBu+tywTfKxBKEEwR7RBabQgvuhswC9AAAADAEOej+qa3wdV/IU1pR8DNLxqylaVbvRrDNAX3rrPxXaBzI8NZ7PbKHkHqpsQy4axQFPsWfHuJnVJz87Oacf3mbc0zvpgCOfApz47ERnu+tOPDo1TX3PzayMx9lQBjvVT+ZIW/8r0B1ly2z0NRI7nrPBbnrqxefIlgFF+iipHJTtxLvtlD8yH9921TOEOO3fsiOWmcHhyak2m6F4wkDQwRQMj30QnVXyNc7Gepm0Z0pu1G81b33kOi2gQhhq42toEOZ6seKqsG4iiCT8Y87HCYsKgTAZvGycRn9BrrR2lYwKCkecMaMvmRS2T9mF3In63sMvhvLmTNGk/IP2RDDn62YxlPGGo3VogYUW/NCO1qIZS5+Nw/e80/EibFEBNTaTU5yMd2CW7qpgAAACUAZ6hakf/GWQ3eylYAbo2+zCye2V9CSkrTrcKi3DFdIoJFHzRH8WbGlZYUOsnEVjM0HzHU/GlFFd0wPtScNAuwUN/Ycy5jUaVKZOkdUdRnABSvXpoOweizv18TRGsL+mzPGN4LlRNRyUMEPCNb5hPFUHKJ8Hxxo3PAKzp0TJcCUqhKSpbNXoS4EwmqNwesDWxmmUBtwAAAR1BmqRJ4Q8mUwU8K//+OPfJFk4Lh1WkYBKOaNgHWgBLR0SXtFRABf+qpqOX6izqnFjZ90RGUxlu2ZGAgzf7FBqYB5j1rnZfhCPIi/0CZI9q+58HtF/tn9YIeNYVMyY28HL4UE0vMlu0JjdojT5IO0SuUyz4wbHQZ23ALD6b29qZyaB7TvSrFUjT6lqbtYdxN0/N7XLjtc1X/CcPWxKt3E/o0If5MUkX3lsAJyFVxeoo+UiDvN0vZyF+/eqV0+xrvp+Bc/Uen/JSi51nSP6jK9L2+Tra90iBaZfQP7ELhuwx8LSoWPb2fZHXISu43/Uj/cX+W5exHslj7hVXvKIroKcsg5nMweo691ZBqI3416PnMbWz3rrloxHhKMxsZeAAAAB9AZ7Dakf/GX+lLFevwPMMHihqlSIpI3cikbui5lZXt2D9f0O/jhumj6jlRz8F0NIb1Rsj43HzACXS+l/nn0LNQq5BuaGjwQli/oF7B+wMyEvz/6wwtexu6v1IJCtxYbr+ViVxsik7jvqyQ9viy2/fzjOrxQlxK95OEktgfMEAAAEOQZrGSeEPJlMFPCv//jhAJp2t7VkHyEnFGdxQiAsVyr8xirtVTciiH//msmIapl+mxBn9gvgMo8PI9OffLuzF+fJfp132B19cOZJ8XZ2jyoWQ5+a9wf3icbIDUVPjRqlAu1zLyyAWfK0SCXY19O58CyH+WbFmeokcH/JeaD4fEVNpq8YK9o5vFnn1sHo19nzjN075ECFkF5sX6b6L1qoSDQbVcbIAFZUUiSKR/WgRFHtJ/cpP3EVRH/nCtOCmEOLpD7EuF2luFaP4oXJD7UuZNcWHqM2Xmb5XVdUy6KYAylVSbxkVjWbSxydzU7gSquqWF/wLz2ohawssXbM1LnwnOpFxVY1YePbI6a7eAELBAAAAkgGe5WpH/wPdgYMpWL1HBDgBF6HTywRBTEcYRJRnL8HEuWOF2ON376wRx3l5F+3eAAW9wDsthIBAtttSIjSbf7/CO81XoomQzHdqIBuboXcCcpLG3zl2TzhoEQx/MR+cMO1i81TCz6EUJbhW/LjZ9H5qhwXxp/05WndzDS0mynbAHEGtd8xW59sFekG3MLoAAGLBAAABH0Ga50nhDyZTAhX//jhAC1+1vrsCZr8F8nrrsiAEqhoDnX08YWFk0yHAwHrpxblWG6+Hj5NlxzKQhwI/C8hQBmPlXLXlJ9Lul/o1aU5C+RkvroWitrHMfPx4S5pUEZLu1U8uJiizwN6EmXVWPYlMB3RQy/moHvOtFQT/OmXGy3z4p7xAP5E+LIm/8GwVDm+KaJu9O7oNo55XXPasj6zSRgks0vm8JLinnQRPKEXdMPVETVSgFOSIC1CpCxMXEgnYhfkdPsl1rLFIH9Yha/IHXSb1+svJijQohKm3FB+7hcUc1C+JC7TlTH6/6MHFFhw4KAlzvQKHd0F1ylsTgkg3wD3WunxPuTe7guAhmnuoMAzNaEm5w9N5m+X/ev6nDwtpAAABFEGbCEnhDyZTAhf//oywArvMuYHbO/Vic1PSBdcmvhvIoOCQAC6fUORfA0MJK/fEY94Ij1IJflJljNcScZ/3O9CRUD0LvEjI5HT6+Dqd14UK/WX+n4Y7O78xmuDOFuIhhJzuYvysDmPA4ef3vrL0OUChOWcKiEojS+UNM/tS0hCsLUyva+vG8enEDSJHjNGg6ieEfxCGnJIFaqq0dFKNt9lQ26zvrRfeR7C5NnaDyXG6KFmNUiOBfUUdoCxtTvhIBa1PPNSbbblIa45V4wjsrkyZRVhk2gp+UURXuhNet2bHBQvMHJ8Zft7u6mJMNwBOif2lEaPwMmAthdpRvFmVRyxe9cJwtlFuwm89Xj9q00er9EBvQAAAAV1BmypJ4Q8mUwURPC///oywAQgFwLYmSABwheWdx1hCgtgKytbrTlqpobvJNoRtE8NoH87JvCOxE6clk5xRV0ABqk+P6XDUkWwqAhVi6vx30tJT+SxxESyuhv0eq3BN1nAV4xWpyin1uSk46UfUh5Di52EfrN1CuVeJy+6ab5JYKALgLlzAAlReAGVsxdLPteHRQHItwpSAm/rJFqQhfNS3vejK+zokKJRvxoYfQlmTVeucX19aYyg8Wz2aCB57tyIaWeCaPkdGjyApKq0Jdsy7q/puFJ1+d52GCvTD+QxJ3r3/Bb8VbK8r83TP/gm7CpB7ftAemXvj/Lp49PQGpggsgqaD/O9EsBFMmwKFEVM4Ke5stoZoa/jctyWBDs7oXCz2J9UNhT8cP5yI7VJv3uyqyuYi3s6V7O03q+vFCnc2IiV0xV//TqehaHO0xtmpotkft4U04bUFC9HdJELSAAAAjwGfSWpH/wFsIJCaDB5oseAf7K6Hw698O7aZWjpW98u5GVnvknnkWELRuCTSu3re/2HAAODQhwNZnoGrEbxwow8E9zvI2dJI7erFhFcUDlrYKL/h3h2cgqgNKdSVCVU+pGogSm4cf0D7/LYF0hNiA4vkjTyJPYyKJppcEb5gvhiad5ZzI98gKXqdas2Y0FJBAAABXEGbTUnhDyZTAhf//oywAQn6FeHhn/LvwxmqTYE5IgBa6zw+REJsaP/J9nPJNYpdH/t2MdRcmJMeFDFk09TPVq2/18GrmWbdggQG7lI0E2TRrxb77Y4d+ON5LtEnqR/xX7Ob3WocbOKvfVsQ0YLspbIlUSeHozxh1igUS0/LYf36g7vKaBLVovAttlZAwLZkGtT6RFaRFPjCT25AYBLBitKnW8Pdy0vXWhjyvqR0zRXXr6N1W9RKsrN5QvXwb/v6UfxxQc2f9ZhT1B6ZdWtuXMQlXUrp+49ToCBUXz1/X8RcEwH4TamviY6Aix+yA0fklIcVe7UZNhrkSeMKwGhCiGLj/fwSRLd3C2QT7GfGZfsSvvJTPNzNu5gqncssojv5mSQcuuFuCOPuW08jiDSJhKTLC/gCh475cavT1cyxB6w22HVVoDR7Yfaw8pjEyxqCNme2C2zCfcDuScCBgAAAAKdBn2tFETwj/wBWVijjystzk2PVQAtw/1r6iQHpTgtAAiP81CQLhv+Yk8m+G+ra78m5VLCdnX5oJchY5INEXDKQF40VL1qBGmrxRy97BflhSj8Uf3nlrkEi7UCcFww67ztgtn5LjsNLRoylx7REmfmhy0nxYf2He/vLL2S5/kRnKRMke7XvHGJmAh5upHZjWCVMQSiQ7rg7tHFhDcGKGuDZgBPIMQACygAAAKMBn4xqR/8AM3ck2/FyInGzVZGADP8vsLk3RReNKyNHh0GPbjt7WT769FN9TjLpl1jYTF0qNxTSDKhIomE4fr4WkPacLpVbDlkz2U9XifK/6/e3UXiMPbptccPUMZV7xL/w4TSsucs0jNEYCHDY2U9knVUM9oPM7jJ3DwYHwjdqL8NfZk4jfZA6a63uuiRjzQoLsn1wdCJPytqVCtTAPeEwABnxAAABNEGbj0moQWiZTBTwr/44QAFs9rb9+pu4Kz+UHmT04BvAT8p1BgB12wUjlRuXoojXbOlum3fo/GQHqo8ZHcJS58M8aCh5renmCKVUPyQwhYiSfI7RU5fTYQdLrTHYA3y104JJ29tfUfnSUofZkRmXMAcNy6Fp+/UXy1x5iHVC/ML45ZVC5wh+EmLcvWu/xTCOAXtx6ypRqrzaOM/7NIUImvdY+Z9wwSVYgzOGaa8UkNvsmae4QNMevUFFV2FMAD94myJcNzPBifkriAbQCxkIqkBewPQhOx//OJ4OirqiL7W7oDTUJXNM4OoNl4s8FcVmANz1NEBluEEEbwQu2yoKyahXzr8nPyPcUvo3DIKh0WSNzcgvkKc682oVyZm5wRx+n/QYeK3hpr8eNlcX+Y9uprHe+DChAAAAmwGfrmpH/wAv+SJABx3oNZiM9wvhX2+YxLZnCv/RHn+nCg/mOHihIJo6hWB5Z5I7TtWRCRnTfYmggrBF/d+2b/PS3RnEOsYxECRa2Z7UJgXWEJDEhb2dzj9ls9s7cPeW2Ma1QIsC/7iRcgI116XHhnlKpu8WHjzgMaoHN9UrtledfwHj8ptxrhVivgNP2dLe3OHSq3g0QeYQADFhAAABK0GbsUnhClJlMFLCv/44QAA42/9KFBAg1IEwAtFa1oDjxfNXymrYjFS+HwhvTxBj2AskMgERioi2KoqzxDNQGF+z3QovVkSx7ID0X8VbB+XbNi+HYbIDWjTX6aBjsToExyfK1UUiedK2fVFAeF2IJkbr9WzhvUFM1QuYpl0VhKLxc9tf3sbKitVqq6YdjM8kv7Y1OiAevwqyI/3+bP/W4BdpcgLaMca+e6qg2zOf7lLZ51iw1Aui6ddIZR56AnA5tE/rL72lbifaIofjvhg7fITrRVEENLDf176S3dqRrWeLzY91n6n2k5C885/fVS22E2u2TK7zDSvzruvuAB6JYTmAsTIiCUfQtQP9EXY3dOtLTrYZIOwY91CCIEBuIej3E1FT8mqCMKbEAC7gAAAAsAGf0GpH/wASXmzXOCgBYWwOmmuXGJP9DG/IeLszR7WigyB9CjsY5UQJoMPkDYnt4XXbpKAOpibCfXeXIAIY2sne3GwsWc+yw+GNnULYGCGZVFfiZNsz/pUc/XdLYg9ogMDrUc2/GHZALTOAuzDGCwRkVTzl2nEnZeIr/f8pxVFTwGKMEuESaPVFYVgu4BJOji0iSNn+/z2kOk9pJxgfiyJce8yJaAD75MGM7fCEQAakAAABFUGb00nhDomUwUTCv/44QAA2PqRLWxBtEtATfRcA4x/YAEzhb0wzLFNWUFS/+QHLBlkf5F2I95bg5J1iyR7QXbuOM9klRJHq7OEpN9nrIY4Idt/8rs3POq2zV4q6/112AaYAdzFY/hfV+7zr48AYcbjeiAOnDlE4WIG2yQg8Gbnl9IsbZprct7KpgL5wKyE/MnP7Y2XO9fI2VS+UAz743LJgQW0ir1ra9SYq/sDTuQt87eG5iHn51yxgNuOnYQJNfOsYSXQRgleGxXATN6mKVKmkKSMpCbSZYvTPKeGD8K0ABhtHovYScikGWsAcreUaDIVJmiHoOU1FSeHdxle+sosdihgRTaOXIiz3e2y5pNQnBwS0BvUAAACkAZ/yakf/AAcTJoCAA5ToHo2RH7ZAzra1Ef4RI9WciI2FrTMrHrSaU3jswr6YgXSiNo52vuBgIGt7L6U5mVc6NcZ/ncsNmU0hipnx6ZYK8DjvvsZxxIk5KjO6/BpGMuz+f5C6TyjGnk1lm7UC0QZG6KdTrIk9DfsQwoBVBuyka2X2uikeY+g51FCz62G8cDka0NUNceulEhOFeahEYfDCnIUkAg4AAAElQZv0SeEPJlMCF//+jLAABS/c0OJwz1j31guO9OanoAHaHpgGQVBb0bK4QnU9NrKxQh18GJz3kTRB4HQ+U7CQfW8AjmE5t6TzKGASTdeT7xpUqvHroGr5TffWn3dvp9/iN1F93ims4qN6JN85CJBq8DTuJeAdvLhay1kwd7KkZPE00RV1OSvUMH54X3/H730p6BDsYy+H1vHezCmmF5RVC3Cl+z67Zfd12J5/NMIL41SSTqHXSBoL7WQMociRp52y1Iq7sj9m1sA2ir3yc79OIp2D5lHr8zjsDdGGMFtvjfnIAAADALqjnVaP/K0pfvsrKS3k4giVxLIHqbR+mBHDnRE6FU8asVqKfm6/xZP3YYfVvfDYc8XsUclHwQ2NOTXKcb/+AiYAAAE0QZoXSeEPJlMCFf/+OEAAB5MnZrtM15/qb1748F9Q+/BRgAXQV/rDXaBULH13lJ53k/07Lb+J1hDDpYDDmzPO+pK2/MKS+n8VnNZqxiDIF0yrRz/NkFUhhC3QNz0OdRMFtnZihXOTEnKVymPZjGp45YLGIwhfF/a/pxQntj0Bz260vMdGoQwyEWfdBPOSNvTyy5w9wLAaYQzyM+XARwoNM5JwrV9KXfQtQo2NEZIE6DduUQVBMSBQ+1tCGV78aGjMh8rAHbTVoGUOhqgBonSAMay3N7WAD/NXqnvEPtANA0T7n9FtylZ8S+FWKn//r+9rSDVCJuKVk5mE6dq/nosszFGWxBTcvs44AEksKYI+ZC2rW2kBKTHkXgESi4D2GeLLUn52RcacO2XNcf8AmVpo2m6gB4UAAAC1QZ41RRE8I/8AHhBbwhlvb6ntisANST/dLW7Ojh3UBIRTjUfqNMMQrT7x7ccCMHMfDDpRSHysOzwXV7gamIoRD8DFlgkXhtnu+yjbXf404nZGMCwVqqbwRx3qW+0FtSnP4FOQ/xc/sqc+6fTC7+KQnzNoAB5YWpVqJ00n1vqnP3hr1BPqLI36zWhXvsIDZtKsjEIqUQZRut3N9L1FBua3/cEI/Faf5swNsbnn0wgJ4qRtnqMCbgAAAJkBnlZqR/8AAsWenkJ/GUANdWqsbl2aNrWVi6tdeVzrwwx133M8Z/NJafSKKtY5/kA7epzNkHIBDNbchLuiKzk3xxNVD3ZJ8lTIlM4kFxZ9ZKSuHiW/vh6DtYkLKifFH1Ln19EEIDnDxYe90Zgd3sTToHscAXJGPxX2T91y8PM8KlU0fpKj3MSLu06PZxpirl4Zu0neobkCgi8AAAEoQZpaSahBaJlMCFf//jhAAALr7W3v9Ts9dq63pf0CtTxcAHmBsWBTIi/88gS9BvIZnxMqAvwvnVC/tkErfrqzZttcqEl2wPDUwlxZiaNCDXYgFqtljKWFKB6j68zWostt4xVo3vGLzDbQHYtSX9g1j3hUo7/Nz6YPKkG6XgNh8qYDpcJ8eRInNzdCxcrgN2WVW7C6e8sfeZxL4zUP9k5AsbdzILuclLeoD89jmlhJanTmwi2UMvkeN7PLQ7Pm4G8/FChUvn5zdU+98NovLB7E/yOZD1LxC10db5rUyJaC6j/DqcPM/g5G4PBOBAAEN5CYjo8nFnc9K+gatgLZwASlSIRQfGTssnYOKSCVQVQZ+xVW1r0onMsXeECxNpGcvwxkE97lof90csEAAACgQZ54RREsI/8AHm3HkUZQECruQCQ7fmIBAOt8AVcMVckaht+UJK3lBR7eHq7OVmmH4HstTmw7rpRtdtFCTA1F4UJJX937g0zNze/x6lNQR6hyZUXbHl0SVj0S7zIdXISZy5EjaRbE6qUQV5mVQ0H5EeQQCrj9q+5vDijk5K100hVXqrQj5B8gPFIWH2CUkPanF++Hb/KVS2Ytg3EJfeDagAAAAJ4BnplqR/8AAsWapcyQjJUvQ6AQr3ewBGAAh/ZBPgICVrSu/qt677XPVr3X0ofA4JtuITBagl66npGOLhkUkNzRI2nL2xXMBFbwJ5p2fhPEtp1ULG7DXGLvXl8YIyNo+Y96mZDLjn3z+UWXRmZNkTzSsRpS/B9ZjrRGQr/rlkMONtz1HIiPvWwUkQ4iTdR9fmz7d/D9+Ix/nxGQ1iyG1QAAARtBmptJqEFsmUwIV//+OEAAAS74IszdcEJPQUAC6jS1qLY8uQnDDL7WscXw3Huw4N+x1cGNhuJAqbRS2wBU1NcTzBN8WFX+cia3BwSq2b/6dhvM/giyTD2oPE0tsWx7NZ/raTDQuWH7I5a3TV6OJ017Syw5CUeGeSlMwz0EU33+WVhHo5BDY03jYtY56S4cDWSX+ClUZcl6vyWQi5BgcNJqKDpVGJWcf/U8iqncPcVBoDPINsqDbuwJn+qTUs0nhSvMZDe5+n3gC9R3CTj5Y5WaZOyFWhKR9DvdDQBqv0INHWPjNfMTuSsKgl9g8YuXPvaOpZkktzZgLJPDv9uZzbuRyR/EK95XJ6Rz4zT+97q7zC0T7tJ4GwaA2GVAAAABOUGavknhClJlMCP//IQAABBvWysL8hGNbjog8W2A9W2CADMiW/LfAIHaTdyNGyLiMmdrx8yqIJdZeNyhl14MJ82QaxsfE3YfXH6iBddo+6+t15WRD0wMhsv+SZL1IKXeVNsyNhR/7HqkJSo3PybWMbpnl8hAvxsCATnMZGQ53I2aDnColJ2B5UZUBISnyvE1gAUkImyMlXJAmXe8dkAsyIcXy/9ESh7mlF0xOH1O1DuFiOJPrK1Ko52dqrVTmNuO3Z2oSISn9kdSOgO2STc/8C8fg5Vy+zWfmSLqiGmZFWuUDqB2hPS9CIOs0q7V7REGg0rkm+brvnc44SVZbozlTMKFUiZ1CzuYH3lYsCE5qvVQ8R8SdgTk/FffQaIY3PkRo6Wi6UOJWt4LOOnh8596u2bKKqvbGeHc1lEAAADMQZ7cRTRMI/8AHmtsyKDBzwbp3EuqPm4J2ZiAHHq1HxqIXg98gBm13fq7o0OES4EkdISL+ZvuTCIsiLlEyY9lXznOiFbQnfubjymzgMB2q/M3RSjREosuitnpoT0R83pv3OczCgm/gGH51Gg8mAQM69gnSmVE4wx3dM22nwjHsopujO0MbUJaEA+2VZucZw69PM957/REbPB5KfF27gCBLc9p/wwebHStDARXQEozCF7qF3JtJDrnO06SiWMODFYxJ2oisvyEqa3Ui1BxAAAA9QGe/WpH/wACxZqGzplxGUnP9DZoMfTGoARLtnQPuD+D1PgbnUwSRwvFZLlxTvpMs6RC6myL+ZJEHiTPWyRCDLx5L7B09J3Q/ckDY7GGmkeRBYTBXJS9d6aluKp2rBQ4xlba5YRrKKLfdeXTe8b9ZUmOHWMdr6rYZM+pgv0bNyL4aQjv5GWzz74CSo6IQeykB25qs14SS7IWmpU74Z1hehVcv3MAemucFzoNUmB/pWl2d+FMkqdKCv8jwOJT/gLrl+/WRlJV5q3iSsGvXV7r794nhvzybBD/1NNeY0XNa0TAaVlTZhDIUB2uwripenQhBAdXDKVYAAAKP21vb3YAAABsbXZoZAAAAAAAAAAAAAAAAAAAA+gAAAxsAAEAAAEAAAAAAAAAAAAAAAABAAAAAAAAAAAAAAAAAAAAAQAAAAAAAAAAAAAAAAAAQAAAAAAAAAAAAAAAAAAAAAAAAAAAAAAAAAAAAAAAAAIAAAlpdHJhawAAAFx0a2hkAAAAAwAAAAAAAAAAAAAAAQAAAAAAAAxsAAAAAAAAAAAAAAAAAAAAAAABAAAAAAAAAAAAAAAAAAAAAQAAAAAAAAAAAAAAAAAAQAAAAAJYAAABkAAAAAAAJGVkdHMAAAAcZWxzdAAAAAAAAAABAAAMbAAAAgAAAQAAAAAI4W1kaWEAAAAgbWRoZAAAAAAAAAAAAAAAAAAAMgAAAJ8AVcQAAAAAAC1oZGxyAAAAAAAAAAB2aWRlAAAAAAAAAAAAAAAAVmlkZW9IYW5kbGVyAAAACIxtaW5mAAAAFHZtaGQAAAABAAAAAAAAAAAAAAAkZGluZgAAABxkcmVmAAAAAAAAAAEAAAAMdXJsIAAAAAEAAAhMc3RibAAAAJhzdHNkAAAAAAAAAAEAAACIYXZjMQAAAAAAAAABAAAAAAAAAAAAAAAAAAAAAAJYAZAASAAAAEgAAAAAAAAAAQAAAAAAAAAAAAAAAAAAAAAAAAAAAAAAAAAAAAAAAAAAABj//wAAADJhdmNDAWQAH//hABlnZAAfrNlAmDPl4QAAAwABAAADAGQPGDGWAQAGaOvjyyLAAAAAGHN0dHMAAAAAAAAAAQAAAJ8AAAEAAAAAFHN0c3MAAAAAAAAAAQAAAAEAAATAY3R0cwAAAAAAAACWAAAAAQAAAgAAAAABAAAFAAAAAAEAAAIAAAAAAQAAAAAAAAABAAABAAAAAAEAAAMAAAAAAQAAAQAAAAABAAACAAAAAAEAAAUAAAAAAQAAAgAAAAABAAAAAAAAAAEAAAEAAAAAAQAABAAAAAACAAABAAAAAAEAAAUAAAAAAQAAAgAAAAABAAAAAAAAAAEAAAEAAAAAAQAABQAAAAABAAACAAAAAAEAAAAAAAAAAQAAAQAAAAABAAAFAAAAAAEAAAIAAAAAAQAAAAAAAAABAAABAAAAAAEAAAQAAAAAAgAAAQAAAAABAAAFAAAAAAEAAAIAAAAAAQAAAAAAAAABAAABAAAAAAEAAAUAAAAAAQAAAgAAAAABAAAAAAAAAAEAAAEAAAAAAQAABQAAAAABAAACAAAAAAEAAAAAAAAAAQAAAQAAAAABAAAFAAAAAAEAAAIAAAAAAQAAAAAAAAABAAABAAAAAAEAAAUAAAAAAQAAAgAAAAABAAAAAAAAAAEAAAEAAAAAAQAABQAAAAABAAACAAAAAAEAAAAAAAAAAQAAAQAAAAABAAAFAAAAAAEAAAIAAAAAAQAAAAAAAAABAAABAAAAAAEAAAUAAAAAAQAAAgAAAAABAAAAAAAAAAEAAAEAAAAAAQAABQAAAAABAAACAAAAAAEAAAAAAAAAAQAAAQAAAAABAAAFAAAAAAEAAAIAAAAAAQAAAAAAAAABAAABAAAAAAEAAAUAAAAAAQAAAgAAAAABAAAAAAAAAAEAAAEAAAAAAQAABQAAAAABAAACAAAAAAEAAAAAAAAAAQAAAQAAAAABAAAFAAAAAAEAAAIAAAAAAQAAAAAAAAABAAABAAAAAAEAAAUAAAAAAQAAAgAAAAABAAAAAAAAAAEAAAEAAAAAAQAABQAAAAABAAACAAAAAAEAAAAAAAAAAQAAAQAAAAABAAAFAAAAAAEAAAIAAAAAAQAAAAAAAAABAAABAAAAAAEAAAUAAAAAAQAAAgAAAAABAAAAAAAAAAEAAAEAAAAAAQAABQAAAAABAAACAAAAAAEAAAAAAAAAAQAAAQAAAAABAAAFAAAAAAEAAAIAAAAAAQAAAAAAAAABAAABAAAAAAEAAAUAAAAAAQAAAgAAAAABAAAAAAAAAAEAAAEAAAAAAQAABQAAAAABAAACAAAAAAEAAAAAAAAAAQAAAQAAAAABAAAFAAAAAAEAAAIAAAAAAQAAAAAAAAABAAABAAAAAAEAAAUAAAAAAQAAAgAAAAABAAAAAAAAAAEAAAEAAAAAAQAABQAAAAABAAACAAAAAAEAAAAAAAAAAQAAAQAAAAADAAACAAAAAAEAAAMAAAAAAQAAAQAAAAABAAADAAAAAAEAAAEAAAAAAQAAAwAAAAABAAABAAAAAAIAAAIAAAAAAQAAAwAAAAABAAABAAAAAAEAAAQAAAAAAgAAAQAAAAABAAADAAAAAAEAAAEAAAAAAQAAAwAAAAABAAABAAAAAAEAAAMAAAAAAQAAAQAAAAABAAACAAAAAAEAAAQAAAAAAgAAAQAAAAABAAAEAAAAAAIAAAEAAAAAAQAAAgAAAAABAAAEAAAAAAIAAAEAAAAAHHN0c2MAAAAAAAAAAQAAAAEAAACfAAAAAQAAApBzdHN6AAAAAAAAAAAAAACfAAAImQAAASsAAAB3AAAASQAAAJoAAADdAAAAigAAAK8AAADAAAAAqwAAAGUAAACNAAAA0wAAAJ0AAABbAAAAjAAAAGwAAABXAAAAVQAAAIEAAABPAAAAhAAAAF4AAAA+AAAASgAAAE4AAABOAAAAYAAAADsAAAA3AAAATAAAACEAAAAmAAAAVQAAADUAAAAgAAAATwAAABkAAAAdAAAAGQAAABcAAAA1AAAAGwAAABgAAAAWAAAAFgAAABsAAAAYAAAAFgAAABYAAAAbAAAAGAAAABYAAAAWAAAAGwAAABgAAAAWAAAAFgAAABsAAAAYAAAAFgAAABYAAAAbAAAAGAAAABYAAAAWAAAAGwAAABgAAAAWAAAAFgAAABsAAAAYAAAAFgAAABYAAAAbAAAAGAAAABYAAAAWAAAAGwAAABgAAAAWAAAAFgAAABsAAAAYAAAAFgAAABYAAAAbAAAAGAAAABYAAAAWAAAAGwAAABgAAAAWAAAAFgAAABsAAAAYAAAAFgAAABYAAAAbAAAAGAAAABYAAAAWAAAAGwAAABgAAAAWAAAAFgAAABsAAAAYAAAAFgAAABYAAAAbAAAAGAAAABYAAAAWAAAAGwAAABgAAAAWAAAAFgAAABsAAAAYAAAAFgAAABYAAAC9AAAAbAAAABUAAABmAAAAugAAAPMAAAFIAAABmAAAAJgAAAEhAAAAgQAAARIAAACWAAABIwAAARgAAAFhAAAAkwAAAWAAAACrAAAApwAAATgAAACfAAABLwAAALQAAAEZAAAAqAAAASkAAAE4AAAAuQAAAJ0AAAEsAAAApAAAAKIAAAEfAAABPQAAANAAAAD5AAAAFHN0Y28AAAAAAAAAAQAAADAAAABidWR0YQAAAFptZXRhAAAAAAAAACFoZGxyAAAAAAAAAABtZGlyYXBwbAAAAAAAAAAAAAAAAC1pbHN0AAAAJal0b28AAAAdZGF0YQAAAAEAAAAATGF2ZjU3LjgzLjEwMA==\" type=\"video/mp4\" />\n",
              "             </video>"
            ],
            "text/plain": [
              "<IPython.core.display.HTML object>"
            ]
          },
          "metadata": {
            "tags": []
          }
        }
      ]
    },
    {
      "cell_type": "markdown",
      "metadata": {
        "id": "vbsgAW8c8kXe"
      },
      "source": [
        "ATTENTION, sous colab, bie. répéter la ligne\n",
        "`env = wrap_env(gym.make(\"LunarLander-v2\"))' avant le reset et la création de vidéos\n"
      ]
    },
    {
      "cell_type": "markdown",
      "metadata": {
        "id": "TL9qn8nVc8Qc"
      },
      "source": [
        "---\n",
        "\n",
        "# Test d'algorithme génétique\n",
        "## Test de programme évolutionnaire pour atteindre l'objectif\n",
        "- Utiliser l'environnement `LunarLander-v2`, car il est plus rapide \n",
        "- Programmez (en python) un algo génétique avec initialement les éléments suivants : \n",
        "  - sequence : tableau de valeurs entières 0, 1, 2 ou 3.\n",
        "  - 1 point de croisement (au centre)\n",
        "    - *(pour commencer, on pourrait proposer 2 points de croisement (au 1/3, et 2/3))*\n",
        "  - taille sequence : taille_seq = 150\n",
        "  - taille population initiale : taille_pop = 500\n",
        "  - taux de gènes mutants dans une séquence : taux_mut_seq = 0.1\n",
        "  - taux de séquences mutantes dans la population : taux_mut_pop = 0.2\n",
        "  - nombre max de cycles de reproductions : nb_cycles = 3000\n",
        "\n",
        "\n",
        "- Pour tester une séquence, il suffit de balayer le tableau et de lancer l'action correspondante..\n",
        "- Les 4 meilleures séquences (11,22,33,44) se reproduisent entre elles, donnant donc 12 fils : 12, 13, 14, 21, 23, 24, 31, 32, 34, 41, 42, 43.\n",
        "- Idéalement, un filtre doit permettre de supprimer les séquences identiques qui pourraient venir des croisements et des mutations.\n",
        "\n",
        "- Tester votre algo sur le nb de générations et afficher le rendu toutes les 100 générations et bien sûr le rendu de la meilleure séquence finale.\n",
        "  - (uniquement la position finale *colab*)\n",
        "  - (sous forme d'animation sous autre outil)\n",
        "\n",
        "\n",
        "- ***NB:*** \n",
        "  - Au plus simple il est possible d'utiliser une population (liste) de couples [sequence, utilite] où l'utilité serait la distance en x."
      ]
    },
    {
      "cell_type": "markdown",
      "metadata": {
        "id": "B-_UKQ_cc8Qc"
      },
      "source": [
        "---\n",
        "### V2 : Arrivée avec angle \n",
        "- Maintenant la sonde arrive avec un angle donné (45 par exemple).\n",
        "Vérifiez que votre algorithme trouve bien la solution..."
      ]
    },
    {
      "cell_type": "code",
      "metadata": {
        "id": "PhYAPxQ7c8Qd"
      },
      "source": [
        "def reset2(angle):\n",
        "    env.reset();\n",
        "    env.lander.angle = angle\n",
        "    env.lander.angularVelocity = 0\n",
        "    env.lander.ApplyForceToCenter( (\n",
        "            0,0,\n",
        "            ), False)\n",
        "    env.lander.linearVelocity = b2.b2Vec2()"
      ],
      "execution_count": null,
      "outputs": []
    },
    {
      "cell_type": "code",
      "metadata": {
        "id": "zcIOeCqD9M6T"
      },
      "source": [
        "reset2()\n",
        "#application de l'algo..."
      ],
      "execution_count": null,
      "outputs": []
    }
  ]
}