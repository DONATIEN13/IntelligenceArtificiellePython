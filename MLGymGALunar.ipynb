{
  "nbformat": 4,
  "nbformat_minor": 0,
  "metadata": {
    "kernelspec": {
      "display_name": "Python 3",
      "language": "python",
      "name": "python3"
    },
    "language_info": {
      "codemirror_mode": {
        "name": "ipython",
        "version": 3
      },
      "file_extension": ".py",
      "mimetype": "text/x-python",
      "name": "python",
      "nbconvert_exporter": "python",
      "pygments_lexer": "ipython3",
      "version": "3.8.2"
    },
    "colab": {
      "name": "MLGymGALunar.ipynb",
      "provenance": []
    }
  },
  "cells": [
    {
      "cell_type": "markdown",
      "metadata": {
        "id": "2U1cvSyEc8QL"
      },
      "source": [
        "<a href=\"https://github.com/EmmanuelADAM/IntelligenceArtificiellePython/blob/master/MLGymGALunar.ipynb\" target=\"_parent\"><img src=\"https://colab.research.google.com/assets/colab-badge.svg\" alt=\"Open In Colab\"/></a>"
      ]
    },
    {
      "cell_type": "markdown",
      "metadata": {
        "id": "R1JGLAgwc8QT"
      },
      "source": [
        "# Machine Learning\n",
        "## Appliqué à [Gym.OpenAI]((https://gym.openai.com)"
      ]
    },
    {
      "cell_type": "markdown",
      "metadata": {
        "id": "jAxBcni7c8QU"
      },
      "source": [
        "Voir la page d'[introduction à Gym](https://github.com/EmmanuelADAM/IntelligenceArtificiellePython/blob/master/TPMLIntroGym.ipynb)."
      ]
    },
    {
      "cell_type": "markdown",
      "metadata": {
        "id": "OkeRn1dSc8QV"
      },
      "source": [
        "### Installation de gym"
      ]
    },
    {
      "cell_type": "markdown",
      "metadata": {
        "id": "x7FmTurCc8QV"
      },
      "source": [
        "#### Outil AUTRE QUE COLAB (pyzo, jupyter lab, .....)"
      ]
    },
    {
      "cell_type": "code",
      "metadata": {
        "colab": {
          "base_uri": "https://localhost:8080/"
        },
        "id": "t3tktHV8c8QV",
        "outputId": "54413f55-11c5-48eb-9d56-e24d99d86758"
      },
      "source": [
        "!pip install gym\n",
        "!pip install Box2D\n"
      ],
      "execution_count": 1,
      "outputs": [
        {
          "output_type": "stream",
          "text": [
            "Requirement already satisfied: gym in /usr/local/lib/python3.7/dist-packages (0.17.3)\n",
            "Requirement already satisfied: pyglet<=1.5.0,>=1.4.0 in /usr/local/lib/python3.7/dist-packages (from gym) (1.5.0)\n",
            "Requirement already satisfied: numpy>=1.10.4 in /usr/local/lib/python3.7/dist-packages (from gym) (1.19.5)\n",
            "Requirement already satisfied: cloudpickle<1.7.0,>=1.2.0 in /usr/local/lib/python3.7/dist-packages (from gym) (1.3.0)\n",
            "Requirement already satisfied: scipy in /usr/local/lib/python3.7/dist-packages (from gym) (1.4.1)\n",
            "Requirement already satisfied: future in /usr/local/lib/python3.7/dist-packages (from pyglet<=1.5.0,>=1.4.0->gym) (0.16.0)\n",
            "Requirement already satisfied: Box2D in /usr/local/lib/python3.7/dist-packages (2.3.10)\n"
          ],
          "name": "stdout"
        }
      ]
    },
    {
      "cell_type": "code",
      "metadata": {
        "id": "Fh6bGseSc8QW"
      },
      "source": [
        "#GYM\n",
        "import gym\n",
        "import Box2D as b2\n",
        "\n",
        "#Random\n",
        "from random import  randint\n",
        "#\n",
        "from math import exp\n",
        "#for sorting\n",
        "import functools\n",
        "#array\n",
        "import numpy as np\n",
        "\n",
        "#for charts\n",
        "import matplotlib.pyplot as plt\n",
        "#On MAc : \n",
        "#import matplotlib\n",
        "#matplotlib.use(\"MacOSX\")"
      ],
      "execution_count": null,
      "outputs": []
    },
    {
      "cell_type": "markdown",
      "metadata": {
        "id": "XmkvWHemc8QW"
      },
      "source": [
        "#### <font color=red>Sous colab</font>\n",
        "*Sous colab, l'affichage ne sera pas dynamique.. Il faudra passer soit par un rendu sous forme de plot (matplotlib), soit passer par une vidéo à enregistrer...*\n",
        "\n",
        "***Solution pour affichage statique***<br>\n",
        "*Il vous faut importer, seulement si vous utilisez colab, les packages suivants :*"
      ]
    },
    {
      "cell_type": "code",
      "metadata": {
        "colab": {
          "base_uri": "https://localhost:8080/"
        },
        "id": "F9fLsDsQc8QX",
        "outputId": "e26bdede-31d2-49dd-e4d8-ccc9ef3b1567"
      },
      "source": [
        "!sudo apt-get update\n",
        "!pip install gym pyvirtualdisplay > /dev/null 2>&1\n",
        "!apt-get install -y xvfb python-opengl ffmpeg > /dev/null 2>&1"
      ],
      "execution_count": 2,
      "outputs": [
        {
          "output_type": "stream",
          "text": [
            "\r0% [Working]\r            \rIgn:1 https://developer.download.nvidia.com/compute/cuda/repos/ubuntu1804/x86_64  InRelease\n",
            "\r0% [Waiting for headers] [Waiting for headers] [Waiting for headers] [Waiting f\r                                                                               \rHit:2 https://cloud.r-project.org/bin/linux/ubuntu bionic-cran40/ InRelease\n",
            "\r0% [Waiting for headers] [Waiting for headers] [Waiting for headers] [Waiting f\r0% [2 InRelease gpgv 3,626 B] [Waiting for headers] [Waiting for headers] [Wait\r                                                                               \rHit:3 http://archive.ubuntu.com/ubuntu bionic InRelease\n",
            "\r0% [2 InRelease gpgv 3,626 B] [Waiting for headers] [Waiting for headers] [Wait\r                                                                               \rHit:4 http://ppa.launchpad.net/c2d4u.team/c2d4u4.0+/ubuntu bionic InRelease\n",
            "\r0% [2 InRelease gpgv 3,626 B] [Waiting for headers] [Waiting for headers] [Conn\r                                                                               \rIgn:5 https://developer.download.nvidia.com/compute/machine-learning/repos/ubuntu1804/x86_64  InRelease\n",
            "Hit:6 http://security.ubuntu.com/ubuntu bionic-security InRelease\n",
            "Hit:7 https://developer.download.nvidia.com/compute/cuda/repos/ubuntu1804/x86_64  Release\n",
            "Hit:8 https://developer.download.nvidia.com/compute/machine-learning/repos/ubuntu1804/x86_64  Release\n",
            "Hit:9 http://archive.ubuntu.com/ubuntu bionic-updates InRelease\n",
            "Hit:10 http://archive.ubuntu.com/ubuntu bionic-backports InRelease\n",
            "Hit:11 http://ppa.launchpad.net/cran/libgit2/ubuntu bionic InRelease\n",
            "Hit:12 http://ppa.launchpad.net/deadsnakes/ppa/ubuntu bionic InRelease\n",
            "Hit:14 http://ppa.launchpad.net/graphics-drivers/ppa/ubuntu bionic InRelease\n",
            "Reading package lists... Done\n"
          ],
          "name": "stdout"
        }
      ]
    },
    {
      "cell_type": "code",
      "metadata": {
        "colab": {
          "base_uri": "https://localhost:8080/"
        },
        "id": "KPaC4E6coJBd",
        "outputId": "5782ef40-95d3-46fc-9ced-c8bf39dbe47a"
      },
      "source": [
        "!apt-get update > /dev/null 2>&1\n",
        "!apt-get install cmake > /dev/null 2>&1\n",
        "!pip install --upgrade setuptools 2>&1\n",
        "!pip install ez_setup > /dev/null 2>&1"
      ],
      "execution_count": 3,
      "outputs": [
        {
          "output_type": "stream",
          "text": [
            "Requirement already up-to-date: setuptools in /usr/local/lib/python3.7/dist-packages (56.0.0)\n"
          ],
          "name": "stdout"
        }
      ]
    },
    {
      "cell_type": "code",
      "metadata": {
        "id": "Z2gvn7eFrVAr"
      },
      "source": [
        "#GYM\n",
        "import gym\n",
        "from gym.wrappers import Monitor\n",
        "import glob\n",
        "import io\n",
        "import base64\n",
        "from IPython.display import HTML\n",
        "from pyvirtualdisplay import Display\n",
        "from IPython import display as ipythondisplay\n",
        "\n",
        "display = Display(visible=0, size=(1400, 900))\n",
        "display.start()\n",
        "\n",
        "\"\"\"\n",
        "Utility functions to enable video recording of gym environment \n",
        "and displaying it.\n",
        "To enable video, just do \"env = wrap_env(env)\"\"\n",
        "\"\"\"\n",
        "\n",
        "def show_video():\n",
        "  mp4list = glob.glob('video/*.mp4')\n",
        "  if len(mp4list) > 0:\n",
        "    mp4 = mp4list[0]\n",
        "    video = io.open(mp4, 'r+b').read()\n",
        "    encoded = base64.b64encode(video)\n",
        "    ipythondisplay.display(HTML(data='''<video alt=\"test\" autoplay \n",
        "                loop controls style=\"height: 400px;\">\n",
        "                <source src=\"data:video/mp4;base64,{0}\" type=\"video/mp4\" />\n",
        "             </video>'''.format(encoded.decode('ascii'))))\n",
        "  else: \n",
        "    print(\"Could not find video\")\n",
        "    \n",
        "\n",
        "def wrap_env(env):\n",
        "  env = Monitor(env, './video', force=True)\n",
        "  return env"
      ],
      "execution_count": 9,
      "outputs": []
    },
    {
      "cell_type": "code",
      "metadata": {
        "id": "RdRAbqsLc8QX"
      },
      "source": [
        "#GYM\n",
        "import gym\n",
        "import Box2D as b2\n",
        "\n",
        "#Random\n",
        "from random import  randint\n",
        "#\n",
        "from math import exp\n",
        "#for sorting\n",
        "import functools\n",
        "#array\n",
        "import numpy as np\n",
        "\n",
        "#for charts\n",
        "import matplotlib.pyplot as plt\n"
      ],
      "execution_count": 10,
      "outputs": []
    },
    {
      "cell_type": "markdown",
      "metadata": {
        "id": "M0CKlm8yc8QX"
      },
      "source": [
        "---\n",
        "## Charger l' environnement\n",
        "On utilise ici l'environnement `LunarLander-v2`.\n"
      ]
    },
    {
      "cell_type": "code",
      "metadata": {
        "id": "vslFd4bsc8QY"
      },
      "source": [
        "env = gym.make('LunarLander-v2') "
      ],
      "execution_count": 7,
      "outputs": []
    },
    {
      "cell_type": "markdown",
      "metadata": {
        "id": "Fq51caAquYXx"
      },
      "source": [
        "#### <font color=red><b>Sous colab</b></font>"
      ]
    },
    {
      "cell_type": "code",
      "metadata": {
        "id": "SMluStWEudGS"
      },
      "source": [
        "env = wrap_env(gym.make(\"LunarLander-v2\"))"
      ],
      "execution_count": 11,
      "outputs": []
    },
    {
      "cell_type": "markdown",
      "metadata": {
        "id": "f6uBQVeSc8QY"
      },
      "source": [
        "---\n",
        "### Les valeurs des caractéristiques\n",
        "Pour `LunarLander-v2`, vous trouverez l'explication des valeurs [ici](https://gym.openai.com/envs/LunarLander-v2/).\n",
        "\n",
        "Il s'agit de faire atterrir une sonde sur une planète.\n",
        "\n",
        "L'espace des actions est une valeur discrète dans l'intervalle [0,3] : \n",
        "  - 0 : Ne rien faire\n",
        "  - 1 : allumage du moteur gauche\n",
        "  - 2 : allumage du moteur central\n",
        "  - 3 : allumage du moteur droit\n",
        "\n",
        "Les observations sont au nombre de 8 : \n",
        "  - obs[0] : coordonnée horizontale\n",
        "  - obs[1] : coordonnée verticale\n",
        "  - obs[2] : vitesse horizontale\n",
        "  - obs[3] : vitesse verticale\n",
        "  - obs[4] : angle de la sonde\n",
        "  - obs[5] : vitesse angulaire (de rotation)\n",
        "  - obs[6] : 1 si le pied gauche de la sonde est au contact du sol, 0 sinon\n",
        "  - obs[7] : 1 si le pied droit de la sonde est au contact du sol, 0 sinon\n",
        "\n",
        "Le but est donc de faire atterrir la sonde dans une position donnée (0,0) avec une vitesse suffisamment faible pour éviter le crash.\n"
      ]
    },
    {
      "cell_type": "code",
      "metadata": {
        "colab": {
          "base_uri": "https://localhost:8080/"
        },
        "id": "09ECNjqVc8QY",
        "outputId": "ccd7ff39-a466-4051-eaf7-a799b40f0298"
      },
      "source": [
        "print(env.spec)\n",
        "print(\"nombre et type d'actions = \", env.action_space) \n",
        "print(\"nombre et type d'observations = \", env.observation_space) \n",
        "print(\"valeurs de  observations les plus basses = \", env.observation_space.low) \n",
        "print(\"valeurs de observations les plus elevées = \", env.observation_space.high) "
      ],
      "execution_count": 12,
      "outputs": [
        {
          "output_type": "stream",
          "text": [
            "EnvSpec(LunarLander-v2)\n",
            "nombre et type d'actions =  Discrete(4)\n",
            "nombre et type d'observations =  Box(-inf, inf, (8,), float32)\n",
            "valeurs de  observations les plus basses =  [-inf -inf -inf -inf -inf -inf -inf -inf]\n",
            "valeurs de observations les plus elevées =  [inf inf inf inf inf inf inf inf]\n"
          ],
          "name": "stdout"
        }
      ]
    },
    {
      "cell_type": "markdown",
      "metadata": {
        "id": "4H9Oy9y0c8QZ"
      },
      "source": [
        "### (Re)Initialiser l'environnement\n",
        "`env.reset()` initialise les variables d'environnement. L'exécution est obligatoire après avoir chargé l'environnement. Ici ce sont les coordonnées, l'angle et les vitesses.\n",
        "\n",
        "C'est un environnement non déterministe par défaut, `env.reset()` retourne des valeurs légèrement différentes à chaque exécution : "
      ]
    },
    {
      "cell_type": "code",
      "metadata": {
        "colab": {
          "base_uri": "https://localhost:8080/"
        },
        "id": "OeQdQyPVc8Qa",
        "outputId": "e7e1fd9b-f3f4-4541-f155-fd763bed43c7"
      },
      "source": [
        "env.reset()"
      ],
      "execution_count": 13,
      "outputs": [
        {
          "output_type": "execute_result",
          "data": {
            "text/plain": [
              "array([-5.2442553e-04,  1.4150872e+00, -5.3131618e-02,  1.8520613e-01,\n",
              "        6.1443908e-04,  1.2035106e-02,  0.0000000e+00,  0.0000000e+00],\n",
              "      dtype=float32)"
            ]
          },
          "metadata": {
            "tags": []
          },
          "execution_count": 13
        }
      ]
    },
    {
      "cell_type": "markdown",
      "metadata": {
        "id": "ORi7Ad0Gc8Qa"
      },
      "source": [
        "L'algorithme génétique se prète mal aux environnement non stables; aussi nous utiliserons la fonction suivante pour fixer les vitesses et angles initiaux : "
      ]
    },
    {
      "cell_type": "code",
      "metadata": {
        "id": "bj1H4n1qc8Qa"
      },
      "source": [
        "def reset():\n",
        "    env.reset();\n",
        "    env.lander.angle=0\n",
        "    env.lander.angularVelocity = 0\n",
        "    env.lander.ApplyForceToCenter( (0,0,), False)\n",
        "    env.lander.linearVelocity = b2.b2Vec2()"
      ],
      "execution_count": 14,
      "outputs": []
    },
    {
      "cell_type": "markdown",
      "metadata": {
        "id": "9h3mgRypc8Qb"
      },
      "source": [
        "---\n",
        "### Les actions\n",
        "- Dans `LunarLander-v2` : [-1.0] fait reculer le véhicule d'une force 1, [0] le met au point mort, [1.0] le fait avancer d'une force 1\n",
        "\n",
        "- ***Exécuter une action :***\n",
        "  - *exécution* : `observation, reward,done,info = env.step(action)`\n",
        "    - `observation`: ici les 8 éléments d'observation\n",
        "    - `reward`: utilité de l'état (récompense 100 si bien posé, -100 si crash)\n",
        "    - `done` : booléen (True si but (position) atteinte)\n",
        "    - `info` : éventuelle information retournée par l'outil"
      ]
    },
    {
      "cell_type": "markdown",
      "metadata": {
        "id": "px6f9SKSc8Qb"
      },
      "source": [
        "**Exemples d'actions**"
      ]
    },
    {
      "cell_type": "code",
      "metadata": {
        "id": "DfPNsQDBc8Qb"
      },
      "source": [
        "def test_action(no: int, nb: int = 1):\n",
        "    \"\"\"effectue nb fois l'action no dans l'environnement chargé\"\"\"\n",
        "    done:bool = False\n",
        "    i:int = 0\n",
        "    while i<nb and not done:\n",
        "        env.render()\n",
        "        obs, reward, done, info = env.step(no)\n",
        "        print(obs, reward, done, info)\n",
        "    return done\n",
        "\n",
        "def test():\n",
        "  done = test_action(0, 40)\n",
        "  if (not done): done = test_action(2, 40)\n",
        "  if (not done): done = test_action(1, 40)\n",
        "  if (not done): done = test_action(3, 40)"
      ],
      "execution_count": 19,
      "outputs": []
    },
    {
      "cell_type": "code",
      "metadata": {
        "colab": {
          "base_uri": "https://localhost:8080/"
        },
        "id": "BUwg5Vf_c8Qb",
        "outputId": "222bf1e1-8249-4d81-cb86-51ff4f9f89d8"
      },
      "source": [
        "reset()\n",
        "test()"
      ],
      "execution_count": 20,
      "outputs": [
        {
          "output_type": "stream",
          "text": [
            "[ 6.7186356e-04  1.4087477e+00  1.7187316e-03 -2.7636923e-02\n",
            "  2.2226811e-04  4.4462113e-03  0.0000000e+00  0.0000000e+00] 6.892452063859764 False {}\n",
            "[ 6.9122313e-04  1.4075255e+00  1.7183230e-03 -5.4314770e-02\n",
            "  4.4525290e-04  4.4601578e-03  0.0000000e+00  0.0000000e+00] -2.5652535121430446 False {}\n",
            "[ 7.1067811e-04  1.4057035e+00  1.7175792e-03 -8.0980293e-02\n",
            "  6.6799961e-04  4.4550407e-03  0.0000000e+00  0.0000000e+00] -2.5057277594552545 False {}\n",
            "[ 7.3013303e-04  1.4032815e+00  1.7169183e-03 -1.0764830e-01\n",
            "  8.9069258e-04  4.4543026e-03  0.0000000e+00  0.0000000e+00] -2.446404763703356 False {}\n",
            "[ 7.4949267e-04  1.4002593e+00  1.7162567e-03 -1.3431647e-01\n",
            "  1.1133424e-03  4.4536074e-03  0.0000000e+00  0.0000000e+00] -2.3866010421063493 False {}\n",
            "[ 7.6894759e-04  1.3966371e+00  1.7155971e-03 -1.6098477e-01\n",
            "  1.3359621e-03  4.4528903e-03  0.0000000e+00  0.0000000e+00] -2.3266903741736655 False {}\n",
            "[ 7.8840257e-04  1.3924149e+00  1.7149386e-03 -1.8765312e-01\n",
            "  1.5585466e-03  4.4521876e-03  0.0000000e+00  0.0000000e+00] -2.2667494153491816 False {}\n",
            "[ 8.0776215e-04  1.3875927e+00  1.7142836e-03 -2.1432151e-01\n",
            "  1.7810904e-03  4.4514653e-03  0.0000000e+00  0.0000000e+00] -2.2067695040284434 False {}\n",
            "[ 8.2721713e-04  1.3821704e+00  1.7136282e-03 -2.4098991e-01\n",
            "  2.0036162e-03  4.4509438e-03  0.0000000e+00  0.0000000e+00] -2.1467969735586507 False {}\n",
            "[ 8.4657670e-04  1.3761482e+00  1.7129777e-03 -2.6765838e-01\n",
            "  2.2261005e-03  4.4500446e-03  0.0000000e+00  0.0000000e+00] -2.086806076491996 False {}\n",
            "[ 8.6603162e-04  1.3695258e+00  1.7123269e-03 -2.9432684e-01\n",
            "  2.4485260e-03  4.4492679e-03  0.0000000e+00  0.0000000e+00] -2.026798182716817 False {}\n",
            "[ 8.8539126e-04  1.3623034e+00  1.7116771e-03 -3.2099539e-01\n",
            "  2.6709684e-03  4.4490211e-03  0.0000000e+00  0.0000000e+00] -1.9668221307332487 False {}\n",
            "[ 9.0465543e-04  1.3544810e+00  1.7110329e-03 -3.4766397e-01\n",
            "  2.8933496e-03  4.4478397e-03  0.0000000e+00  0.0000000e+00] -1.9068156838338837 False {}\n",
            "[ 9.2401507e-04  1.3460585e+00  1.7103851e-03 -3.7433255e-01\n",
            "  3.1156852e-03  4.4472204e-03  0.0000000e+00  0.0000000e+00] -1.8468205654683914 False {}\n",
            "[ 9.4337465e-04  1.3370360e+00  1.7097443e-03 -4.0100116e-01\n",
            "  3.3379963e-03  4.4465056e-03  0.0000000e+00  0.0000000e+00] -1.7868154373599339 False {}\n",
            "[ 9.6263888e-04  1.3274133e+00  1.7091032e-03 -4.2766985e-01\n",
            "  3.5602832e-03  4.4459580e-03  0.0000000e+00  0.0000000e+00] -1.7268127506184499 False {}\n",
            "[ 9.8199840e-04  1.3171908e+00  1.7084663e-03 -4.5433849e-01\n",
            "  3.7825266e-03  4.4453223e-03  0.0000000e+00  0.0000000e+00] -1.6668123422039116 False {}\n",
            "[ 1.0012627e-03  1.3063682e+00  1.7078314e-03 -4.8100722e-01\n",
            "  4.0047416e-03  4.4446308e-03  0.0000000e+00  0.0000000e+00] -1.6068257027336585 False {}\n",
            "[ 1.0206222e-03  1.2949455e+00  1.7071974e-03 -5.0767601e-01\n",
            "  4.2269365e-03  4.4443207e-03  0.0000000e+00  0.0000000e+00] -1.546807776159028 False {}\n",
            "[ 1.0399818e-03  1.2829227e+00  1.7065663e-03 -5.3434473e-01\n",
            "  4.4491147e-03  4.4437507e-03  0.0000000e+00  0.0000000e+00] -1.4868026057346242 False {}\n",
            "[ 1.0592460e-03  1.2702999e+00  1.7059392e-03 -5.6101358e-01\n",
            "  4.6712495e-03  4.4430373e-03  0.0000000e+00  0.0000000e+00] -1.4268056746096818 False {}\n",
            "[ 1.0786057e-03  1.2570771e+00  1.7053129e-03 -5.8768237e-01\n",
            "  4.8933588e-03  4.4422760e-03  0.0000000e+00  0.0000000e+00] -1.3667960401327548 False {}\n",
            "[ 1.0978698e-03  1.2432542e+00  1.7046913e-03 -6.1435133e-01\n",
            "  5.1154057e-03  4.4415109e-03  0.0000000e+00  0.0000000e+00] -1.3068064041061405 False {}\n",
            "[ 1.1172295e-03  1.2288313e+00  1.7040719e-03 -6.4102006e-01\n",
            "  5.3374218e-03  4.4408301e-03  0.0000000e+00  0.0000000e+00] -1.2467689649294584 False {}\n",
            "[ 1.1365891e-03  1.2137868e+00  1.7095162e-03 -6.6864276e-01\n",
            "  5.5593476e-03  4.4385311e-03  0.0000000e+00  0.0000000e+00] -1.2800135254557858 False {}\n",
            "[ 1.1558533e-03  1.1981423e+00  1.7095169e-03 -6.9530946e-01\n",
            "  5.7812715e-03  4.4383705e-03  0.0000000e+00  0.0000000e+00] -1.1244067665514592 False {}\n",
            "[ 1.1752129e-03  1.1818980e+00  1.7095159e-03 -7.2197610e-01\n",
            "  6.0031819e-03  4.4384263e-03  0.0000000e+00  0.0000000e+00] -1.0644184685664015 False {}\n",
            "[ 0.00119448  1.1650536   0.00170952 -0.74864274  0.0062251   0.00443844\n",
            "  0.          0.        ] -1.0044104047272526 False {}\n",
            "[ 0.00121384  1.1476091   0.00170952 -0.7753094   0.00644703  0.00443845\n",
            "  0.          0.        ] -0.9444015681547171 False {}\n",
            "[ 0.0012331   1.1295646   0.00170952 -0.801976    0.00666895  0.00443844\n",
            "  0.          0.        ] -0.8844060938250209 False {}\n",
            "[ 0.00125246  1.1109202   0.00170952 -0.82864267  0.00689087  0.0044384\n",
            "  0.          0.        ] -0.8244100050766008 False {}\n",
            "[ 0.00127182  1.0916756   0.00170952 -0.8553093   0.00711278  0.00443841\n",
            "  0.          0.        ] -0.7644010208277052 False {}\n",
            "[ 0.00129108  1.0718313   0.00170952 -0.88197595  0.0073347   0.00443834\n",
            "  0.          0.        ] -0.7044196872076327 False {}\n",
            "[ 0.00131044  1.0513868   0.00170952 -0.9086426   0.00755661  0.00443834\n",
            "  0.          0.        ] -0.6444104523829708 False {}\n",
            "[ 0.00132971  1.0303425   0.00170952 -0.93530923  0.00777854  0.00443834\n",
            "  0.          0.        ] -0.5844167043605637 False {}\n",
            "[ 0.00134907  1.008698    0.00170952 -0.9619759   0.00800045  0.00443834\n",
            "  0.          0.        ] -0.5244059739131615 False {}\n",
            "[ 0.00136833  0.98645353  0.00170952 -0.9886425   0.00822238  0.00443834\n",
            "  0.          0.        ] -0.46441194986820733 False {}\n",
            "[ 0.00138769  0.9636093   0.00170952 -1.0153091   0.0084443   0.00443833\n",
            "  0.          0.        ] -0.40443087018979895 False {}\n",
            "[ 0.00140705  0.94016474  0.00170952 -1.0419757   0.00866623  0.00443835\n",
            "  0.          0.        ] -0.34440818260043216 False {}\n",
            "[ 0.00142632  0.9161203   0.00170952 -1.0686424   0.00888815  0.00443836\n",
            "  0.          0.        ] -0.2844110396287931 False {}\n",
            "[ 0.00144567  0.89147586  0.00170952 -1.095309    0.00911008  0.00443834\n",
            "  0.          0.        ] -0.22441786683802434 False {}\n",
            "[ 0.00146494  0.8662314   0.00170952 -1.1219757   0.009332    0.00443832\n",
            "  0.          0.        ] -0.1644076952838418 False {}\n",
            "[ 0.0014843   0.84038705  0.00170952 -1.1486423   0.00955393  0.00443832\n",
            "  0.          0.        ] -0.10442751587567045 False {}\n",
            "[ 0.00150356  0.8139426   0.00170952 -1.175309    0.00977585  0.00443829\n",
            "  0.          0.        ] -0.04441809847267564 False {}\n",
            "[ 0.00152292  0.7868982   0.00170952 -1.2019756   0.00999777  0.00443833\n",
            "  0.          0.        ] 0.01557765473248196 False {}\n",
            "[ 0.00154228  0.7592537   0.00170952 -1.2286422   0.01021969  0.00443834\n",
            "  0.          0.        ] 0.07558680673110985 False {}\n",
            "[ 0.00156155  0.7310094   0.00170952 -1.2553089   0.01044161  0.00443833\n",
            "  0.          0.        ] 0.13556689288310508 False {}\n",
            "[ 0.00158091  0.702165    0.00170952 -1.2819755   0.01066351  0.00443831\n",
            "  0.          0.        ] 0.19557682028192858 False {}\n",
            "[ 0.00160017  0.6727205   0.00170952 -1.3086421   0.01088543  0.00443836\n",
            "  0.          0.        ] 0.25558449274672057 False {}\n",
            "[ 0.00161953  0.64267606  0.00170952 -1.3353088   0.01110735  0.00443836\n",
            "  0.          0.        ] 0.31557846291502756 False {}\n",
            "[ 0.00163879  0.61203176  0.00170952 -1.3619754   0.01132927  0.00443834\n",
            "  0.          0.        ] 0.37555756413320296 False {}\n",
            "[ 0.00165815  0.5807873   0.00170952 -1.3886421   0.01155118  0.00443837\n",
            "  0.          0.        ] 0.4355742210268545 False {}\n",
            "[ 0.00167751  0.54894286  0.00170952 -1.4153087   0.01177311  0.00443833\n",
            "  0.          0.        ] 0.4955732351213271 False {}\n",
            "[ 0.00169678  0.5164985   0.00170952 -1.4419754   0.01199503  0.00443834\n",
            "  0.          0.        ] 0.555558321620623 False {}\n",
            "[ 0.00171614  0.48345402  0.00170952 -1.468642    0.01221694  0.00443836\n",
            "  0.          0.        ] 0.6155667676045198 False {}\n",
            "[ 0.0017354   0.44980967  0.00170952 -1.4953086   0.01243887  0.00443828\n",
            "  0.          0.        ] 0.6755493272414412 False {}\n",
            "[ 0.00175476  0.41556525  0.00170952 -1.5219753   0.01266077  0.0044383\n",
            "  0.          0.        ] 0.7355556350495931 False {}\n",
            "[ 0.00177402  0.38072085  0.00170952 -1.5486419   0.01288269  0.00443832\n",
            "  0.          0.        ] 0.7955421526311284 False {}\n",
            "[ 0.00179338  0.34527647  0.00170952 -1.5753086   0.0131046   0.00443829\n",
            "  0.          0.        ] 0.8555302018816064 False {}\n",
            "[ 0.00181274  0.30923203  0.00170952 -1.6019752   0.01332652  0.0044383\n",
            "  0.          0.        ] 0.9155252833072041 False {}\n",
            "[ 0.00183201  0.2725877   0.00170952 -1.6286418   0.01354845  0.0044383\n",
            "  0.          0.        ] 0.9754941648298256 False {}\n",
            "[ 0.00185137  0.23534332  0.00170952 -1.6553085   0.01377036  0.00443829\n",
            "  0.          0.        ] 1.0354698621810314 False {}\n",
            "[ 0.00187063  0.19749886  0.00170952 -1.6819751   0.01399228  0.0044382\n",
            "  0.          0.        ] 1.0954342909139143 False {}\n",
            "[ 0.00188999  0.1590545   0.00170952 -1.7086418   0.0142142   0.00443816\n",
            "  0.          0.        ] 1.1553441799439952 False {}\n",
            "[ 1.9092560e-03  1.2001012e-01  1.7095201e-03 -1.7353084e+00\n",
            "  1.4436121e-02  4.4381828e-03  0.0000000e+00  0.0000000e+00] 1.2151869578816274 False {}\n",
            "[ 1.9286156e-03  8.0365717e-02  1.7095201e-03 -1.7619750e+00\n",
            "  1.4658038e-02  4.4381707e-03  0.0000000e+00  0.0000000e+00] 1.2747911477933371 False {}\n",
            "[ 1.9479751e-03  4.0121350e-02  1.7095205e-03 -1.7886417e+00\n",
            "  1.4879951e-02  4.4381721e-03  0.0000000e+00  0.0000000e+00] 1.3331699012925355 False {}\n",
            "[ 1.9672394e-03 -7.2307826e-04  1.7095202e-03 -1.8153083e+00\n",
            "  1.5101868e-02  4.4382187e-03  0.0000000e+00  0.0000000e+00] 1.11841477099739 False {}\n",
            "[ 0.00204458 -0.04132071  0.03205452 -1.8038644  -0.00268049 -0.34779465\n",
            "  1.          1.        ] 18.430602680205226 False {}\n",
            "[ 2.0820617e-03 -4.2660560e-02 -1.1068530e-07  2.1119436e-07\n",
            "  1.3444185e-03  5.0032793e-07  1.0000000e+00  1.0000000e+00] -100 True {}\n"
          ],
          "name": "stdout"
        }
      ]
    },
    {
      "cell_type": "markdown",
      "metadata": {
        "id": "D-SnpGn6vNtE"
      },
      "source": [
        "\n",
        "\n",
        "**Sous Colab**\n"
      ]
    },
    {
      "cell_type": "code",
      "metadata": {
        "colab": {
          "base_uri": "https://localhost:8080/",
          "height": 421
        },
        "id": "DGcpVWwhvM_h",
        "outputId": "4bf426ce-3393-4b41-f3cc-d672fbc30503"
      },
      "source": [
        "env.close()\n",
        "show_video()"
      ],
      "execution_count": 21,
      "outputs": [
        {
          "output_type": "display_data",
          "data": {
            "text/html": [
              "<video alt=\"test\" autoplay \n",
              "                loop controls style=\"height: 400px;\">\n",
              "                <source src=\"data:video/mp4;base64,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\" type=\"video/mp4\" />\n",
              "             </video>"
            ],
            "text/plain": [
              "<IPython.core.display.HTML object>"
            ]
          },
          "metadata": {
            "tags": []
          }
        }
      ]
    },
    {
      "cell_type": "markdown",
      "metadata": {
        "id": "TL9qn8nVc8Qc"
      },
      "source": [
        "---\n",
        "\n",
        "# Test d'algorithme génétique\n",
        "## Test de programme évolutionnaire pour atteindre l'objectif\n",
        "- Utiliser l'environnement `LunarLander-v2`, car il est plus rapide \n",
        "- Programmez (en python) un algo génétique avec initialement les éléments suivants : \n",
        "  - sequence : tableau de valeurs entières 0, 1, 2 ou 3.\n",
        "  - 1 point de croisement (au centre)\n",
        "    - *(pour commencer, on pourrait proposer 2 points de croisement (au 1/3, et 2/3))*\n",
        "  - taille sequence : taille_seq = 150\n",
        "  - taille population initiale : taille_pop = 500\n",
        "  - taux de gènes mutants dans une séquence : taux_mut_seq = 0.1\n",
        "  - taux de séquences mutantes dans la population : taux_mut_pop = 0.2\n",
        "  - nombre max de cycles de reproductions : nb_cycles = 3000\n",
        "\n",
        "\n",
        "- Pour tester une séquence, il suffit de balayer le tableau et de lancer l'action correspondante..\n",
        "- Les 4 meilleures séquences (11,22,33,44) se reproduisent entre elles, donnant donc 12 fils : 12, 13, 14, 21, 23, 24, 31, 32, 34, 41, 42, 43.\n",
        "- Idéalement, un filtre doit permettre de supprimer les séquences identiques qui pourraient venir des croisements et des mutations.\n",
        "\n",
        "- Tester votre algo sur le nb de générations et afficher le rendu toutes les 100 générations et bien sûr le rendu de la meilleure séquence finale.\n",
        "  - (uniquement la position finale *colab*)\n",
        "  - (sous forme d'animation sous autre outil)\n",
        "\n",
        "\n",
        "- ***NB:*** \n",
        "  - Au plus simple il est possible d'utiliser une population (liste) de couples [sequence, utilite] où l'utilité serait la distance en x."
      ]
    },
    {
      "cell_type": "code",
      "metadata": {
        "id": "SCRAQkImc8Qc"
      },
      "source": [
        "#exemple :  \n",
        "env.env.state= np.array([-0.5, 0])\n",
        "tab = np.random.randint(-1, 2, 3) \n",
        "couple = [tab, 0]\n",
        "print(couple)\n",
        "for a in couple[0]:\n",
        "    obs, reward, done, info = env.step([a])\n",
        "print(\"arrive en x=\", round(obs[0],2), \", fini=\", done)\n",
        "couple[1] = obs[0]\n",
        "print(\"couple [actions, arrivee] = \", couple)"
      ],
      "execution_count": null,
      "outputs": []
    },
    {
      "cell_type": "markdown",
      "metadata": {
        "id": "B-_UKQ_cc8Qc"
      },
      "source": [
        "### Bonus : \n",
        "- Adapter la récompense pour favoriser les séquences qui atteignent le but en un minimum d'actions utiles (0 étant considéré comme une action inutile)"
      ]
    },
    {
      "cell_type": "code",
      "metadata": {
        "id": "PhYAPxQ7c8Qd"
      },
      "source": [
        ""
      ],
      "execution_count": null,
      "outputs": []
    }
  ]
}