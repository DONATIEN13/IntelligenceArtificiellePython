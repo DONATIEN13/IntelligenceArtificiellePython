{
  "nbformat": 4,
  "nbformat_minor": 0,
  "metadata": {
    "colab": {
      "name": "TestOUX.ipynb",
      "version": "0.3.2",
      "provenance": [],
      "collapsed_sections": []
    },
    "language_info": {
      "codemirror_mode": {
        "name": "ipython",
        "version": 3
      },
      "file_extension": ".py",
      "mimetype": "text/x-python",
      "name": "python",
      "nbconvert_exporter": "python",
      "pygments_lexer": "ipython3",
      "version": "3.7.3"
    },
    "kernelspec": {
      "display_name": "Python 3",
      "language": "python",
      "name": "python3"
    }
  },
  "cells": [
    {
      "cell_type": "markdown",
      "metadata": {
        "id": "view-in-github",
        "colab_type": "text"
      },
      "source": [
        "<a href=\"https://colab.research.google.com/github/EmmanuelADAM/IntelligenceArtificiellePython/blob/master/TestOUX.ipynb\" target=\"_parent\"><img src=\"https://colab.research.google.com/assets/colab-badge.svg\" alt=\"Open In Colab\"/></a>"
      ]
    },
    {
      "metadata": {
        "colab_type": "text",
        "id": "3qF8xmpAdACr"
      },
      "cell_type": "markdown",
      "source": [
        "#Exemple d'apprentissage du OUX avec TensorFlow\n"
      ]
    },
    {
      "metadata": {
        "colab_type": "text",
        "id": "JZpJB9iOdRS3"
      },
      "cell_type": "markdown",
      "source": [
        "##Importer les librairires"
      ]
    },
    {
      "metadata": {
        "colab_type": "code",
        "id": "odDg9S7xdFsv",
        "colab": {}
      },
      "cell_type": "code",
      "source": [
        "import tensorflow.keras as keras\n",
        "from tensorflow.keras.models import Sequential\n",
        "from tensorflow.keras.layers import Dense\n",
        "import numpy as np"
      ],
      "execution_count": 0,
      "outputs": []
    },
    {
      "metadata": {
        "colab_type": "text",
        "id": "XN8WXXdTdXx0"
      },
      "cell_type": "markdown",
      "source": [
        "---\n",
        "\n",
        "***Définir les entrées et sorties attendues***\n"
      ]
    },
    {
      "metadata": {
        "colab_type": "code",
        "id": "A1mjGN2Bb5Ki",
        "colab": {}
      },
      "cell_type": "code",
      "source": [
        "entrees = np.array([[0,0],[0,1],[1,0],[1,1]], float)\n",
        "sorties = np.array([[0],[1],[1],[0]], float)"
      ],
      "execution_count": 0,
      "outputs": []
    },
    {
      "metadata": {
        "colab_type": "text",
        "id": "SC-1MnShdwe0"
      },
      "cell_type": "markdown",
      "source": [
        "---\n",
        "\n",
        "***Choisir le modèle de réseau*** (*ici les couches sont séquentielles*)"
      ]
    },
    {
      "metadata": {
        "colab_type": "code",
        "id": "WbST4EmqcCdJ",
        "colab": {}
      },
      "cell_type": "code",
      "source": [
        "model = Sequential()"
      ],
      "execution_count": 0,
      "outputs": []
    },
    {
      "metadata": {
        "colab_type": "text",
        "id": "Jo5Ej8kkd8nh"
      },
      "cell_type": "markdown",
      "source": [
        "---\n",
        "\n",
        "***Définir l'architecture du réseau*** "
      ]
    },
    {
      "metadata": {
        "colab_type": "code",
        "id": "Vr6dcOJicGYM",
        "colab": {}
      },
      "cell_type": "code",
      "source": [
        "avec_bias = True\n",
        "#une premiere couche constituée de 2 neurones en sortie, de 3 neurones en entrée (2 pour les valeurs + 1 Bias), fonction d'activation = sigmoide\n",
        "model.add(Dense(2, input_dim=2, use_bias=avec_bias, activation='sigmoid'))\n",
        "\n",
        "#une seconde couche constituée de 1 neurone en sortie (et implicitement de 3 neurones en entrée), fonction d'activation = sigmoide\n",
        "model.add(Dense(1, activation='sigmoid'))\n"
      ],
      "execution_count": 0,
      "outputs": []
    },
    {
      "metadata": {
        "colab_type": "text",
        "id": "8L4LxSBWeaF1"
      },
      "cell_type": "markdown",
      "source": [
        "---\n",
        "\n",
        "***Compiler le  réseau*** * (ici, on précise que l'algo de correction d'erreur est 'adam', et que l'erreur calculée est la moyenne des valeurs absolues des erreurs commises)*"
      ]
    },
    {
      "metadata": {
        "colab_type": "code",
        "id": "HlnG97g7cQKW",
        "colab": {}
      },
      "cell_type": "code",
      "source": [
        "model.compile(optimizer='adam', loss='MSE')"
      ],
      "execution_count": 0,
      "outputs": []
    },
    {
      "metadata": {
        "colab_type": "text",
        "id": "rZ4IQ-bIdtN1"
      },
      "cell_type": "markdown",
      "source": [
        "---\n",
        "\n",
        "***Entraîner le réseau*** (*ici on ne le fait pas parler, et on lance 10000 cycles d'apprentissage*)"
      ]
    },
    {
      "metadata": {
        "colab_type": "code",
        "id": "ddTla-J_cfz8",
        "outputId": "0fd3cade-cd59-41db-c5f6-0ea22e48cac0",
        "colab": {
          "base_uri": "https://localhost:8080/",
          "height": 148
        }
      },
      "cell_type": "code",
      "source": [
        "model.fit(entrees, sorties, verbose=0, epochs=10000)"
      ],
      "execution_count": 6,
      "outputs": [
        {
          "output_type": "stream",
          "text": [          ],
          "name": "stdout"
        },
        {
          "output_type": "execute_result",
          "data": {
            "text/plain": [
              "<tensorflow.python.keras.callbacks.History at 0x7f0daf3319e8>"
            ]
          },
          "metadata": {
            "tags": []
          },
          "execution_count": 6
        }
      ]
    },
    {
      "metadata": {
        "colab_type": "text",
        "id": "I0zBYIALlDYp"
      },
      "cell_type": "markdown",
      "source": [
        "---\n",
        "\n",
        "***Vérifier le réseau*** (*Etape facultative, en générale on le teste sur d'autres exemples. Ici, on lui demande de calculer la sortie pour chaque exemple de l'ensemble d'entraînement*)"
      ]
    },
    {
      "metadata": {
        "colab_type": "code",
        "id": "Z89vptAXcuDM",
        "colab": {}
      },
      "cell_type": "code",
      "source": [
        "predictions = model.predict(entrees)"
      ],
      "execution_count": 0,
      "outputs": []
    },
    {
      "metadata": {
        "colab_type": "text",
        "id": "N38spzckmMMJ"
      },
      "cell_type": "markdown",
      "source": [
        "---\n",
        "**Affichage des résultats** (*on affiche les entrées, la sortie attendue, la sortie calculées ainsi que les poids appliquées aux entrées et au signal bias*) "
      ]
    },
    {
      "metadata": {
        "colab_type": "code",
        "id": "E7Lluiifcx0b",
        "outputId": "b431e35d-e4ca-4f0c-c2b4-d12392644472",
        "colab": {
          "base_uri": "https://localhost:8080/",
          "height": 102
        }
      },
      "cell_type": "code",
      "source": [
        "print(\"verification\")\n",
        "for i in range(0, len(entrees)):\n",
        "    print(str(entrees[i][0]), \" - \", entrees[i][1], \" attendu \", sorties[i], \" trouve \",  predictions[i])\n"
      ],
      "execution_count": 10,
      "outputs": [
        {
          "output_type": "stream",
          "text": [
            "verification\n",
            "0.0  -  0.0  attendu  [0.]  trouve  [0.03521344]\n",
            "0.0  -  1.0  attendu  [1.]  trouve  [0.9835434]\n",
            "1.0  -  0.0  attendu  [1.]  trouve  [0.9576686]\n",
            "1.0  -  1.0  attendu  [0.]  trouve  [0.0316713]\n"
          ],
          "name": "stdout"
        }
      ]
    },
    {
      "metadata": {
        "id": "7mo-ZRMpGgBk",
        "colab_type": "code",
        "colab": {}
      },
      "cell_type": "code",
      "source": [
        ""
      ],
      "execution_count": 0,
      "outputs": []
    }
  ]
}
