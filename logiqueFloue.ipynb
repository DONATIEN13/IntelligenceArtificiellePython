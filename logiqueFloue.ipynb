{
  "nbformat": 4,
  "nbformat_minor": 0,
  "metadata": {
    "colab": {
      "name": "Untitled2.ipynb",
      "version": "0.3.2",
      "provenance": [],
      "include_colab_link": true
    },
    "kernelspec": {
      "name": "python3",
      "display_name": "Python 3"
    }
  },
  "cells": [
    {
      "cell_type": "markdown",
      "metadata": {
        "id": "view-in-github",
        "colab_type": "text"
      },
      "source": [
        "<a href=\"https://colab.research.google.com/github/EmmanuelADAM/IntelligenceArtificiellePython/blob/master/logiqueFloue.ipynb\" target=\"_parent\"><img src=\"https://colab.research.google.com/assets/colab-badge.svg\" alt=\"Open In Colab\"/></a>"
      ]
    },
    {
      "metadata": {
        "id": "e6HNpchpt_jH",
        "colab_type": "text"
      },
      "cell_type": "markdown",
      "source": [
        "# Logique floue avec skfuzzy\n",
        "\n",
        "L'obejctif est de pouvoir représenter des règles de type :\n",
        "- Si quelqu'un est trop près du bord de route, alors freiner fortement\n",
        "- Si un enfant se trouve au centre du trottoir, alors freiner fortement\n",
        "- Si une personne grande se trouve au centre du trottoir, alors freiner moyennement\n",
        "- Si une personne est loin du bord de route, alors freiner légèrement..\n",
        "\n",
        "On utilise pour cela la librairie python skfuzzy"
      ]
    },
    {
      "metadata": {
        "id": "6DLM80-Yu8Bk",
        "colab_type": "code",
        "colab": {}
      },
      "cell_type": "code",
      "source": [
        ""
      ],
      "execution_count": 0,
      "outputs": []
    },
    {
      "metadata": {
        "id": "dF-9pPMZw8RJ",
        "colab_type": "code",
        "colab": {}
      },
      "cell_type": "code",
      "source": [
        "#les imports\n",
        "import numpy as np\n",
        "import skfuzzy as fuzz\n",
        "from skfuzzy import control as ctrl\n",
        "import matplotlib.pyplot as plt"
      ],
      "execution_count": 0,
      "outputs": []
    },
    {
      "metadata": {
        "id": "i0QyHaFWu_eH",
        "colab_type": "text"
      },
      "cell_type": "markdown",
      "source": [
        "## les antécédents et les conséquents\n",
        "- Les antécédents sont les variables utilisées pour prendre les décisions (ici taille de la personne et proximité au bord de route)\n",
        "- les conséquents sont les déductions (ici le freinage)"
      ]
    },
    {
      "metadata": {
        "id": "nLaNqEL6vlN7",
        "colab_type": "code",
        "colab": {}
      },
      "cell_type": "code",
      "source": [
        "#### Antecedent et Consequent\n",
        "# la taille est située dans un intervale de 0 à 200 coupé par pas de 5 \n",
        "taille = ctrl.Antecedent(np.arange(0,200,5), 'taille')\n",
        "# la proximitée du bord est située dans un intervale de 0 à 200 coupé par pas de 5 \n",
        "proche_bord = ctrl.Antecedent(np.arange(0,200,5), 'proximite-bord')\n",
        "# le freinage est situé dans un intervale de 0 à 100 coupé par pas de 2 \n",
        "frein = ctrl.Consequent(np.arange(0,100,2), 'frein')"
      ],
      "execution_count": 0,
      "outputs": []
    },
    {
      "metadata": {
        "id": "xgE_IUaIvjGm",
        "colab_type": "text"
      },
      "cell_type": "markdown",
      "source": [
        "### intervales\n",
        "on définit ensuite les intervales utilisés dans les antécédents et les conséquents.\n",
        "Par exemple, \n",
        "- taille sera découpée en 'pre-ado' et 'post-ado'\n",
        "- bord sera découpé en 'trop-pres', 'central', 'loin'\n",
        "- frein sera découpé en 'fort', 'moyen', 'léger'\n",
        "\n",
        "Il faut donner les courbes "
      ]
    }
  ]
}