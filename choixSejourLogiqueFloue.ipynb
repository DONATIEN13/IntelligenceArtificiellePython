{
 "cells": [
  {
   "cell_type": "markdown",
   "metadata": {
    "colab_type": "text",
    "id": "view-in-github"
   },
   "source": [
    "<a href=\"https://colab.research.google.com/github/EmmanuelADAM/IntelligenceArtificiellePython/blob/master/choixSejourLogiqueFloue.ipynb\" target=\"_parent\"><img src=\"https://colab.research.google.com/assets/colab-badge.svg\" alt=\"Open In Colab\"/></a>"
   ]
  },
  {
   "cell_type": "markdown",
   "metadata": {
    "colab_type": "text",
    "id": "e6HNpchpt_jH"
   },
   "source": [
    "# Séjours dans le flou avec skfuzzy\n",
    "\n",
    "L'objectif est de pouvoir représenter des règles de type :\n",
    "- SI le beau temps est prévu ALORS j’achète l’offre de location pour une longue durée\n",
    "- SI le beau temps est prévu et que le loyer est cher ALORS j’achète l’offre de location pour une moyenne durée\n",
    "- SI le temps est de moyen à beau, ET que la location reste abordable, ALORS j’achète l’offre pour une moyenne durée\n",
    "- SI le temps prévu est mauvais, MAIS que la location est très abordable, ALORS j’achète l’offre pour une courte durée\n",
    "- le reste du temps, SI la location est chère ET qu’il ne fait pas beau, ALORS je n’y vais pas ; de même SI la location est dans des prix abordable MAIS qu’il fait mauvais\n",
    "\n",
    "Une partie du code est absent, référez-vous  l'exemple sur la logique floue et le freinage pour compléter ce code...\n",
    "\n",
    "On utilise pour cela la librairie python skfuzzy\n",
    "*(si elle n'est pas présente, installez là avec cette ligne : !pip install -U scikit-fuzzy)*"
   ]
  },
  {
   "cell_type": "code",
   "execution_count": null,
   "metadata": {
    "colab": {},
    "colab_type": "code",
    "id": "g3uoNu42zTFR"
   },
   "outputs": [],
   "source": [
    " !pip install -U scikit-fuzzy"
   ]
  },
  {
   "cell_type": "code",
   "execution_count": 2,
   "metadata": {
    "colab": {},
    "colab_type": "code",
    "id": "dF-9pPMZw8RJ"
   },
   "outputs": [],
   "source": [
    "#les imports\n",
    "import numpy as np\n",
    "import skfuzzy as fuzz\n",
    "from skfuzzy import control as ctrl\n",
    "import matplotlib.pyplot as plt"
   ]
  },
  {
   "cell_type": "markdown",
   "metadata": {
    "colab_type": "text",
    "id": "i0QyHaFWu_eH"
   },
   "source": [
    "## les antécédents et les conséquents\n",
    "- Les antécédents sont les variables utilisées pour prendre les décisions (ici la météo, le coût)\n",
    "- les conséquents sont les déductions (ici la durée de séjour)"
   ]
  },
  {
   "cell_type": "code",
   "execution_count": 3,
   "metadata": {
    "colab": {},
    "colab_type": "code",
    "id": "nLaNqEL6vlN7"
   },
   "outputs": [],
   "source": [
    "#### Antecedent et Consequent\n",
    "# la taille est située dans un intervale de 0 à 40 coupé par pas de 1 \n",
    "meteo = ctrl.Antecedent(np.arange(0,40,1), 'meteo')\n",
    "# l'offre de séjour est située dans un intervale de 0 à 200 la nuit, coupé par pas de 5\n",
    "offre = ctrl.Antecedent(np.arange(0,200,5), 'offre')\n",
    "# la durée de séjour est située dans un intervale de 0 à 5 coupé par pas de 0.5 \n",
    "duree = ctrl.Consequent(np.arange(0,5,0.5), 'duree')"
   ]
  },
  {
   "cell_type": "code",
   "execution_count": 4,
   "metadata": {},
   "outputs": [
    {
     "data": {
      "text/plain": [
       "Antecedent: meteo"
      ]
     },
     "execution_count": 4,
     "metadata": {},
     "output_type": "execute_result"
    }
   ],
   "source": [
    "meteo\n"
   ]
  },
  {
   "cell_type": "markdown",
   "metadata": {
    "colab_type": "text",
    "id": "xgE_IUaIvjGm"
   },
   "source": [
    "### intervales\n",
    "on définit ensuite les intervales utilisés dans les antécédents et les conséquents.\n",
    "#### La météo\n",
    "- le temps est beau à partir de 22°, moyen à partir de 15°, frais en dessous\n"
   ]
  },
  {
   "cell_type": "code",
   "execution_count": 5,
   "metadata": {
    "colab": {},
    "colab_type": "code",
    "id": "OQ0KqQmRziZ7"
   },
   "outputs": [],
   "source": [
    "#une courbe trapezoïdale, moche=1 jusque 11°, petit=0 à partir de 15°\n",
    "meteo_moche = fuzz.trapmf(meteo.universe, [meteo.universe[0], meteo.universe[0], 11,15])\n",
    "#une courbe trapezoïdale, moyenne=0 jusque 13°, moyenne=1 à partir de 15°, à 0 à partir de 20°\n",
    "meteo_moyenne = fuzz.trapmf(meteo.universe, [13, 15, 19, 20])\n",
    "#une courbe trapezoïdale, belle=0 jusque 20°, belle=1 à partir de 22°\n",
    "meteo_belle = fuzz.trapmf(meteo.universe, [20, 22, meteo.universe[-1],meteo.universe[-1]])\n",
    "meteo['moche'] = meteo_moche\n",
    "meteo['moyenne'] = meteo_moyenne\n",
    "meteo['belle'] = meteo_belle"
   ]
  },
  {
   "cell_type": "code",
   "execution_count": null,
   "metadata": {},
   "outputs": [],
   "source": []
  },
  {
   "cell_type": "code",
   "execution_count": 6,
   "metadata": {},
   "outputs": [
    {
     "data": {
      "text/plain": [
       "array([1.  , 1.  , 1.  , 1.  , 1.  , 1.  , 1.  , 1.  , 1.  , 1.  , 1.  ,\n",
       "       1.  , 0.75, 0.5 , 0.25, 0.  , 0.  , 0.  , 0.  , 0.  , 0.  , 0.  ,\n",
       "       0.  , 0.  , 0.  , 0.  , 0.  , 0.  , 0.  , 0.  , 0.  , 0.  , 0.  ,\n",
       "       0.  , 0.  , 0.  , 0.  , 0.  , 0.  , 0.  ])"
      ]
     },
     "execution_count": 6,
     "metadata": {},
     "output_type": "execute_result"
    }
   ],
   "source": [
    "meteo.terms.values()\n",
    "meteo_moche"
   ]
  },
  {
   "cell_type": "markdown",
   "metadata": {
    "colab_type": "text",
    "id": "eCi-m6_C00Tm"
   },
   "source": [
    "On peut vérifier les courbes d'appartenance : \n",
    "- *ici les courbes sont trapézoidales, mais vous pouvez les définir autrement*"
   ]
  },
  {
   "cell_type": "code",
   "execution_count": 7,
   "metadata": {
    "colab": {
     "base_uri": "https://localhost:8080/",
     "height": 269
    },
    "colab_type": "code",
    "id": "Plz4vDap04-C",
    "outputId": "131c354a-ef3c-467e-f7f5-1bc1f58816a1"
   },
   "outputs": [
    {
     "data": {
      "image/png": "[encoded data removed]",
      "text/plain": [
       "<Figure size 432x288 with 1 Axes>"
      ]
     },
     "metadata": {
      "needs_background": "light"
     },
     "output_type": "display_data"
    }
   ],
   "source": [
    "plt.plot(meteo.universe, meteo_moche,  label='moche')\n",
    "plt.plot(meteo.universe, meteo_moyenne,label='moyenne')\n",
    "plt.plot(meteo.universe, meteo_belle,  label='belle')\n",
    "plt.legend()\n",
    "plt.show()\n"
   ]
  },
  {
   "cell_type": "markdown",
   "metadata": {
    "colab_type": "text",
    "id": "Ouz3bpcX1q-K"
   },
   "source": [
    "#### Le coût\n",
    "- une offre sous 30€ la nuit est très abordable, elle reste abordable jusque 70€, elle est ressentie comme chère ensuite"
   ]
  },
  {
   "cell_type": "code",
   "execution_count": 8,
   "metadata": {
    "colab": {
     "base_uri": "https://localhost:8080/",
     "height": 269
    },
    "colab_type": "code",
    "id": "iqdaWAD51-Ck",
    "outputId": "48618dbb-c4f0-44e8-daf8-0ed4c92fae4d"
   },
   "outputs": [
    {
     "data": {
      "image/png": "[encoded data removed]",
      "text/plain": [
       "<Figure size 432x288 with 1 Axes>"
      ]
     },
     "metadata": {
      "needs_background": "light"
     },
     "output_type": "display_data"
    }
   ],
   "source": [
    "\n",
    "cout_faible = fuzz.trapmf(offre.universe, [offre.universe[0], offre.universe[0], 20,30])\n",
    "cout_moyen = fuzz.trapmf(offre.universe, [25, 30, 60,70])\n",
    "cout_eleve = fuzz.trapmf(offre.universe, [60, 70, offre.universe[-1], offre.universe[-1]])\n",
    "offre['tres_abordable'] = cout_faible\n",
    "offre['abordable'] = cout_moyen\n",
    "offre['chere'] = cout_eleve\n",
    "#juste pour voir les courbes\n",
    "plt.plot(offre.universe, cout_faible, label='tres_abordable')\n",
    "plt.plot(offre.universe, cout_moyen,  label='abordable')\n",
    "plt.plot(offre.universe, cout_eleve,  label='chère')\n",
    "plt.legend()\n",
    "plt.show()"
   ]
  },
  {
   "cell_type": "code",
   "execution_count": 9,
   "metadata": {},
   "outputs": [
    {
     "data": {
      "text/plain": [
       "array([0. , 0. , 0. , 0. , 0. , 0. , 1. , 1. , 1. , 1. , 1. , 1. , 1. ,\n",
       "       0.5, 0. , 0. , 0. , 0. , 0. , 0. , 0. , 0. , 0. , 0. , 0. , 0. ,\n",
       "       0. , 0. , 0. , 0. , 0. , 0. , 0. , 0. , 0. , 0. , 0. , 0. , 0. ,\n",
       "       0. ])"
      ]
     },
     "execution_count": 9,
     "metadata": {},
     "output_type": "execute_result"
    }
   ],
   "source": [
    "cout_moyen"
   ]
  },
  {
   "cell_type": "markdown",
   "metadata": {
    "colab_type": "text",
    "id": "fulsmhlF3jqG"
   },
   "source": [
    "#### La durée\n",
    "- une durée de séjour est considérée longue à partir de 3j\n",
    "- une durée est moyenne entre 2j et 3j\n",
    "- une courte durée tient de 1j à 2j\n",
    "- ne pas partir reviens à une durée de 0j à 1j\n",
    "\n"
   ]
  },
  {
   "cell_type": "code",
   "execution_count": 10,
   "metadata": {
    "colab": {
     "base_uri": "https://localhost:8080/",
     "height": 269
    },
    "colab_type": "code",
    "id": "Vco5A8RA5oIq",
    "outputId": "1358f7d5-ed56-4a96-a155-522675c93e16"
   },
   "outputs": [
    {
     "data": {
      "image/png": "[encoded data removed]",
      "text/plain": [
       "<Figure size 432x288 with 1 Axes>"
      ]
     },
     "metadata": {
      "needs_background": "light"
     },
     "output_type": "display_data"
    }
   ],
   "source": [
    "\n",
    "duree_nulle = fuzz.trapmf(duree.universe, [duree.universe[0], duree.universe[0], 0.5,1])\n",
    "duree_courte = fuzz.trapmf(duree.universe, [0.75, 1, 2,2.5])\n",
    "duree_moyenne = fuzz.trapmf(duree.universe, [1.5, 2, 3, 3.5])\n",
    "duree_longue = fuzz.trapmf(duree.universe, [2.5, 3, duree.universe[-1], duree.universe[-1]])\n",
    "duree['nulle'] = duree_nulle\n",
    "duree['courte'] = duree_courte\n",
    "duree['moyenne'] = duree_moyenne\n",
    "duree['longue'] = duree_longue\n",
    "#juste pour voir les courbes\n",
    "plt.plot(duree.universe, duree_nulle,  label='nulle')\n",
    "plt.plot(duree.universe, duree_courte, label='courte')\n",
    "plt.plot(duree.universe, duree_moyenne,label='moyenne')\n",
    "plt.plot(duree.universe, duree_longue, label='longue')\n",
    "plt.legend()\n",
    "plt.show()"
   ]
  },
  {
   "cell_type": "code",
   "execution_count": null,
   "metadata": {},
   "outputs": [],
   "source": []
  },
  {
   "cell_type": "markdown",
   "metadata": {
    "colab_type": "text",
    "id": "54v35bLl6ak5"
   },
   "source": [
    "## Définition des règles floues\n",
    "Rappel, on souhaite définir : \n",
    "- si le beau temps est prévu alors j’achète l’offre de location pour une longue durée\n",
    "- si le temps est de moyen, et que la location reste abordable, alors j’achète l’offre pour une moyenne durée\n",
    "- si le temps prévu est mauvais, mais que la location est très abordable, alors j’achète l’offre pour une courte durée\n",
    "- le reste du temps, si la location est chère et qu’il ne fait pas beau, je n’y vais pas ; de même si la location est dans des prix abordable mais qu’il fait mauvais\n",
    "\n"
   ]
  },
  {
   "cell_type": "code",
   "execution_count": 11,
   "metadata": {
    "colab": {},
    "colab_type": "code",
    "id": "c0w9nC4w60-9"
   },
   "outputs": [],
   "source": [
    "\n",
    "#on écrit\n",
    "rule1 =  ctrl.Rule( meteo['belle'],                            duree['longue'])\n",
    "rule2 =  ctrl.Rule( meteo['moyenne'] & offre['abordable'],     duree['moyenne'])\n",
    "rule3 =  ctrl.Rule( meteo['moche']   & offre['tres_abordable'],duree['courte'])\n",
    "rule4a = ctrl.Rule( meteo['moche']   & offre['chere'],         duree['nulle'])\n",
    "rule4b = ctrl.Rule( meteo['moche']   & offre['abordable'],     duree['nulle'])\n",
    "rule4c = ctrl.Rule( meteo['moyenne'] & offre['chere'],         duree['nulle'])\n",
    "\n",
    "\n",
    "\n",
    "#on compile les règles\n",
    "sejour_regles = ctrl.ControlSystem([rule1, rule2, rule3, rule4a, rule4b, rule4c])\n",
    "sejour_decision = ctrl.ControlSystemSimulation(sejour_regles)"
   ]
  },
  {
   "cell_type": "code",
   "execution_count": 12,
   "metadata": {},
   "outputs": [
    {
     "data": {
      "text/plain": [
       "meteo : None\n",
       "offre : None"
      ]
     },
     "execution_count": 12,
     "metadata": {},
     "output_type": "execute_result"
    }
   ],
   "source": [
    "sejour_decision.input"
   ]
  },
  {
   "cell_type": "markdown",
   "metadata": {
    "colab_type": "text",
    "id": "kALUmczA7X3T"
   },
   "source": [
    "## Observations\n",
    "Testons le système : \n",
    "- une offre à 70€ est repérée et la météo annonce 17°, quelle est la décision à prendre ?"
   ]
  },
  {
   "cell_type": "code",
   "execution_count": 13,
   "metadata": {
    "colab": {
     "base_uri": "https://localhost:8080/",
     "height": 34
    },
    "colab_type": "code",
    "id": "vBe3hUqq79Jt",
    "outputId": "00c9cbb8-4334-4d7b-cc5b-b28a8d66c8dd"
   },
   "outputs": [
    {
     "ename": "ValueError",
     "evalue": "Crisp output cannot be calculated, likely because the system is too sparse. Check to make sure this set of input values will activate at least one connected Term in each Antecedent via the current set of Rules.",
     "output_type": "error",
     "traceback": [
      "\u001b[0;31m---------------------------------------------------------------------------\u001b[0m",
      "\u001b[0;31mAssertionError\u001b[0m                            Traceback (most recent call last)",
      "\u001b[0;32m~/opt/anaconda3/lib/python3.8/site-packages/skfuzzy/control/controlsystem.py\u001b[0m in \u001b[0;36mdefuzz\u001b[0;34m(self)\u001b[0m\n\u001b[1;32m    585\u001b[0m             \u001b[0;32mtry\u001b[0m\u001b[0;34m:\u001b[0m\u001b[0;34m\u001b[0m\u001b[0;34m\u001b[0m\u001b[0m\n\u001b[0;32m--> 586\u001b[0;31m                 return defuzz(ups_universe, output_mf,\n\u001b[0m\u001b[1;32m    587\u001b[0m                               self.var.defuzzify_method)\n",
      "\u001b[0;32m~/opt/anaconda3/lib/python3.8/site-packages/skfuzzy/defuzzify/defuzz.py\u001b[0m in \u001b[0;36mdefuzz\u001b[0;34m(x, mfx, mode)\u001b[0m\n\u001b[1;32m    247\u001b[0m         \u001b[0mzero_truth_degree\u001b[0m \u001b[0;34m=\u001b[0m \u001b[0mmfx\u001b[0m\u001b[0;34m.\u001b[0m\u001b[0msum\u001b[0m\u001b[0;34m(\u001b[0m\u001b[0;34m)\u001b[0m \u001b[0;34m==\u001b[0m \u001b[0;36m0\u001b[0m  \u001b[0;31m# Approximation of total area\u001b[0m\u001b[0;34m\u001b[0m\u001b[0;34m\u001b[0m\u001b[0m\n\u001b[0;32m--> 248\u001b[0;31m         \u001b[0;32massert\u001b[0m \u001b[0;32mnot\u001b[0m \u001b[0mzero_truth_degree\u001b[0m\u001b[0;34m,\u001b[0m \u001b[0;34m'Total area is zero in defuzzification!'\u001b[0m\u001b[0;34m\u001b[0m\u001b[0;34m\u001b[0m\u001b[0m\n\u001b[0m\u001b[1;32m    249\u001b[0m \u001b[0;34m\u001b[0m\u001b[0m\n",
      "\u001b[0;31mAssertionError\u001b[0m: Total area is zero in defuzzification!",
      "\nDuring handling of the above exception, another exception occurred:\n",
      "\u001b[0;31mValueError\u001b[0m                                Traceback (most recent call last)",
      "\u001b[0;32m/var/folders/tg/4dn4gshd5ljd7xmsk_79fnpc0000gn/T/ipykernel_31857/2530186437.py\u001b[0m in \u001b[0;36m<module>\u001b[0;34m\u001b[0m\n\u001b[1;32m      2\u001b[0m \u001b[0msejour_decision\u001b[0m\u001b[0;34m.\u001b[0m\u001b[0minput\u001b[0m\u001b[0;34m[\u001b[0m\u001b[0;34m'offre'\u001b[0m\u001b[0;34m]\u001b[0m \u001b[0;34m=\u001b[0m \u001b[0;36m65\u001b[0m\u001b[0;34m\u001b[0m\u001b[0;34m\u001b[0m\u001b[0m\n\u001b[1;32m      3\u001b[0m \u001b[0;34m\u001b[0m\u001b[0m\n\u001b[0;32m----> 4\u001b[0;31m \u001b[0msejour_decision\u001b[0m\u001b[0;34m.\u001b[0m\u001b[0mcompute\u001b[0m\u001b[0;34m(\u001b[0m\u001b[0;34m)\u001b[0m\u001b[0;34m\u001b[0m\u001b[0;34m\u001b[0m\u001b[0m\n\u001b[0m\u001b[1;32m      5\u001b[0m \u001b[0;34m\u001b[0m\u001b[0m\n\u001b[1;32m      6\u001b[0m \u001b[0mprint\u001b[0m\u001b[0;34m(\u001b[0m\u001b[0msejour_decision\u001b[0m\u001b[0;34m.\u001b[0m\u001b[0moutput\u001b[0m\u001b[0;34m[\u001b[0m\u001b[0;34m'duree'\u001b[0m\u001b[0;34m]\u001b[0m\u001b[0;34m)\u001b[0m\u001b[0;34m\u001b[0m\u001b[0;34m\u001b[0m\u001b[0m\n",
      "\u001b[0;32m~/opt/anaconda3/lib/python3.8/site-packages/skfuzzy/control/controlsystem.py\u001b[0m in \u001b[0;36mcompute\u001b[0;34m(self)\u001b[0m\n\u001b[1;32m    371\u001b[0m         \u001b[0;32mfor\u001b[0m \u001b[0mconsequent\u001b[0m \u001b[0;32min\u001b[0m \u001b[0mself\u001b[0m\u001b[0;34m.\u001b[0m\u001b[0mctrl\u001b[0m\u001b[0;34m.\u001b[0m\u001b[0mconsequents\u001b[0m\u001b[0;34m:\u001b[0m\u001b[0;34m\u001b[0m\u001b[0;34m\u001b[0m\u001b[0m\n\u001b[1;32m    372\u001b[0m             \u001b[0mconsequent\u001b[0m\u001b[0;34m.\u001b[0m\u001b[0moutput\u001b[0m\u001b[0;34m[\u001b[0m\u001b[0mself\u001b[0m\u001b[0;34m]\u001b[0m \u001b[0;34m=\u001b[0m\u001b[0;31m \u001b[0m\u001b[0;31m\\\u001b[0m\u001b[0;34m\u001b[0m\u001b[0;34m\u001b[0m\u001b[0m\n\u001b[0;32m--> 373\u001b[0;31m                 \u001b[0mCrispValueCalculator\u001b[0m\u001b[0;34m(\u001b[0m\u001b[0mconsequent\u001b[0m\u001b[0;34m,\u001b[0m \u001b[0mself\u001b[0m\u001b[0;34m)\u001b[0m\u001b[0;34m.\u001b[0m\u001b[0mdefuzz\u001b[0m\u001b[0;34m(\u001b[0m\u001b[0;34m)\u001b[0m\u001b[0;34m\u001b[0m\u001b[0;34m\u001b[0m\u001b[0m\n\u001b[0m\u001b[1;32m    374\u001b[0m             \u001b[0mself\u001b[0m\u001b[0;34m.\u001b[0m\u001b[0moutput\u001b[0m\u001b[0;34m[\u001b[0m\u001b[0mconsequent\u001b[0m\u001b[0;34m.\u001b[0m\u001b[0mlabel\u001b[0m\u001b[0;34m]\u001b[0m \u001b[0;34m=\u001b[0m \u001b[0mconsequent\u001b[0m\u001b[0;34m.\u001b[0m\u001b[0moutput\u001b[0m\u001b[0;34m[\u001b[0m\u001b[0mself\u001b[0m\u001b[0;34m]\u001b[0m\u001b[0;34m\u001b[0m\u001b[0;34m\u001b[0m\u001b[0m\n\u001b[1;32m    375\u001b[0m \u001b[0;34m\u001b[0m\u001b[0m\n",
      "\u001b[0;32m~/opt/anaconda3/lib/python3.8/site-packages/skfuzzy/control/controlsystem.py\u001b[0m in \u001b[0;36mdefuzz\u001b[0;34m(self)\u001b[0m\n\u001b[1;32m    587\u001b[0m                               self.var.defuzzify_method)\n\u001b[1;32m    588\u001b[0m             \u001b[0;32mexcept\u001b[0m \u001b[0mAssertionError\u001b[0m\u001b[0;34m:\u001b[0m\u001b[0;34m\u001b[0m\u001b[0;34m\u001b[0m\u001b[0m\n\u001b[0;32m--> 589\u001b[0;31m                 raise ValueError(\"Crisp output cannot be calculated, likely \"\n\u001b[0m\u001b[1;32m    590\u001b[0m                                  \u001b[0;34m\"because the system is too sparse. Check to \"\u001b[0m\u001b[0;34m\u001b[0m\u001b[0;34m\u001b[0m\u001b[0m\n\u001b[1;32m    591\u001b[0m                                  \u001b[0;34m\"make sure this set of input values will \"\u001b[0m\u001b[0;34m\u001b[0m\u001b[0;34m\u001b[0m\u001b[0m\n",
      "\u001b[0;31mValueError\u001b[0m: Crisp output cannot be calculated, likely because the system is too sparse. Check to make sure this set of input values will activate at least one connected Term in each Antecedent via the current set of Rules."
     ]
    }
   ],
   "source": [
    "sejour_decision.input['meteo'] = 20\n",
    "sejour_decision.input['offre'] = 65\n",
    "\n",
    "sejour_decision.compute()\n",
    "\n",
    "print(sejour_decision.output['duree'])"
   ]
  },
  {
   "cell_type": "markdown",
   "metadata": {
    "colab_type": "text",
    "id": "-yQfVW6O-Guy"
   },
   "source": [
    "la durée est <0.5, ce qui correspond à une durée nulle.\n",
    "\n",
    "Vérifions en image :"
   ]
  },
  {
   "cell_type": "code",
   "execution_count": null,
   "metadata": {
    "colab": {
     "base_uri": "https://localhost:8080/",
     "height": 283
    },
    "colab_type": "code",
    "id": "dUA2R_aE-JgP",
    "outputId": "cd910014-df74-4a6b-e57e-1b9d0dda3a28"
   },
   "outputs": [],
   "source": [
    "duree.view(sim=sejour_decision)"
   ]
  },
  {
   "cell_type": "markdown",
   "metadata": {
    "colab_type": "text",
    "id": "v2yysmD5-ViZ"
   },
   "source": [
    "Que se passe-t-il lorsqu'une offre est trouvée à 80€ mais que la météo annonce 30° ?\n"
   ]
  },
  {
   "cell_type": "code",
   "execution_count": null,
   "metadata": {
    "colab": {
     "base_uri": "https://localhost:8080/",
     "height": 34
    },
    "colab_type": "code",
    "id": "NdKXiOh8-hqo",
    "outputId": "57cb505a-fbbb-4099-ff9f-c97d1f2b7560"
   },
   "outputs": [],
   "source": [
    "sejour_decision.input['meteo'] = 30\n",
    "sejour_decision.input['offre'] = 80\n",
    "\n",
    "sejour_decision.compute()\n",
    "\n",
    "print(sejour_decision.output['duree'])"
   ]
  },
  {
   "cell_type": "markdown",
   "metadata": {
    "colab_type": "text",
    "id": "LTTRLUa--lPa"
   },
   "source": [
    "une durée de séjour longue est recomandée. vérification en image :"
   ]
  },
  {
   "cell_type": "code",
   "execution_count": null,
   "metadata": {
    "colab": {
     "base_uri": "https://localhost:8080/",
     "height": 283
    },
    "colab_type": "code",
    "id": "-G3_j1Fz-ofc",
    "outputId": "9aef15a9-4167-4f7c-d33c-10ff035975f6"
   },
   "outputs": [],
   "source": [
    "duree.view(sim=sejour_decision)"
   ]
  },
  {
   "cell_type": "markdown",
   "metadata": {},
   "source": [
    "#### Impact des courbes\n",
    "- Changez les courbes pour étudier l'impact sur le résultat"
   ]
  },
  {
   "cell_type": "code",
   "execution_count": null,
   "metadata": {},
   "outputs": [],
   "source": []
  }
 ],
 "metadata": {
  "colab": {
   "collapsed_sections": [],
   "include_colab_link": true,
   "name": "solution TD logique floue.ipynb",
   "provenance": [],
   "version": "0.3.2"
  },
  "kernelspec": {
   "display_name": "Python 3 (ipykernel)",
   "language": "python",
   "name": "python3"
  },
  "language_info": {
   "codemirror_mode": {
    "name": "ipython",
    "version": 3
   },
   "file_extension": ".py",
   "mimetype": "text/x-python",
   "name": "python",
   "nbconvert_exporter": "python",
   "pygments_lexer": "ipython3",
   "version": "3.8.2"
  }
 },
 "nbformat": 4,
 "nbformat_minor": 4
}
