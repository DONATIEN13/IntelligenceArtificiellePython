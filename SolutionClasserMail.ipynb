{
 "cells": [
  {
   "cell_type": "markdown",
   "metadata": {
    "colab_type": "text",
    "id": "3qF8xmpAdACr"
   },
   "source": [
    "# Classement de spams par réseaux de neurones\n",
    "\n",
    "Dans cet exercice, le but est de créer un systèmes très basique de classement de spam par Réseaux de Neurones en se basant uniquement sur des mots clés trouvés dans les sujets de mails.\n",
    "\n",
    "Une version plus évoluée étudierait aussi le texte transormé en sac de mots.\n"
   ]
  },
  {
   "cell_type": "markdown",
   "metadata": {},
   "source": [
    "---\n",
    "*Devant la masse de mails reçus, un système de classement automatique basé sur les mots clés des sujets pourrait aider à les gérer.*\n",
    "\n",
    "*Il s’agit donc ici de définir un réseau de neurones et de lui faire apprendre à classer des textes.*\n",
    "\n",
    "---"
   ]
  },
  {
   "cell_type": "markdown",
   "metadata": {},
   "source": [
    "Les exemples d’apprentissage seront constitués :\n",
    "- d’une série de valeurs indiquant si oui ou non un terme est présent dans le texte analysé,\n",
    "- de la réponse attendue (classement dans une des trois catégories choisies)\n",
    "\n",
    "Voici les exemples d’apprentissage :\n",
    "\n",
    "\n",
    "| meilleur   |  cadeau  |  loto  |  gratuit  |  algo  |  agent  | java | code | rando | restaurant | cine | vacances | *spam* | *perso* | *boulot* |\n",
    "|:-:|:-:|:-:|:-:|:-:|:-:|:-:|:-:|:-:|:-:|:-:|:-:|:-:|:-:|:-:| \n",
    "| 1 | 1 |  | 1 |  |  |  |  |  |  |  |  | 1 |  | | \n",
    "|  |  | 1 |  |  |  |  |  |  |  |  |  | 1 |  | | \n",
    "|  | 1 |  |  |  |  |  |  |  | 1 |  |  | 1 |  | | \n",
    "|  | 1 |  | 1 |  |  |  |  |  |  |  |  | 1 |  | | \n",
    "|  |  |  | 1 |  |  |  |  |  |  |  | 1 | 1 |  | | \n",
    "|  |  | 1 |  |  |  |  |  |  |  |  | 1 | 1 |  | | \n",
    "|  | 1 |  |  |  |  |  | 1 |  |  |  |  |  | 1 | | \n",
    "|  |  |  |  |  |  |  |  |  |  | 1 |  |  | 1 | | \n",
    "| 1 |  |  |  |  |  |  |  |  | 1 |  |  |  | 1 | | \n",
    "| 1 |  |  |  |  |  |  |  |  |  | 1 |  |  | 1 | | \n",
    "|  |  |  |  |  |  |  |  | 1 |  |  |  |  | 1 | | \n",
    "|  |  |  |  | 1 |  |  | 1 |  |  |  |  |  |  | 1| \n",
    "|  |  |  |  |  | 1 |  |  |  |  |  |  |  |  | 1| \n",
    "| 1 |  |  |  | 1 |  |  |  |  |  |  |  |  |  | 1| \n",
    "|  |  |  |  | 1 |  | 1 |  |  |  |  |  |  |  | 1| \n"
   ]
  },
  {
   "cell_type": "markdown",
   "metadata": {
    "colab_type": "text",
    "id": "JZpJB9iOdRS3"
   },
   "source": [
    "---\n",
    "## Importer les librairires"
   ]
  },
  {
   "cell_type": "code",
   "execution_count": 1,
   "metadata": {
    "colab": {},
    "colab_type": "code",
    "id": "odDg9S7xdFsv"
   },
   "outputs": [],
   "source": [
    "import tensorflow.keras as keras\n",
    "from tensorflow.keras.models import Sequential\n",
    "from tensorflow.keras.layers import Dense\n",
    "import numpy as np\n",
    "#pour les graphiques\n",
    "import matplotlib.pyplot as plt\n",
    "#SI bug plus loin lors du dessin des graphiques, ajouter ces 2 lignes\n",
    "import os\n",
    "os.environ['KMP_DUPLICATE_LIB_OK']='True'"
   ]
  },
  {
   "cell_type": "markdown",
   "metadata": {
    "colab_type": "text",
    "id": "XN8WXXdTdXx0"
   },
   "source": [
    "---\n",
    "\n",
    "### Définir les entrées et sorties attendues\n",
    "\n",
    "Les entrées correspondent aux présente des mots clés par sujet de mail.\n",
    "Ici, les entrées sont constituées de 15 lignes de  12 valeurs 0,1. \n",
    "Les sorties d'apprentissage correspondent donc à 15 lignes de 3 valeurs 0,1 : le fait que chaque entrée soit une des 3 catégories.\n",
    "\n",
    "On choisit de garder 70% de ces lignes en exemples d'apprentissage.\n",
    "Les entrées et sorties de validations sont donc constitués des 40% restants"
   ]
  },
  {
   "cell_type": "code",
   "execution_count": 6,
   "metadata": {
    "colab": {},
    "colab_type": "code",
    "id": "A1mjGN2Bb5Ki"
   },
   "outputs": [],
   "source": [
    "#définissez les entrées sorties sur base du tableau\n",
    "tableau = np.array([\n",
    "[ 1, 1, 0, 1, 0, 0, 0, 0, 0, 0, 0, 0, 1, 0, 0],\n",
    "[ 0, 0, 1, 0, 0, 0, 0, 0, 0, 0, 0, 0, 1, 0, 0],\n",
    "[ 0, 1, 0, 0, 0, 0, 0, 0, 0, 1, 0, 0, 1, 0, 0],\n",
    "[ 0, 1, 0, 1, 0, 0, 0, 0, 0, 0, 0, 0, 1, 0, 0],\n",
    "[ 0, 0, 0, 1, 0, 0, 0, 0, 0, 0, 0, 1, 1, 0, 0],\n",
    "[ 0, 0, 1, 0, 0, 0, 0, 0, 0, 0, 0, 1, 1, 0, 0],\n",
    "[ 0, 1, 0, 0, 0, 0, 0, 1, 0, 0, 0, 0, 0, 1, 0],\n",
    "[ 0, 0, 0, 0, 0, 0, 0, 0, 0, 0, 1, 0, 0, 1, 0],\n",
    "[ 1, 0, 0, 0, 0, 0, 0, 0, 0, 1, 0, 0, 0, 1, 0],\n",
    "[ 1, 0, 0, 0, 0, 0, 0, 0, 0, 0, 1, 0, 0, 1, 0],\n",
    "[ 0, 0, 0, 0, 0, 0, 0, 0, 1, 0, 0, 0, 0, 1, 0],\n",
    "[ 0, 0, 0, 0, 1, 0, 0, 1, 0, 0, 0, 0, 0, 0, 1],\n",
    "[ 0, 0, 0, 0, 0, 1, 0, 0, 0, 0, 0, 0, 0, 0, 1],\n",
    "[ 1, 0, 0, 0, 1, 0, 0, 0, 0, 0, 0, 0, 0, 0, 1],\n",
    "[ 0, 0, 0, 0, 1, 0, 1, 0, 0, 0, 0, 0, 0, 0, 1]], float)\n",
    "\n",
    "#on prend un pourcentage de lignes pour apprendre, le reste pour valider\n",
    "#IL FAUT MELANGER LE LIGNES pour pouvoir avoir des exemples d'apprentissage\n",
    "# et de validation homogènes\n",
    "np.random.shuffle(tableau)\n",
    "\n",
    "#on décide que 70% des lignes sont des lignes d'apprentissage\n",
    "nb_lignes = tableau.shape[0]\n",
    "nb_lignes_app = nb_lignes * 70 // 100\n",
    "nb_lignes_val = nb_lignes - nb_lignes_app\n",
    "\n",
    "# les 12 premieres colonnes sont les entrees\n",
    "entrees_app = np.zeros((nb_lignes_app, 12), float)\n",
    "entrees_val = np.zeros((nb_lignes_val, 12), float)\n",
    "\n",
    "# les 3 dernieres colonnes sont la sortie\n",
    "sorties_app = np.zeros((nb_lignes_app, 3), float)\n",
    "sorties_val = np.zeros((nb_lignes_val, 3), float)\n",
    "\n",
    "#on remplit ces exemples d'apprentissage et de validation\n",
    "for i in range(0,nb_lignes_app):\n",
    "    entrees_app[i] = tableau[i][0:12]\n",
    "    sorties_app[i] = tableau[i][12:]\n",
    "\n",
    "#on remplit ces exemples de validation\n",
    "for i in range(0, nb_lignes_val):\n",
    "    entrees_val[i] = tableau[nb_lignes_app+i][0:12]\n",
    "    sorties_val[i] = tableau[nb_lignes_app+i][12:]"
   ]
  },
  {
   "cell_type": "markdown",
   "metadata": {
    "colab_type": "text",
    "id": "SC-1MnShdwe0"
   },
   "source": [
    "---\n",
    "\n",
    "### Choisir le modèle de réseau\n",
    "- ici les couches sont séquentielles"
   ]
  },
  {
   "cell_type": "code",
   "execution_count": 8,
   "metadata": {
    "colab": {},
    "colab_type": "code",
    "id": "WbST4EmqcCdJ"
   },
   "outputs": [],
   "source": [
    "model = Sequential()"
   ]
  },
  {
   "cell_type": "markdown",
   "metadata": {
    "colab_type": "text",
    "id": "Jo5Ej8kkd8nh"
   },
   "source": [
    "---\n",
    "\n",
    "### Définir l'architecture du réseau\n",
    "Choisissez la struture du réseau, le nb de couches cachées, etc.\n",
    "- une première couche composée de \n",
    "  - 12 neurones en entrée , plus le neurone BIAS \n",
    "  - 8 neurones en sortie \n",
    "- 2 couches intermédiaires de 5 neurones en sortie\n",
    "- une couche composée\n",
    "  - 5 neurones en entrée (ceux de la couche précédente) et \n",
    "  - de 3 neurone en sortie (les 3 catégories)\n"
   ]
  },
  {
   "cell_type": "code",
   "execution_count": 9,
   "metadata": {
    "colab": {},
    "colab_type": "code",
    "id": "Vr6dcOJicGYM"
   },
   "outputs": [],
   "source": [
    "avec_bias = True\n",
    "#une premiere couche constituée de 12 neurones en entrée, ... input_shape=(12,)\n",
    "model.add(Dense(8, activation='tanh'))\n",
    "\n",
    "model.add(Dense(5, activation='tanh'))\n",
    "\n",
    "model.add(Dense(5, activation='tanh'))\n",
    "\n",
    "\n",
    "\n",
    "#une derniere couche constituée de 1 neurone en sortie \n",
    "model.add(Dense(3, activation='sigmoid'))\n"
   ]
  },
  {
   "cell_type": "markdown",
   "metadata": {
    "colab_type": "text",
    "id": "8L4LxSBWeaF1"
   },
   "source": [
    "---\n",
    "\n",
    "### Compiler le  réseau\n",
    "- ici, on précise que l'algo de correction d'erreur est *'adam'*, et que l'erreur calculée est la moyenne des valeurs absolues des erreurs commises. On indique également que l'on veut voir apparaître en plus la précision de l'apprentissage (accuracy).\n",
    "(vous pouvez chosir un autre optimizer et un autre clacul de loss)"
   ]
  },
  {
   "cell_type": "code",
   "execution_count": 10,
   "metadata": {
    "colab": {},
    "colab_type": "code",
    "id": "HlnG97g7cQKW"
   },
   "outputs": [],
   "source": [
    "model.compile(optimizer='adam', loss='MSE',  metrics=['accuracy'])"
   ]
  },
  {
   "cell_type": "markdown",
   "metadata": {
    "colab_type": "text",
    "id": "rZ4IQ-bIdtN1"
   },
   "source": [
    "---\n",
    "\n",
    "### Entraîner le réseau \n",
    "- ici on  le fait  'parler' (verbose=1), et on lance xx cycles d'apprentissage (epochs à préciser)\n"
   ]
  },
  {
   "cell_type": "code",
   "execution_count": 11,
   "metadata": {
    "colab": {
     "base_uri": "https://localhost:8080/",
     "height": 148
    },
    "colab_type": "code",
    "id": "ddTla-J_cfz8",
    "outputId": "0fd3cade-cd59-41db-c5f6-0ea22e48cac0"
   },
   "outputs": [],
   "source": [
    "tests = model.fit(entrees_app, sorties_app, \n",
    "                    validation_data=(entrees_val, sorties_val),\n",
    "                    epochs=100, verbose=0)"
   ]
  },
  {
   "cell_type": "markdown",
   "metadata": {
    "colab_type": "text",
    "id": "I0zBYIALlDYp"
   },
   "source": [
    "---\n",
    "\n",
    "## Dessiner l'évolution de l'erreur et de la pertinence\n"
   ]
  },
  {
   "cell_type": "code",
   "execution_count": 12,
   "metadata": {
    "colab": {},
    "colab_type": "code",
    "id": "Z89vptAXcuDM"
   },
   "outputs": [
    {
     "name": "stdout",
     "output_type": "stream",
     "text": [
      "les ensembles de valeurs récupérées lors des tests sont \n",
      "['loss', 'accuracy', 'val_loss', 'val_accuracy']\n",
      "-> [perte sur exemple d'entrainement, qualité sur exemples d'entrainement,perte sur exemple de validation, qualité sur exemples de validation]\n"
     ]
    }
   ],
   "source": [
    "history_dict = tests.history\n",
    "eval_tests = list(history_dict.keys())\n",
    "print(\"les ensembles de valeurs récupérées lors des tests sont \")\n",
    "print(eval_tests)\n",
    "print(\"-> [perte sur exemple d'entrainement, qualité sur exemples d'entrainement,perte sur exemple de validation, qualité sur exemples de validation]\")"
   ]
  },
  {
   "cell_type": "markdown",
   "metadata": {},
   "source": [
    "#### Tracer l'erreur d'entrainement / l'erreur de validation\n",
    "- L'erreur d'entrainement et l'erreur de validation doivent suivre des courbes quasi parallèle.\n",
    "- L'erreur d'entrainement doit être plus faible que l'erreur de validation\n",
    "    - si les courbes divergent, si la courbe de validation s'éloigne de la courbe d'entrainement, il y a alors un sur-apprentissage (overfitting) trop adapté aux données d'entrainement, sans doute trop poussé (diminuer les epochs?).\n",
    "    - s'il y a une erreur d'entrainement trop grande, il y a sous-apprentissage"
   ]
  },
  {
   "cell_type": "code",
   "execution_count": 13,
   "metadata": {},
   "outputs": [
    {
     "data": {
      "image/png": "[encoded data removed]",
      "text/plain": [
       "<Figure size 432x288 with 1 Axes>"
      ]
     },
     "metadata": {
      "needs_background": "light"
     },
     "output_type": "display_data"
    }
   ],
   "source": [
    "loss = history_dict[eval_tests[0]]\n",
    "val_loss = history_dict[eval_tests[2]]\n",
    "\n",
    "epochs = range(1, len(loss) + 1)\n",
    "\n",
    "# draw the loss evolution in blue\n",
    "plt.plot(epochs, loss, 'b-.', label='erreur sur exemples d\\'apprentissage')\n",
    "# draw the accuracy evolution in blue\n",
    "plt.plot(epochs, val_loss, 'r-.', label='erreur sur exemples de validation')\n",
    "plt.title('Erreur')\n",
    "plt.xlabel('Epochs')\n",
    "plt.ylabel('Erreur')\n",
    "plt.legend()\n",
    "\n",
    "plt.show()"
   ]
  },
  {
   "cell_type": "code",
   "execution_count": 14,
   "metadata": {},
   "outputs": [
    {
     "data": {
      "image/png": "[encoded data removed]",
      "text/plain": [
       "<Figure size 432x288 with 1 Axes>"
      ]
     },
     "metadata": {
      "needs_background": "light"
     },
     "output_type": "display_data"
    }
   ],
   "source": [
    "acc = history_dict[eval_tests[1]]\n",
    "val_acc = history_dict[eval_tests[3]]\n",
    "\n",
    "epochs = range(1, len(loss) + 1)\n",
    "\n",
    "# draw the loss evolution in blue\n",
    "plt.plot(epochs, acc, 'b-.', label='précision sur exemples d\\'apprentissage')\n",
    "# draw the accuracy evolution in blue\n",
    "plt.plot(epochs, val_acc, 'r-.', label='précision sur exemples de validation')\n",
    "plt.title('précision')\n",
    "plt.xlabel('Epochs')\n",
    "plt.ylabel('précision')\n",
    "plt.legend()\n",
    "\n",
    "plt.show()"
   ]
  },
  {
   "cell_type": "markdown",
   "metadata": {
    "colab_type": "text",
    "id": "N38spzckmMMJ"
   },
   "source": [
    "---\n",
    "## Utilisation du réseau\n",
    "Quelle est la probabilité que les textes contenant les mots :\n",
    "1. meilleur cine\n",
    "2. cine gratuit\n",
    "3. code agent\n",
    "4. code cine gratuit\n",
    "soient des textes suspects ?"
   ]
  },
  {
   "cell_type": "code",
   "execution_count": 15,
   "metadata": {},
   "outputs": [
    {
     "name": "stdout",
     "output_type": "stream",
     "text": [
      "[[0.5681091  0.49289703 0.40189752]\n",
      " [0.703041   0.47939712 0.13455749]\n",
      " [0.3323149  0.27008438 0.55183405]\n",
      " [0.6993444  0.4398357  0.12095323]]\n"
     ]
    }
   ],
   "source": [
    "entreesTests = np.array([\n",
    "[1,0,0,0,0,0,0,0,0,0,1,0],\n",
    "[0,0,0,1,0,0,0,0,0,0,1,0],\n",
    "[0,0,0,0,0,1,0,1,0,0,0,0],\n",
    "[0,0,0,1,0,0,0,1,0,0,1,0]], float)\n",
    "predictions = model.predict(entreesTests)\n",
    "print(predictions)"
   ]
  },
  {
   "cell_type": "code",
   "execution_count": null,
   "metadata": {},
   "outputs": [],
   "source": []
  }
 ],
 "metadata": {
  "colab": {
   "collapsed_sections": [],
   "name": "TestOUX.ipynb",
   "provenance": [],
   "version": "0.3.2"
  },
  "kernelspec": {
   "display_name": "Python 3",
   "language": "python",
   "name": "python3"
  },
  "language_info": {
   "codemirror_mode": {
    "name": "ipython",
    "version": 3
   },
   "file_extension": ".py",
   "mimetype": "text/x-python",
   "name": "python",
   "nbconvert_exporter": "python",
   "pygments_lexer": "ipython3",
   "version": "3.7.6"
  }
 },
 "nbformat": 4,
 "nbformat_minor": 4
}
