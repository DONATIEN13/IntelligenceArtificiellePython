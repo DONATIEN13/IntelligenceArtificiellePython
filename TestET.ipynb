{
  "nbformat": 4,
  "nbformat_minor": 0,
  "metadata": {
    "colab": {
      "name": "TestET.ipynb",
      "version": "0.3.2",
      "provenance": [],
      "collapsed_sections": [],
      "include_colab_link": true
    },
    "kernelspec": {
      "name": "python3",
      "display_name": "Python 3"
    }
  },
  "cells": [
    {
      "cell_type": "markdown",
      "metadata": {
        "id": "view-in-github",
        "colab_type": "text"
      },
      "source": [
        "<a href=\"https://colab.research.google.com/github/EmmanuelADAM/IntelligenceArtificiellePython/blob/master/TestET.ipynb\" target=\"_parent\"><img src=\"https://colab.research.google.com/assets/colab-badge.svg\" alt=\"Open In Colab\"/></a>"
      ]
    },
    {
      "metadata": {
        "id": "3qF8xmpAdACr",
        "colab_type": "text"
      },
      "cell_type": "markdown",
      "source": [
        "#Exemple d'apprentissage du ET avec TensorFlow\n"
      ]
    },
    {
      "metadata": {
        "id": "JZpJB9iOdRS3",
        "colab_type": "text"
      },
      "cell_type": "markdown",
      "source": [
        "##Importer les librairires"
      ]
    },
    {
      "metadata": {
        "id": "odDg9S7xdFsv",
        "colab_type": "code",
        "colab": {}
      },
      "cell_type": "code",
      "source": [
        "import tensorflow as tf\n",
        "from tensorflow import keras\n",
        "import numpy as np"
      ],
      "execution_count": 0,
      "outputs": []
    },
    {
      "metadata": {
        "id": "XN8WXXdTdXx0",
        "colab_type": "text"
      },
      "cell_type": "markdown",
      "source": [
        "---\n",
        "\n",
        "***Définir les entrées et sorties attendues***\n"
      ]
    },
    {
      "metadata": {
        "id": "A1mjGN2Bb5Ki",
        "colab_type": "code",
        "colab": {}
      },
      "cell_type": "code",
      "source": [
        "entrees = np.array([[0,0],[0,1],[1,0],[1,1]], float)\n",
        "sorties = np.array([[0],[0],[0],[1]], float)"
      ],
      "execution_count": 0,
      "outputs": []
    },
    {
      "metadata": {
        "id": "SC-1MnShdwe0",
        "colab_type": "text"
      },
      "cell_type": "markdown",
      "source": [
        "---\n",
        "\n",
        "***Choisir le modèle de réseau*** (*ici les couches sont séquentielles*)"
      ]
    },
    {
      "metadata": {
        "id": "WbST4EmqcCdJ",
        "colab_type": "code",
        "colab": {}
      },
      "cell_type": "code",
      "source": [
        "model = keras.Sequential()"
      ],
      "execution_count": 0,
      "outputs": []
    },
    {
      "metadata": {
        "id": "Jo5Ej8kkd8nh",
        "colab_type": "text"
      },
      "cell_type": "markdown",
      "source": [
        "---\n",
        "\n",
        "***Définir l'architecture du réseau*** (*ici ajout d'une couche constituée de 1 neurone en sortie, de 2 neurones en entrée + un Bias, utilisation de la sigmoïde comme fonction d'activation*)"
      ]
    },
    {
      "metadata": {
        "id": "Vr6dcOJicGYM",
        "colab_type": "code",
        "colab": {}
      },
      "cell_type": "code",
      "source": [
        "avec_bias = True\n",
        "model.add(keras.layers.Dense(1, input_dim=2, use_bias=avec_bias, activation=tf.sigmoid))"
      ],
      "execution_count": 0,
      "outputs": []
    },
    {
      "metadata": {
        "id": "8L4LxSBWeaF1",
        "colab_type": "text"
      },
      "cell_type": "markdown",
      "source": [
        "---\n",
        "\n",
        "***Compiler le  réseau*** * (ici, on précise que l'algo de correction d'erreur est 'Adamax', et que l'erreur calculée est la moyenne des valeurs absolues des erreurs commises)*"
      ]
    },
    {
      "metadata": {
        "id": "HlnG97g7cQKW",
        "colab_type": "code",
        "colab": {}
      },
      "cell_type": "code",
      "source": [
        "model.compile(optimizer=tf.keras.optimizers.Adamax(), loss='MAE')"
      ],
      "execution_count": 0,
      "outputs": []
    },
    {
      "metadata": {
        "id": "rZ4IQ-bIdtN1",
        "colab_type": "text"
      },
      "cell_type": "markdown",
      "source": [
        "---\n",
        "\n",
        "***Entraîner le réseau*** (*ici on ne le fait pas parler, et on lance 10000 cylces d'apprentissage*)"
      ]
    },
    {
      "metadata": {
        "id": "ddTla-J_cfz8",
        "colab_type": "code",
        "outputId": "7082895e-ac9f-410e-ebeb-8ea1a1cd22d2",
        "colab": {
          "base_uri": "https://localhost:8080/",
          "height": 34
        }
      },
      "cell_type": "code",
      "source": [
        "model.fit(entrees, sorties, verbose=0, epochs=10000)"
      ],
      "execution_count": 29,
      "outputs": [
        {
          "output_type": "execute_result",
          "data": {
            "text/plain": [
              "<tensorflow.python.keras.callbacks.History at 0x7f223cb75588>"
            ]
          },
          "metadata": {
            "tags": []
          },
          "execution_count": 29
        }
      ]
    },
    {
      "metadata": {
        "id": "I0zBYIALlDYp",
        "colab_type": "text"
      },
      "cell_type": "markdown",
      "source": [
        "---\n",
        "\n",
        "***Vérifier le réseau*** (*Etape facultative, en générale on le teste sur d'autres exemples. Ici, on lui demande de calculer la sortie pour chaque exemple de l'ensemble d'entraînement*)"
      ]
    },
    {
      "metadata": {
        "id": "Z89vptAXcuDM",
        "colab_type": "code",
        "colab": {}
      },
      "cell_type": "code",
      "source": [
        "predictions = model.predict(entrees)"
      ],
      "execution_count": 0,
      "outputs": []
    },
    {
      "metadata": {
        "id": "N38spzckmMMJ",
        "colab_type": "text"
      },
      "cell_type": "markdown",
      "source": [
        "---\n",
        "**Affichage des résultats** (*on affiche les entrées, la sortie attendue, la sortie calculées ainsi que les poids appliquées aux entrées et au signal bias*) "
      ]
    },
    {
      "metadata": {
        "id": "E7Lluiifcx0b",
        "colab_type": "code",
        "colab": {
          "base_uri": "https://localhost:8080/",
          "height": 153
        },
        "outputId": "c07bc810-f2d9-4a2f-e52c-4cbb461174c8"
      },
      "cell_type": "code",
      "source": [
        "print(\"verification\")\n",
        "for i in range(0, len(entrees)):\n",
        "    print(entrees[i][0], \" - \", entrees[i][1], \" attendu \", sorties[i], \" trouvé \",  predictions[i])\n",
        "\n",
        "ws = model.get_weights()\n",
        "print(\"poids pour entree x = \" + str(ws[0][0][0]))\n",
        "print(\"poids pour entree y = \" + str(ws[0][1][0]))\n",
        "if(avec_bias):print(\"poids pour bias = \" + str(ws[1][0]))"
      ],
      "execution_count": 31,
      "outputs": [
        {
          "output_type": "stream",
          "text": [
            "verification\n",
            "0.0  -  0.0  attendu  [0.]  trouvé  [1.6615226e-07]\n",
            "0.0  -  1.0  attendu  [0.]  trouvé  [1.6643455e-07]\n",
            "1.0  -  0.0  attendu  [0.]  trouvé  [1.6643455e-07]\n",
            "1.0  -  1.0  attendu  [1.]  trouvé  [0.9999907]\n",
            "poids pour entree x = 12.43875\n",
            "poids pour entree y = 12.438749\n",
            "poids pour bias = -23.613043\n"
          ],
          "name": "stdout"
        }
      ]
    }
  ]
}