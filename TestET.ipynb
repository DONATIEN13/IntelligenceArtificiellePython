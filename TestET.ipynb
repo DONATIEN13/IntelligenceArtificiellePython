{
  "nbformat": 4,
  "nbformat_minor": 0,
  "metadata": {
    "colab": {
      "name": "TestET.ipynb",
      "version": "0.3.2",
      "provenance": [],
      "collapsed_sections": []
    },
    "kernelspec": {
      "name": "python3",
      "display_name": "Python 3"
    }
  },
  "cells": [
    {
      "cell_type": "markdown",
      "metadata": {
        "id": "view-in-github",
        "colab_type": "text"
      },
      "source": [
        "<a href=\"https://colab.research.google.com/github/EmmanuelADAM/IntelligenceArtificiellePython/blob/master/TestET.ipynb\" target=\"_parent\"><img src=\"https://colab.research.google.com/assets/colab-badge.svg\" alt=\"Open In Colab\"/></a>"
      ]
    },
    {
      "metadata": {
        "id": "3qF8xmpAdACr",
        "colab_type": "text"
      },
      "cell_type": "markdown",
      "source": [
        "#Exemple d'apprentissage du ET avec TensorFlow\n"
      ]
    },
    {
      "metadata": {
        "id": "JZpJB9iOdRS3",
        "colab_type": "text"
      },
      "cell_type": "markdown",
      "source": [
        "##Importer les librairires"
      ]
    },
    {
      "metadata": {
        "id": "odDg9S7xdFsv",
        "colab_type": "code",
        "colab": {}
      },
      "cell_type": "code",
      "source": [
        "import tensorflow.keras as keras\n",
        "from tensorflow.keras.models import Sequential\n",
        "from tensorflow.keras.layers import Dense\n",
        "import numpy as np"
      ],
      "execution_count": 0,
      "outputs": []
    },
    {
      "metadata": {
        "id": "XN8WXXdTdXx0",
        "colab_type": "text"
      },
      "cell_type": "markdown",
      "source": [
        "---\n",
        "\n",
        "***Définir les entrées et sorties attendues***\n"
      ]
    },
    {
      "metadata": {
        "id": "A1mjGN2Bb5Ki",
        "colab_type": "code",
        "colab": {}
      },
      "cell_type": "code",
      "source": [
        "entrees = np.array([[0,0],[0,1],[1,0],[1,1]], float)\n",
        "sorties = np.array([[0],[0],[0],[1]], float)"
      ],
      "execution_count": 0,
      "outputs": []
    },
    {
      "metadata": {
        "id": "SC-1MnShdwe0",
        "colab_type": "text"
      },
      "cell_type": "markdown",
      "source": [
        "---\n",
        "\n",
        "***Choisir le modèle de réseau*** (*ici les couches sont séquentielles*)"
      ]
    },
    {
      "metadata": {
        "id": "WbST4EmqcCdJ",
        "colab_type": "code",
        "colab": {}
      },
      "cell_type": "code",
      "source": [
        "model = Sequential()"
      ],
      "execution_count": 0,
      "outputs": []
    },
    {
      "metadata": {
        "id": "Jo5Ej8kkd8nh",
        "colab_type": "text"
      },
      "cell_type": "markdown",
      "source": [
        "---\n",
        "\n",
        "***Définir l'architecture du réseau*** (*ici ajout d'une couche constituée de 1 neurone en sortie, de 3 neurones en entrée (2 contenant les valeurs + un Bias (émettant toujours le signal 1)), utilisation de la sigmoïde comme fonction d'activation*)"
      ]
    },
    {
      "metadata": {
        "id": "Vr6dcOJicGYM",
        "colab_type": "code",
        "colab": {}
      },
      "cell_type": "code",
      "source": [
        "avec_bias = True\n",
        "model.add(Dense(1, input_dim=2, use_bias=avec_bias, activation='sigmoid'))"
      ],
      "execution_count": 0,
      "outputs": []
    },
    {
      "metadata": {
        "id": "8L4LxSBWeaF1",
        "colab_type": "text"
      },
      "cell_type": "markdown",
      "source": [
        "---\n",
        "\n",
        "***Compiler le  réseau*** * (ici, on précise que l'algo de correction d'erreur est 'Adamax', et que l'erreur calculée est la moyenne des valeurs absolues des erreurs commises)*"
      ]
    },
    {
      "metadata": {
        "id": "HlnG97g7cQKW",
        "colab_type": "code",
        "colab": {}
      },
      "cell_type": "code",
      "source": [
        "model.compile(optimizer='adamax', loss='MAE')"
      ],
      "execution_count": 0,
      "outputs": []
    },
    {
      "metadata": {
        "id": "rZ4IQ-bIdtN1",
        "colab_type": "text"
      },
      "cell_type": "markdown",
      "source": [
        "---\n",
        "\n",
        "***Entraîner le réseau*** (*ici on ne le fait pas parler, et on lance 10000 cylces d'apprentissage*)"
      ]
    },
    {
      "metadata": {
        "id": "ddTla-J_cfz8",
        "colab_type": "code",
        "outputId": "3f251574-0acf-4b59-e480-3e736b427625",
        "colab": {
          "base_uri": "https://localhost:8080/",
          "height": 34
        }
      },
      "cell_type": "code",
      "source": [
        "model.fit(entrees, sorties, verbose=0, epochs=10000)"
      ],
      "execution_count": 14,
      "outputs": [
        {
          "output_type": "execute_result",
          "data": {
            "text/plain": [
              "<tensorflow.python.keras.callbacks.History at 0x7fc9d48c27b8>"
            ]
          },
          "metadata": {
            "tags": []
          },
          "execution_count": 14
        }
      ]
    },
    {
      "metadata": {
        "id": "I0zBYIALlDYp",
        "colab_type": "text"
      },
      "cell_type": "markdown",
      "source": [
        "---\n",
        "\n",
        "***Vérifier le réseau*** (*Etape facultative, en générale on le teste sur d'autres exemples. Ici, on lui demande de calculer la sortie pour chaque exemple de l'ensemble d'entraînement*)"
      ]
    },
    {
      "metadata": {
        "id": "Z89vptAXcuDM",
        "colab_type": "code",
        "colab": {}
      },
      "cell_type": "code",
      "source": [
        "predictions = model.predict(entrees)"
      ],
      "execution_count": 0,
      "outputs": []
    },
    {
      "metadata": {
        "id": "N38spzckmMMJ",
        "colab_type": "text"
      },
      "cell_type": "markdown",
      "source": [
        "---\n",
        "**Affichage des résultats** (*on affiche les entrées, la sortie attendue, la sortie calculées ainsi que les poids appliquées aux entrées et au signal bias*) "
      ]
    },
    {
      "metadata": {
        "id": "E7Lluiifcx0b",
        "colab_type": "code",
        "outputId": "a68a8d3f-24f5-4f70-95fc-a215b158ee09",
        "colab": {
          "base_uri": "https://localhost:8080/",
          "height": 153
        }
      },
      "cell_type": "code",
      "source": [
        "print(\"verification\")\n",
        "for i in range(0, len(entrees)):\n",
        "    print(entrees[i][0], \" - \", entrees[i][1], \" attendu \", sorties[i], \" trouvé \",  predictions[i])\n",
        "\n",
        "ws = model.get_weights()\n",
        "print(\"poids pour entree x = \" + str(ws[0][0][0]))\n",
        "print(\"poids pour entree y = \" + str(ws[0][1][0]))\n",
        "if(avec_bias):print(\"poids pour bias = \" + str(ws[1][0]))"
      ],
      "execution_count": 16,
      "outputs": [
        {
          "output_type": "stream",
          "text": [
            "verification\n",
            "0.0  -  0.0  attendu  [0.]  trouvé  [1.8517728e-09]\n",
            "0.0  -  1.0  attendu  [0.]  trouvé  [0.00122396]\n",
            "1.0  -  0.0  attendu  [0.]  trouvé  [0.00122068]\n",
            "1.0  -  1.0  attendu  [1.]  trouvé  [0.9987651]\n",
            "poids pour entree x = 13.399996\n",
            "poids pour entree y = 13.402682\n",
            "poids pour bias = -20.107122\n"
          ],
          "name": "stdout"
        }
      ]
    }
  ]
}
