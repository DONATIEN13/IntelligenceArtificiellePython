{
  "nbformat": 4,
  "nbformat_minor": 0,
  "metadata": {
    "colab": {
      "name": "TP_DeepLearningM1TNSI.ipynb",
      "version": "0.3.2",
      "provenance": [],
      "collapsed_sections": [],
      "toc_visible": true,
      "include_colab_link": true
    },
    "kernelspec": {
      "name": "python3",
      "display_name": "Python 3"
    }
  },
  "cells": [
    {
      "cell_type": "markdown",
      "metadata": {
        "id": "view-in-github",
        "colab_type": "text"
      },
      "source": [
        "<a href=\"https://colab.research.google.com/github/EmmanuelADAM/IntelligenceArtificiellePython/blob/master/TP_DeepLearningM1TNSI.ipynb\" target=\"_parent\"><img src=\"https://colab.research.google.com/assets/colab-badge.svg\" alt=\"Open In Colab\"/></a>"
      ]
    },
    {
      "metadata": {
        "id": "fVNE4BGIsOlY",
        "colab_type": "text"
      },
      "cell_type": "markdown",
      "source": [
        "# Modèle d'Analyse des Sentiments basé sur un apprentissage profond (Deep Learning)\n",
        "\n",
        "L’objectif de ce TP est de développer un modèle prédictif d’apprentissage automatique à l’aide de la représentation par sac de mots pour la classification des sentiments des critiques de films (données textuelles)."
      ]
    },
    {
      "metadata": {
        "id": "QQ5vas82illV",
        "colab_type": "text"
      },
      "cell_type": "markdown",
      "source": [
        "## Collection de données de critiques de films \n",
        "Télécharger la collection à partir de ce lien \n",
        "[Movie Review Polarity Dataset](https://www.cs.cornell.edu/people/pabo/movie-review-data/review_polarity.tar.gz)"
      ]
    },
    {
      "metadata": {
        "id": "3IlL2ANmisdv",
        "colab_type": "text"
      },
      "cell_type": "markdown",
      "source": [
        "## Préparation des données\n"
      ]
    },
    {
      "metadata": {
        "id": "evxYA2yqi11J",
        "colab_type": "text"
      },
      "cell_type": "markdown",
      "source": [
        "### Division en données d'entrainement et données de test\n",
        "\n",
        "Division en données d'entraînement (90%) et données de test (10%)\n"
      ]
    },
    {
      "metadata": {
        "id": "oiHdx0y1i8Bi",
        "colab_type": "text"
      },
      "cell_type": "markdown",
      "source": [
        "### Chargement et nettoyage des données\n",
        "\n",
        "Chargement et nettoyage des données\n",
        "  - Fractionner des jetons (**tokens**) sur un espace blanc\n",
        "  - Supprimer toute ponctuation \n",
        "  - Supprimer tous les mots qui ne sont pas uniquement composés de caractères alphabétiques\n",
        "  - Supprimer tous les mots connus qui sont des mots vides (stop words)\n",
        "  - Supprimer tous les mots dont la longueur est <= 1 caractère"
      ]
    },
    {
      "metadata": {
        "id": "4TodTL602bBv",
        "colab_type": "code",
        "colab": {
          "base_uri": "https://localhost:8080/",
          "height": 209
        },
        "outputId": "29afb309-42b5-478e-bae3-94b1902ad43b"
      },
      "cell_type": "code",
      "source": [
        "from google.colab import drive\n",
        "drive.mount('/content/drive')"
      ],
      "execution_count": 1,
      "outputs": [
        {
          "output_type": "stream",
          "text": [
            "Go to this URL in a browser: https://accounts.google.com/o/oauth2/auth?client_id=947318989803-6bn6qk8qdgf4n4g3pfee6491hc0brc4i.apps.googleusercontent.com&redirect_uri=urn%3Aietf%3Awg%3Aoauth%3A2.0%3Aoob&scope=email%20https%3A%2F%2Fwww.googleapis.com%2Fauth%2Fdocs.test%20https%3A%2F%2Fwww.googleapis.com%2Fauth%2Fdrive%20https%3A%2F%2Fwww.googleapis.com%2Fauth%2Fdrive.photos.readonly%20https%3A%2F%2Fwww.googleapis.com%2Fauth%2Fpeopleapi.readonly&response_type=code\n",
            "\n",
            "Enter your authorization code:\n",
            "··········\n",
            "Mounted at /content/drive\n"
          ],
          "name": "stdout"
        }
      ]
    },
    {
      "metadata": {
        "id": "-ZGiPV237Y7L",
        "colab_type": "code",
        "colab": {
          "base_uri": "https://localhost:8080/",
          "height": 34
        },
        "outputId": "088eb04e-0747-439b-8ba5-103c6aad0d5a"
      },
      "cell_type": "code",
      "source": [
        "drive.mount(\"/content/drive\", force_remount=True)"
      ],
      "execution_count": 5,
      "outputs": [
        {
          "output_type": "stream",
          "text": [
            "Mounted at /content/drive\n"
          ],
          "name": "stdout"
        }
      ]
    },
    {
      "metadata": {
        "id": "8qIzlXbev-Wa",
        "colab_type": "code",
        "colab": {
          "resources": {
            "http://localhost:8080/nbextensions/google.colab/files.js": {
              "data": "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",
              "ok": true,
              "headers": [
                [
                  "content-type",
                  "application/javascript"
                ]
              ],
              "status": 200,
              "status_text": ""
            }
          },
          "base_uri": "https://localhost:8080/",
          "height": 58
        },
        "outputId": "e439de2a-d12c-4c4d-ecd6-8c3fd268a67c"
      },
      "cell_type": "code",
      "source": [
        "from google.colab import files\n",
        "uploaded = files.upload()"
      ],
      "execution_count": 3,
      "outputs": [
        {
          "output_type": "display_data",
          "data": {
            "text/html": [
              "\n",
              "     <input type=\"file\" id=\"files-98c17d60-99f0-4322-b49b-aff116067e82\" name=\"files[]\" multiple disabled />\n",
              "     <output id=\"result-98c17d60-99f0-4322-b49b-aff116067e82\">\n",
              "      Upload widget is only available when the cell has been executed in the\n",
              "      current browser session. Please rerun this cell to enable.\n",
              "      </output>\n",
              "      <script src=\"/nbextensions/google.colab/files.js\"></script> "
            ],
            "text/plain": [
              "<IPython.core.display.HTML object>"
            ]
          },
          "metadata": {
            "tags": []
          }
        }
      ]
    },
    {
      "metadata": {
        "id": "n6qZZ-VJw8Wy",
        "colab_type": "code",
        "colab": {
          "base_uri": "https://localhost:8080/",
          "height": 68
        },
        "outputId": "4ec8a35c-1d01-4784-f1d6-df589ccd0242"
      },
      "cell_type": "code",
      "source": [
        "import nltk\n",
        "nltk.download(\"stopwords\")\n"
      ],
      "execution_count": 4,
      "outputs": [
        {
          "output_type": "stream",
          "text": [
            "[nltk_data] Downloading package stopwords to /root/nltk_data...\n",
            "[nltk_data]   Unzipping corpora/stopwords.zip.\n"
          ],
          "name": "stdout"
        },
        {
          "output_type": "execute_result",
          "data": {
            "text/plain": [
              "True"
            ]
          },
          "metadata": {
            "tags": []
          },
          "execution_count": 4
        }
      ]
    },
    {
      "metadata": {
        "id": "by0--ITCi-xa",
        "colab_type": "code",
        "colab": {}
      },
      "cell_type": "code",
      "source": [
        "from numpy import array\n",
        "from string import punctuation\n",
        "from os import listdir\n",
        "from collections import Counter\n",
        "from nltk.corpus import stopwords\n",
        "from keras.preprocessing.text import Tokenizer\n",
        "from keras.models import Sequential\n",
        "from keras.layers import Dense\n",
        "from keras.layers import Dropout\n",
        "\n",
        " \n",
        "# load doc into memory\n",
        "def load_doc(filename):\n",
        "\t# open the file as read only\n",
        "\tfile = open(filename, 'r')\n",
        "\t# read all text\n",
        "\ttext = file.read()\n",
        "\t# close the file\n",
        "\tfile.close()\n",
        "\treturn text\n",
        " \n",
        "# turn a doc into clean tokens\n",
        "def clean_doc(doc):\n",
        "\t# split into tokens by white space\n",
        "\ttokens = doc.split()\n",
        "\t# remove punctuation from each token\n",
        "\ttable = str.maketrans('', '', punctuation)\n",
        "\ttokens = [w.translate(table) for w in tokens]\n",
        "\t# remove remaining tokens that are not alphabetic\n",
        "\ttokens = [word for word in tokens if word.isalpha()]\n",
        "\t# filter out stop words\n",
        "\tstop_words = set(stopwords.words('english'))\n",
        "\ttokens = [w for w in tokens if not w in stop_words]\n",
        "\t# filter out short tokens\n",
        "\ttokens = [word for word in tokens if len(word) > 1]\n",
        "\treturn tokens\n",
        " "
      ],
      "execution_count": 0,
      "outputs": []
    },
    {
      "metadata": {
        "id": "0CpapoCR0Hzs",
        "colab_type": "code",
        "colab": {
          "base_uri": "https://localhost:8080/",
          "height": 74
        },
        "outputId": "f2399fdf-56a4-4f98-889e-f335d5236415"
      },
      "cell_type": "code",
      "source": [
        "# load a document\n",
        "filename = '/content/drive/My Drive/txt_sentoken/neg/cv001_19502.txt'\n",
        "text = load_doc(filename)\n",
        "tokens = clean_doc(text)\n",
        "print(tokens)\n",
        "# load another document\n",
        "filename = '/content/drive/My Drive/txt_sentoken/pos/cv175_6964.txt'\n",
        "text = load_doc(filename)\n",
        "tokens = clean_doc(text)\n",
        "print(tokens)"
      ],
      "execution_count": 10,
      "outputs": [
        {
          "output_type": "stream",
          "text": [
            "['happy', 'bastards', 'quick', 'movie', 'review', 'damn', 'bug', 'got', 'head', 'start', 'movie', 'starring', 'jamie', 'lee', 'curtis', 'another', 'baldwin', 'brother', 'william', 'time', 'story', 'regarding', 'crew', 'tugboat', 'comes', 'across', 'deserted', 'russian', 'tech', 'ship', 'strangeness', 'kick', 'power', 'back', 'little', 'know', 'power', 'within', 'going', 'gore', 'bringing', 'action', 'sequences', 'virus', 'still', 'feels', 'empty', 'like', 'movie', 'going', 'flash', 'substance', 'dont', 'know', 'crew', 'really', 'middle', 'nowhere', 'dont', 'know', 'origin', 'took', 'ship', 'big', 'pink', 'flashy', 'thing', 'hit', 'mir', 'course', 'dont', 'know', 'donald', 'sutherland', 'stumbling', 'around', 'drunkenly', 'throughout', 'hey', 'lets', 'chase', 'people', 'around', 'robots', 'acting', 'average', 'even', 'likes', 'curtis', 'youre', 'likely', 'get', 'kick', 'work', 'halloween', 'sutherland', 'wasted', 'baldwin', 'well', 'hes', 'acting', 'like', 'baldwin', 'course', 'real', 'star', 'stan', 'winstons', 'robot', 'design', 'schnazzy', 'cgi', 'occasional', 'good', 'gore', 'shot', 'like', 'picking', 'someones', 'brain', 'robots', 'body', 'parts', 'really', 'turn', 'heres', 'movie', 'otherwise', 'pretty', 'much', 'sunken', 'ship', 'movie']\n",
            "['capsule', 'earthy', 'experimental', 'difficult', 'shockingly', 'frank', 'even', 'ultimately', 'refreshing', 'story', 'black', 'man', 'run', 'cops', 'first', 'minutes', 'sweet', 'sweetbacks', 'baad', 'asssss', 'song', 'yes', 'checked', 'thats', 'correct', 'number', 'ss', 'without', 'dialogue', 'eerie', 'montages', 'sounds', 'young', 'boy', 'obviously', 'malnourished', 'taken', 'fed', 'several', 'loving', 'mothersurrogate', 'figures', 'one', 'takes', 'boy', 'bed', 'sexual', 'initation', 'underneath', 'title', 'credits', 'thats', 'far', 'confrontatory', 'shocking', 'ten', 'basic', 'instincts', 'probably', 'directness', 'clumsiness', 'real', 'life', 'something', 'used', 'seeing', 'screen', 'one', 'tough', 'movie', 'swallow', 'matter', 'probably', 'reflects', 'pallid', 'unchallenging', 'movies', 'gotten', 'lately', 'suspect', 'sex', 'scenes', 'movies', 'like', 'el', 'topo', 'salo', 'would', 'probably', 'melt', 'synapses', 'modern', 'audiences', 'plot', 'simple', 'simpleminded', 'sweetback', 'hassled', 'two', 'white', 'cops', 'apparently', 'looking', 'excuse', 'beat', 'black', 'man', 'breaks', 'bonds', 'runs', 'like', 'hell', 'along', 'way', 'moves', 'good', 'many', 'kinds', 'environments', 'seen', 'serious', 'light', 'movies', 'matter', 'slums', 'missions', 'ghetto', 'lesser', 'movies', 'sweetback', 'would', 'machinegunning', 'everything', 'sight', 'end', 'credits', 'would', 'roll', 'pile', 'bodies', 'one', 'get', 'taken', 'kind', 'tour', 'depressing', 'anarchic', 'world', 'sweetback', 'takes', 'granted', 'ssbas', 'first', 'appeared', 'promptly', 'rated', 'allwhite', 'jury', 'director', 'melvin', 'van', 'peebles', 'crowed', 'legendary', 'ad', 'campaigns', 'hardly', 'surprising', 'theres', 'good', 'deal', 'sex', 'movie', 'handled', 'way', 'thats', 'unsettlingly', 'frank', 'frankness', 'spills', 'rest', 'movie', 'one', 'scene', 'sweetback', 'visits', 'friends', 'house', 'hope', 'getting', 'sanctuary', 'man', 'chats', 'toilet', 'used', 'coming', 'close', 'people', 'real', 'life', 'let', 'alone', 'movies', 'especially', 'people', 'made', 'glamorous', 'movie', 'also', 'full', 'experimental', 'stylistics', 'relatively', 'unused', 'today', 'probably', 'seem', 'curiously', 'fresh', 'new', 'van', 'peebles', 'hands', 'one', 'scene', 'man', 'interrogated', 'cops', 'loaded', 'full', 'menacing', 'energy', 'fire', 'gun', 'inches', 'ears', 'suggest', 'deafness', 'cleverly', 'edited', 'soundtrack', 'another', 'note', 'ssbas', 'much', 'antiwhite', 'would', 'easy', 'antiauthority', 'movie', 'goes', 'demonstrate', 'authority', 'exists', 'many', 'forms', 'governments', 'churches', 'even', 'paranoid', 'inside', 'ones', 'mind', 'ssbas', 'ultimately', 'thirsting', 'freedom', 'looks', 'like', 'could', 'use', 'little', 'movie', 'diet', 'god', 'knows']\n"
          ],
          "name": "stdout"
        }
      ]
    },
    {
      "metadata": {
        "id": "1yo75YEIjWIT",
        "colab_type": "text"
      },
      "cell_type": "markdown",
      "source": [
        "### déninir un vocabulaire"
      ]
    },
    {
      "metadata": {
        "id": "Axlsvtg8jhAr",
        "colab_type": "code",
        "outputId": "25e5f9e1-119f-487f-a62a-1bb1c3514bd2",
        "colab": {
          "base_uri": "https://localhost:8080/",
          "height": 91
        }
      },
      "cell_type": "code",
      "source": [
        "from string import punctuation\n",
        "from os import listdir\n",
        "from collections import Counter\n",
        "from nltk.corpus import stopwords\n",
        "\n",
        "# load doc and add to vocab\n",
        "def add_doc_to_vocab(filename, vocab):\n",
        "\t# load doc\n",
        "\tdoc = load_doc(filename)\n",
        "\t# clean doc\n",
        "\ttokens = clean_doc(doc)\n",
        "\t# update counts\n",
        "\tvocab.update(tokens)\n",
        "\n",
        "# load some docs in a directory\n",
        "def process_docs(directory, vocab):\n",
        "\t# walk through all files in the folder\n",
        "\tfor filename in listdir(directory):\n",
        "\t\t# skip any reviews that start by cv9....(kept for the test set)\n",
        "\t\tif filename.startswith('cv9'):\n",
        "\t\t\tcontinue\n",
        "\t\t# create the full path of the file to open\n",
        "\t\tpath = directory + '/' + filename\n",
        "\t\t# add doc to vocab\n",
        "\t\tadd_doc_to_vocab(path, vocab)\n",
        "\n",
        "    \n",
        "# define vocab\n",
        "vocab = Counter()\n",
        "# add all docs to vocab\n",
        "process_docs('/content/drive/My Drive/txt_sentoken/pos', vocab)\n",
        "process_docs('/content/drive/My Drive/txt_sentoken/neg', vocab)\n",
        "# print the size of the vocab\n",
        "print(len(vocab))\n",
        "# print the 50 top words in the vocab\n",
        "print(vocab.most_common(50))"
      ],
      "execution_count": 11,
      "outputs": [
        {
          "output_type": "stream",
          "text": [
            "44276\n",
            "[('film', 7983), ('one', 4946), ('movie', 4826), ('like', 3201), ('even', 2262), ('good', 2080), ('time', 2041), ('story', 1907), ('films', 1873), ('would', 1844), ('much', 1824), ('also', 1757), ('characters', 1735), ('get', 1724), ('character', 1703), ('two', 1643), ('first', 1588), ('see', 1557), ('way', 1515), ('well', 1511), ('make', 1418), ('really', 1407), ('little', 1351), ('life', 1334), ('plot', 1288), ('people', 1269), ('could', 1248), ('bad', 1248), ('scene', 1241), ('movies', 1238), ('never', 1201), ('best', 1179), ('new', 1140), ('scenes', 1135), ('man', 1131), ('many', 1130), ('doesnt', 1118), ('know', 1092), ('dont', 1086), ('hes', 1024), ('great', 1014), ('another', 992), ('action', 985), ('love', 977), ('us', 967), ('go', 952), ('director', 948), ('end', 946), ('something', 945), ('still', 936)]\n"
          ],
          "name": "stdout"
        }
      ]
    },
    {
      "metadata": {
        "id": "EDFdsl97jq0t",
        "colab_type": "code",
        "outputId": "37608158-7c39-4225-953f-3b7aa5939395",
        "colab": {
          "base_uri": "https://localhost:8080/",
          "height": 34
        }
      },
      "cell_type": "code",
      "source": [
        "# keep tokens with a min occurrence\n",
        "min_occurance = 2\n",
        "tokens = [k for k,c in vocab.items() if c >= min_occurance]\n",
        "print(len(tokens))"
      ],
      "execution_count": 13,
      "outputs": [
        {
          "output_type": "stream",
          "text": [
            "25767\n"
          ],
          "name": "stdout"
        }
      ]
    },
    {
      "metadata": {
        "id": "ApMJ_0gHjuEv",
        "colab_type": "code",
        "colab": {}
      },
      "cell_type": "code",
      "source": [
        "# save list to file\n",
        "def save_list(lines, filename):\n",
        "\t# convert lines to a single blob of text\n",
        "\tdata = '\\n'.join(lines)\n",
        "\t# open file\n",
        "\tfile = open(filename, 'w')\n",
        "\t# write text\n",
        "\tfile.write(data)\n",
        "\t# close file\n",
        "\tfile.close()\n",
        "\n",
        "# save tokens to a vocabulary file\n",
        "save_list(tokens, 'vocab.txt')"
      ],
      "execution_count": 0,
      "outputs": []
    },
    {
      "metadata": {
        "id": "v2oK8x7bj5CU",
        "colab_type": "text"
      },
      "cell_type": "markdown",
      "source": [
        "## représentation en sac de mots"
      ]
    },
    {
      "metadata": {
        "id": "wdd9RpBskGUy",
        "colab_type": "text"
      },
      "cell_type": "markdown",
      "source": [
        "### convertir les critiques en lignes de jetons \n"
      ]
    },
    {
      "metadata": {
        "id": "7Sw6xGMHkUP1",
        "colab_type": "code",
        "colab": {}
      },
      "cell_type": "code",
      "source": [
        "# load doc, clean and return line of tokens\n",
        "def doc_to_line(filename, vocab):\n",
        "\t# load the doc\n",
        "\tdoc = load_doc(filename)\n",
        "\t# clean doc\n",
        "\ttokens = clean_doc(doc)\n",
        "\t# filter by vocab\n",
        "\ttokens = [w for w in tokens if w in vocab]\n",
        "\treturn ' '.join(tokens)"
      ],
      "execution_count": 0,
      "outputs": []
    },
    {
      "metadata": {
        "id": "8bE7XaHdka1O",
        "colab_type": "code",
        "colab": {}
      },
      "cell_type": "code",
      "source": [
        "# load all docs in a directory\n",
        "def process_docs(directory, vocab, is_train=True):\n",
        "\tlines = list()\n",
        "\t# walk through all files in the folder\n",
        "\tfor filename in listdir(directory):\n",
        "\t\t# skip any reviews in the test set\n",
        "\t\tif is_train and filename.startswith('cv9'):\n",
        "\t\t\tcontinue\n",
        "\t\tif not is_train and not filename.startswith('cv9'):\n",
        "\t\t\tcontinue\n",
        "\t\t# create the full path of the file to open\n",
        "\t\tpath = directory + '/' + filename\n",
        "\t\t# load and clean the doc\n",
        "\t\tline = doc_to_line(path, vocab)\n",
        "\t\t# add to list\n",
        "\t\tlines.append(line)\n",
        "\treturn lines"
      ],
      "execution_count": 0,
      "outputs": []
    },
    {
      "metadata": {
        "id": "o0ixOikAkfyN",
        "colab_type": "code",
        "outputId": "4eb425e8-ea13-4d32-bfb4-ae9977a48115",
        "colab": {
          "base_uri": "https://localhost:8080/",
          "height": 34
        }
      },
      "cell_type": "code",
      "source": [
        "# load the vocabulary\n",
        "vocab_filename = 'vocab.txt'\n",
        "vocab = load_doc(vocab_filename)\n",
        "vocab = vocab.split()\n",
        "vocab = set(vocab)\n",
        "# load all training reviews\n",
        "positive_lines = process_docs('/content/drive/My Drive/txt_sentoken/pos', vocab)\n",
        "negative_lines = process_docs('/content/drive/My Drive/txt_sentoken/neg', vocab)\n",
        "# summarize what we have\n",
        "print(len(positive_lines), len(negative_lines))"
      ],
      "execution_count": 17,
      "outputs": [
        {
          "output_type": "stream",
          "text": [
            "900 900\n"
          ],
          "name": "stdout"
        }
      ]
    },
    {
      "metadata": {
        "id": "ZTJ5fim2k1fk",
        "colab_type": "text"
      },
      "cell_type": "markdown",
      "source": [
        "### convertir les critiques de films aux vecteurs des sac de mots "
      ]
    },
    {
      "metadata": {
        "id": "zVxIx3dtk9HF",
        "colab_type": "code",
        "colab": {}
      },
      "cell_type": "code",
      "source": [
        "import keras\n",
        "# create the tokenizer\n",
        "tokenizer = keras.preprocessing.text.Tokenizer()\n",
        "# fit the tokenizer on the documents\n",
        "docs = positive_lines + negative_lines\n",
        "tokenizer.fit_on_texts(docs)"
      ],
      "execution_count": 0,
      "outputs": []
    },
    {
      "metadata": {
        "id": "SGd85sb5k_Xs",
        "colab_type": "code",
        "outputId": "d00dbddf-828e-481e-c338-cca2c3db2cb5",
        "colab": {
          "base_uri": "https://localhost:8080/",
          "height": 34
        }
      },
      "cell_type": "code",
      "source": [
        "# encode training data set\n",
        "Xtrain = tokenizer.texts_to_matrix(docs, mode='freq')\n",
        "print(Xtrain.shape)"
      ],
      "execution_count": 19,
      "outputs": [
        {
          "output_type": "stream",
          "text": [
            "(1800, 25768)\n"
          ],
          "name": "stdout"
        }
      ]
    },
    {
      "metadata": {
        "id": "twHl-RSElEB_",
        "colab_type": "code",
        "outputId": "3dad5f5a-39fd-40dd-d204-f7030f98e702",
        "colab": {
          "base_uri": "https://localhost:8080/",
          "height": 34
        }
      },
      "cell_type": "code",
      "source": [
        "# load all test reviews\n",
        "positive_lines = process_docs('/content/drive/My Drive/txt_sentoken/pos', vocab, False)\n",
        "negative_lines = process_docs('/content/drive/My Drive/txt_sentoken/neg', vocab, False)\n",
        "docs = negative_lines + positive_lines\n",
        "# encode training data set\n",
        "Xtest = tokenizer.texts_to_matrix(docs, mode='freq')\n",
        "print(Xtest.shape)"
      ],
      "execution_count": 20,
      "outputs": [
        {
          "output_type": "stream",
          "text": [
            "(200, 25768)\n"
          ],
          "name": "stdout"
        }
      ]
    },
    {
      "metadata": {
        "id": "mCJRY1mTlnls",
        "colab_type": "text"
      },
      "cell_type": "markdown",
      "source": [
        "## Modèle d'analyse des sentiments"
      ]
    },
    {
      "metadata": {
        "id": "uruPxsQil-gZ",
        "colab_type": "code",
        "colab": {}
      },
      "cell_type": "code",
      "source": [
        "#TODO: donnez le nb de mots retenus\n",
        "n_words = "
      ],
      "execution_count": 0,
      "outputs": []
    },
    {
      "metadata": {
        "id": "gud3q8CYmA80",
        "colab_type": "code",
        "colab": {}
      },
      "cell_type": "code",
      "source": [
        "from numpy import array\n",
        "#definition des sorties\n",
        "ytrain = array([0 for _ in range(900)] + [1 for _ in range(900)])\n",
        "ytest = array([0 for _ in range(100)] + [1 for _ in range(100)])"
      ],
      "execution_count": 0,
      "outputs": []
    },
    {
      "metadata": {
        "id": "67M4JqX2lNeu",
        "colab_type": "code",
        "colab": {}
      },
      "cell_type": "code",
      "source": [
        "# TODO: define network\n",
        "model = Sequential()\n",
        "# test differents nb of layers, nb of neurons in the layers,  \n",
        "# specify the activation functions, \n",
        "model.add(\n",
        "...\n",
        "model.add(\n",
        "# compile network // TODO: test several optimizer...\n",
        "model.compile(...."
      ],
      "execution_count": 0,
      "outputs": []
    },
    {
      "metadata": {
        "id": "rlYk8aKemF9b",
        "colab_type": "code",
        "outputId": "fd3f8d26-9e7c-4b6d-8cfa-72264f559bf8",
        "colab": {
          "base_uri": "https://localhost:8080/",
          "height": 1734
        }
      },
      "cell_type": "code",
      "source": [
        "# fit network // TODO test different epochs\n",
        "model.fit(Xtrain, ytrain, epochs=50, verbose=2)"
      ],
      "execution_count": 0,
      "outputs": [
        {
          "output_type": "stream",
          "text": [
            "Epoch 1/50\n",
            " - 3s - loss: 0.6932 - acc: 0.4950\n",
            "Epoch 2/50\n",
            " - 2s - loss: 0.6902 - acc: 0.6389\n",
            "Epoch 3/50\n",
            " - 2s - loss: 0.6674 - acc: 0.7694\n",
            "Epoch 4/50\n",
            " - 2s - loss: 0.5928 - acc: 0.8944\n",
            "Epoch 5/50\n",
            " - 2s - loss: 0.4568 - acc: 0.9417\n",
            "Epoch 6/50\n",
            " - 2s - loss: 0.3067 - acc: 0.9661\n",
            "Epoch 7/50\n",
            " - 2s - loss: 0.1929 - acc: 0.9811\n",
            "Epoch 8/50\n",
            " - 2s - loss: 0.1212 - acc: 0.9922\n",
            "Epoch 9/50\n",
            " - 2s - loss: 0.0788 - acc: 0.9956\n",
            "Epoch 10/50\n",
            " - 2s - loss: 0.0519 - acc: 0.9978\n",
            "Epoch 11/50\n",
            " - 2s - loss: 0.0363 - acc: 1.0000\n",
            "Epoch 12/50\n",
            " - 2s - loss: 0.0259 - acc: 1.0000\n",
            "Epoch 13/50\n",
            " - 2s - loss: 0.0195 - acc: 1.0000\n",
            "Epoch 14/50\n",
            " - 2s - loss: 0.0150 - acc: 1.0000\n",
            "Epoch 15/50\n",
            " - 2s - loss: 0.0118 - acc: 1.0000\n",
            "Epoch 16/50\n",
            " - 2s - loss: 0.0094 - acc: 1.0000\n",
            "Epoch 17/50\n",
            " - 2s - loss: 0.0078 - acc: 1.0000\n",
            "Epoch 18/50\n",
            " - 2s - loss: 0.0065 - acc: 1.0000\n",
            "Epoch 19/50\n",
            " - 2s - loss: 0.0055 - acc: 1.0000\n",
            "Epoch 20/50\n",
            " - 2s - loss: 0.0047 - acc: 1.0000\n",
            "Epoch 21/50\n",
            " - 2s - loss: 0.0041 - acc: 1.0000\n",
            "Epoch 22/50\n",
            " - 2s - loss: 0.0035 - acc: 1.0000\n",
            "Epoch 23/50\n",
            " - 2s - loss: 0.0031 - acc: 1.0000\n",
            "Epoch 24/50\n",
            " - 2s - loss: 0.0028 - acc: 1.0000\n",
            "Epoch 25/50\n",
            " - 2s - loss: 0.0025 - acc: 1.0000\n",
            "Epoch 26/50\n",
            " - 2s - loss: 0.0022 - acc: 1.0000\n",
            "Epoch 27/50\n",
            " - 2s - loss: 0.0020 - acc: 1.0000\n",
            "Epoch 28/50\n",
            " - 2s - loss: 0.0018 - acc: 1.0000\n",
            "Epoch 29/50\n",
            " - 2s - loss: 0.0016 - acc: 1.0000\n",
            "Epoch 30/50\n",
            " - 2s - loss: 0.0015 - acc: 1.0000\n",
            "Epoch 31/50\n",
            " - 2s - loss: 0.0014 - acc: 1.0000\n",
            "Epoch 32/50\n",
            " - 2s - loss: 0.0012 - acc: 1.0000\n",
            "Epoch 33/50\n",
            " - 2s - loss: 0.0011 - acc: 1.0000\n",
            "Epoch 34/50\n",
            " - 2s - loss: 0.0011 - acc: 1.0000\n",
            "Epoch 35/50\n",
            " - 2s - loss: 9.7084e-04 - acc: 1.0000\n",
            "Epoch 36/50\n",
            " - 2s - loss: 9.0043e-04 - acc: 1.0000\n",
            "Epoch 37/50\n",
            " - 2s - loss: 8.3732e-04 - acc: 1.0000\n",
            "Epoch 38/50\n",
            " - 2s - loss: 7.7665e-04 - acc: 1.0000\n",
            "Epoch 39/50\n",
            " - 2s - loss: 7.2250e-04 - acc: 1.0000\n",
            "Epoch 40/50\n",
            " - 2s - loss: 6.7358e-04 - acc: 1.0000\n",
            "Epoch 41/50\n",
            " - 2s - loss: 6.3034e-04 - acc: 1.0000\n",
            "Epoch 42/50\n",
            " - 2s - loss: 5.9055e-04 - acc: 1.0000\n",
            "Epoch 43/50\n",
            " - 2s - loss: 5.5197e-04 - acc: 1.0000\n",
            "Epoch 44/50\n",
            " - 2s - loss: 5.1860e-04 - acc: 1.0000\n",
            "Epoch 45/50\n",
            " - 2s - loss: 4.8630e-04 - acc: 1.0000\n",
            "Epoch 46/50\n",
            " - 2s - loss: 4.5774e-04 - acc: 1.0000\n",
            "Epoch 47/50\n",
            " - 2s - loss: 4.3061e-04 - acc: 1.0000\n",
            "Epoch 48/50\n",
            " - 2s - loss: 4.0735e-04 - acc: 1.0000\n",
            "Epoch 49/50\n",
            " - 2s - loss: 3.8329e-04 - acc: 1.0000\n",
            "Epoch 50/50\n",
            " - 2s - loss: 3.6213e-04 - acc: 1.0000\n"
          ],
          "name": "stdout"
        },
        {
          "output_type": "execute_result",
          "data": {
            "text/plain": [
              "<keras.callbacks.History at 0x7fbcd6ae85c0>"
            ]
          },
          "metadata": {
            "tags": []
          },
          "execution_count": 171
        }
      ]
    },
    {
      "metadata": {
        "id": "KVnJJYscmH4v",
        "colab_type": "code",
        "outputId": "48a6944d-004b-44fd-abb8-516909bc1202",
        "colab": {
          "base_uri": "https://localhost:8080/",
          "height": 34
        }
      },
      "cell_type": "code",
      "source": [
        "# evaluate\n",
        "loss, acc = model.evaluate(Xtest, ytest, verbose=0)\n",
        "print('Test Accuracy: %f' % (acc*100))"
      ],
      "execution_count": 0,
      "outputs": [
        {
          "output_type": "stream",
          "text": [
            "Test Accuracy: 90.500000\n"
          ],
          "name": "stdout"
        }
      ]
    },
    {
      "metadata": {
        "id": "ObKC8oW7mROA",
        "colab_type": "text"
      },
      "cell_type": "markdown",
      "source": [
        "## prédiction pour de nouvelles critiques"
      ]
    },
    {
      "metadata": {
        "id": "D3A6k30XmVxr",
        "colab_type": "code",
        "colab": {}
      },
      "cell_type": "code",
      "source": [
        "# classify a review as negative (0) or positive (1)\n",
        "def predict_sentiment(review, vocab, tokenizer, model):\n",
        "\t# clean\n",
        "\ttokens = clean_doc(review)\n",
        "\t# filter by vocab\n",
        "\ttokens = [w for w in tokens if w in vocab]\n",
        "\t# convert to line\n",
        "\tline = ' '.join(tokens)\n",
        "\t# encode\n",
        "\tencoded = tokenizer.texts_to_matrix([line], mode='freq')\n",
        "\t# prediction\n",
        "\tyhat = model.predict(encoded, verbose=0)\n",
        "\treturn round(yhat[0,0])"
      ],
      "execution_count": 0,
      "outputs": []
    },
    {
      "metadata": {
        "id": "VslEKt3WmYuI",
        "colab_type": "code",
        "outputId": "9bea6691-3ee7-45d2-e8ed-0dedd760a3d0",
        "colab": {
          "base_uri": "https://localhost:8080/",
          "height": 51
        }
      },
      "cell_type": "code",
      "source": [
        "# test positive text\n",
        "text = 'Best movie ever!'\n",
        "print(predict_sentiment(text, vocab, tokenizer, model))\n",
        "# test negative text\n",
        "text = 'This is a bad movie.'\n",
        "print(predict_sentiment(text, vocab, tokenizer, model))"
      ],
      "execution_count": 0,
      "outputs": [
        {
          "output_type": "stream",
          "text": [
            "1.0\n",
            "0.0\n"
          ],
          "name": "stdout"
        }
      ]
    }
  ]
}